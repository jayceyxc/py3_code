{
 "nbformat": 4,
 "nbformat_minor": 2,
 "metadata": {
  "language_info": {
   "name": "python",
   "codemirror_mode": {
    "name": "ipython",
    "version": 3
   },
   "version": "3.7.4-final"
  },
  "orig_nbformat": 2,
  "file_extension": ".py",
  "mimetype": "text/x-python",
  "name": "python",
  "npconvert_exporter": "python",
  "pygments_lexer": "ipython3",
  "version": 3,
  "kernelspec": {
   "name": "python37464bit5da62c7ed731412fa3edffa85776323d",
   "display_name": "Python 3.7.4 64-bit"
  }
 },
 "cells": [
  {
   "cell_type": "markdown",
   "metadata": {},
   "source": [
    "# 介绍Python正则表达式\n",
    "原文链接：\n",
    "[盘一盘 Python 系列特别篇 - 正则表达式](https://mp.weixin.qq.com/s/Tewaynja3ggkcpzAli-1YQ)\n"
   ]
  },
  {
   "cell_type": "markdown",
   "metadata": {},
   "source": [
    "正则表达式（Regular Expression, RE）就是一组定义某种搜索模式（pattern）的字符。"
   ]
  },
  {
   "cell_type": "markdown",
   "metadata": {},
   "source": [
    "## 原始字符串\n",
    "原始字符串（raw string）是所有的字符串都是直接按照字面的意思来使用，没有转义特殊或不能打印的字符，通常简称为 r-string。"
   ]
  },
  {
   "cell_type": "code",
   "execution_count": 1,
   "metadata": {},
   "outputs": [
    {
     "output_type": "stream",
     "name": "stdout",
     "text": "hello\nhello\n"
    }
   ],
   "source": [
    "# 如果没有转义字符，原始字符串和普通字符串是一样的，比如\n",
    "print('hello')\n",
    "print(r'hello')"
   ]
  },
  {
   "cell_type": "code",
   "execution_count": 2,
   "metadata": {},
   "outputs": [
    {
     "output_type": "stream",
     "name": "stdout",
     "text": "\blake\n\\blake\n"
    }
   ],
   "source": [
    "# 如果有转义字符（用反斜线 \\），原始字符串和普通字符串是不一样的，比如\n",
    "print('\\blake')\n",
    "print(r'\\blake')"
   ]
  },
  {
   "cell_type": "markdown",
   "metadata": {},
   "source": [
    "## 元字符\n",
    "元字符（meta character）就是一种自带特殊含义的字符，也叫特殊字符。比如 [] * + ? {} | () . ^ $ \\，原字符按用途可分五类：\n",
    "\n",
    "- 表示集合：[]\n",
    "- 表示次数：* + ? {}\n",
    "- 表示并列：|\n",
    "- 用于提取：()\n",
    "- 用于转义：. ^ $ \\"
   ]
  },
  {
   "cell_type": "code",
   "execution_count": 3,
   "metadata": {},
   "outputs": [],
   "source": [
    "# 首先定义一个函数，当在句子（是个字符串 str）没有发现模式 pat 时，返回“没有找到”，反之打印出所有符合模式的子字符串。\n",
    "import re\n",
    "\n",
    "def look_for(pat, str):\n",
    "    return '没有找到' if re.search(pat, str) is None else re.findall(pat, str)"
   ]
  },
  {
   "cell_type": "markdown",
   "metadata": {},
   "source": [
    "### 2.1 集合字符"
   ]
  },
  {
   "cell_type": "markdown",
   "metadata": {},
   "source": [
    "#### 中括号（square bracket）- []\n",
    "中括号表示一个字符集，即创建的模式匹配中括号里指定字符集中的任意一个字符，字符集有三种方式来表现：\n",
    "\n",
    "- 明确字符：\\[abc\\] 会匹配字符 a，b 或者 c\n",
    "- 范围字符：\\[a-z\\] 会匹配字符 a 到 z\n",
    "- 补集字符：\\[^6\\] 会匹配除了 6 以外的字符"
   ]
  },
  {
   "cell_type": "markdown",
   "metadata": {},
   "source": [
    "##### 明确字符\n",
    "匹配中括号里面的任意一个字符"
   ]
  },
  {
   "cell_type": "code",
   "execution_count": 5,
   "metadata": {},
   "outputs": [],
   "source": [
    "pat = r'[abc]'"
   ]
  },
  {
   "cell_type": "code",
   "execution_count": 6,
   "metadata": {},
   "outputs": [
    {
     "output_type": "stream",
     "name": "stdout",
     "text": "['a']\n['a', 'c']\n['c', 'b', 'a']\n没有找到\n"
    }
   ],
   "source": [
    "print( look_for(pat, 'a') )\n",
    "print( look_for(pat, 'ac') )\n",
    "print( look_for(pat, 'cba') )\n",
    "print( look_for(pat, 'steven') )"
   ]
  },
  {
   "cell_type": "markdown",
   "metadata": {},
   "source": [
    "##### 范围字符\n",
    "在 [ ] 中加入 - 即可设定范围，比如\n",
    "\n",
    "- \\[a-e\\] = \\[abcde\\]\n",
    "- \\[1-4\\] = \\[1234\\]\n",
    "- \\[a-ep\\] = \\[abcdep\\]\n",
    "- \\[0-38\\] = \\[01238\\]"
   ]
  },
  {
   "cell_type": "code",
   "execution_count": 7,
   "metadata": {},
   "outputs": [
    {
     "output_type": "stream",
     "name": "stdout",
     "text": "['p', 'e']\n没有找到\n"
    }
   ],
   "source": [
    "print( look_for(r'[a-ep]', 'person') )\n",
    "print( look_for(r'[0-38]', '666') )"
   ]
  },
  {
   "cell_type": "markdown",
   "metadata": {},
   "source": [
    "##### 补集字符\n",
    "在 [ ] 中加入 ^ 即可除去后面的字符集，比如\n",
    "\n",
    "- \\[^abc\\] 就是非 a, b, c 的字符\n",
    "- \\[^123\\] 就是非 1, 2, 3 的字符"
   ]
  },
  {
   "cell_type": "code",
   "execution_count": 8,
   "metadata": {},
   "outputs": [
    {
     "output_type": "stream",
     "name": "stdout",
     "text": "没有找到\n['s', 't', 'e', 'v', 'e', 'n']\n['4', '5', '6']\n['+', '=']\n"
    }
   ],
   "source": [
    "print( look_for(r'[^abc]', 'baba') )\n",
    "print( look_for(r'[^abc]', 'steven') )\n",
    "print( look_for(r'[^123]', '456') )\n",
    "print( look_for(r'[^123]', '1+2=3') )"
   ]
  },
  {
   "cell_type": "markdown",
   "metadata": {},
   "source": [
    "### 2.2 次数字符\n",
    "\n",
    "上面的模式有个致命短板，就是只能匹配一个字符！这在实际应用几乎没用，因此我们需要某些带有“次数功能”的元字符，如下：\n",
    "\n",
    "1. 贪婪模式：\n",
    "\n",
    "- \\* 表示后面可跟 0 个或多个字符\n",
    "- \\+ 表示后面可跟 1 个或多个字符\n",
    "- ? 表示后面可跟 0 个或 1 个字符\n",
    "\n",
    "2. 非贪婪模式：\n",
    "\n",
    "- *? 表示后面可跟 0 个或多个字符，但只取第一个\n",
    "- +? 表示后面可跟 1 个或多个字符，但只取第一个\n",
    "- ?? 表示后面可跟 0 个或 1 个字符，但只取第一个"
   ]
  },
  {
   "cell_type": "markdown",
   "metadata": {},
   "source": [
    "#### 星号（asterisk）- *"
   ]
  },
  {
   "cell_type": "code",
   "execution_count": 10,
   "metadata": {},
   "outputs": [
    {
     "output_type": "stream",
     "name": "stdout",
     "text": "['color']\n['colour']\n['colouuuuuur']\n"
    }
   ],
   "source": [
    "# 首先定义“字符 u 可以出现 0 次或多次”的模式，\n",
    "pat = r'colou*r'\n",
    "\n",
    "print( look_for(pat, 'color') )\n",
    "print( look_for(pat, 'colour') )\n",
    "print( look_for(pat, 'colouuuuuur') )"
   ]
  },
  {
   "cell_type": "markdown",
   "metadata": {},
   "source": [
    "#### 加号（plus sign）- +"
   ]
  },
  {
   "cell_type": "code",
   "execution_count": 11,
   "metadata": {},
   "outputs": [
    {
     "output_type": "stream",
     "name": "stdout",
     "text": "没有找到\n['colour']\n['colouuuuuur']\n"
    }
   ],
   "source": [
    "# 首先定义“字符 u 可以出现 1 次或多次”的模式\n",
    "pat = r'colou+r'\n",
    "\n",
    "print( look_for(pat, 'color') )\n",
    "print( look_for(pat, 'colour') )\n",
    "print( look_for(pat, 'colouuuuuur') )"
   ]
  },
  {
   "cell_type": "markdown",
   "metadata": {},
   "source": [
    "#### 问号（question mark）- ?"
   ]
  },
  {
   "cell_type": "code",
   "execution_count": 12,
   "metadata": {},
   "outputs": [
    {
     "output_type": "stream",
     "name": "stdout",
     "text": "['color']\n['colour']\n没有找到\n"
    }
   ],
   "source": [
    "# 首先定义“字符 u 可以出现 0 次或 1 次”的模式\n",
    "pat = r'colou?r'\n",
    "\n",
    "print( look_for(pat, 'color') )\n",
    "print( look_for(pat, 'colour') )\n",
    "print( look_for(pat, 'colouuuuuur') )"
   ]
  },
  {
   "cell_type": "markdown",
   "metadata": {},
   "source": [
    "有的时候一个句子里会有重复的字符，假如是 > 字符，如果我们要匹配这个>，到底在哪一个 > 就停止了呢？\n",
    "\n",
    "这个就是贪心（greedy）模式和非贪心（non-greedy）模式的区别，让我们来看个例子。"
   ]
  },
  {
   "cell_type": "code",
   "execution_count": 13,
   "metadata": {},
   "outputs": [],
   "source": [
    "heading  = r'<h1>TITLE</h1>'"
   ]
  },
  {
   "cell_type": "markdown",
   "metadata": {},
   "source": [
    "如果模式是 <.+>，那么我们要获取的就是以 < 开头，以 > 结尾，中间有 1 个或多个字符的字符串。这里我们先提前介绍 . 字符，它是一个通配符，可以代表任何除新行 (\\n) 的字符。"
   ]
  },
  {
   "cell_type": "code",
   "execution_count": 14,
   "metadata": {},
   "outputs": [
    {
     "output_type": "stream",
     "name": "stdout",
     "text": "['<h1>TITLE</h1>']\n"
    }
   ],
   "source": [
    "pat = r'<.+>'\n",
    "print( look_for(pat, heading) )"
   ]
  },
  {
   "cell_type": "markdown",
   "metadata": {},
   "source": [
    "结果如上，获取的字符串确实以 < 开头，以 > 结尾，但是仔细看下，其实在  heading\\[3\\] 出也是 >，为什么没有匹配到它而是匹配到最后一个 > 呢？\n",
    "\n",
    "原因就是上面用了`贪婪模式`，即在整个表达式匹配成功的前提下，`尽可能多`的匹配。那么其对立的`非贪婪模式`，就是在整个表达式匹配成功的前提下，`尽可能少`的匹配。"
   ]
  },
  {
   "cell_type": "code",
   "execution_count": 15,
   "metadata": {},
   "outputs": [
    {
     "output_type": "stream",
     "name": "stdout",
     "text": "['<h1>', '</h1>']\n"
    }
   ],
   "source": [
    "# 实现非贪婪模式只需在最后加一个 ? 字符，代码如下：\n",
    "pat =  r'<.+?>'\n",
    "print( look_for(pat, heading) )"
   ]
  },
  {
   "cell_type": "markdown",
   "metadata": {},
   "source": [
    "#### 大括号（curly bracket）- {}\n",
    "\n",
    "有的时候我们非常明确要匹配的字符出现几次，比如\n",
    "\n",
    "- 中国的手机号位数是 13 位，n = 13\n",
    "- 密码需要 8 位以上，n ≥ 8\n",
    "- 公众号文章标题长度不能超过 64，n ≤ 64\n",
    "- 用户名需要在 8 到 16 位之间，8 ≤ n ≤ 16\n",
    "\n",
    "这时我们可以设定具体的上界或（和）下界，使得代码更加有效也更好读懂，规则如下：\n",
    "\n",
    "- {n} 左边的字符串是否出现 n 次\n",
    "- {n, } 左边的字符串是否出现大于等于 n 次\n",
    "- {, n} 左边的字符串是否出现小于等于 n 次\n",
    "- {n, m} 左边的字符串是否出现在 n 次和 m 次之间"
   ]
  },
  {
   "cell_type": "code",
   "execution_count": 16,
   "metadata": {},
   "outputs": [],
   "source": [
    "s = 'a11bbb2222ccccc'"
   ]
  },
  {
   "cell_type": "code",
   "execution_count": 17,
   "metadata": {},
   "outputs": [
    {
     "output_type": "stream",
     "name": "stdout",
     "text": "['a', 'b', 'b', 'b', 'c', 'c', 'c', 'c', 'c']\n['11', '2222']\n['a', '', '', 'bbb', '', '', '', '', 'ccccc', '']\n['11', '2222']\n"
    }
   ],
   "source": [
    "print( look_for(r'[a-z]{1}', s) )\n",
    "print( look_for(r'[0-9]{2,}', s) )\n",
    "print( look_for(r'[a-z]{,5}', s) )\n",
    "print( look_for(r'[0-9]{2,4}', s) )"
   ]
  },
  {
   "cell_type": "markdown",
   "metadata": {},
   "source": [
    "> 需要解释的是例三，匹配五个以下的 a 到 z 小写字母，当然也包括零个，因此结果包含那些空字符。"
   ]
  },
  {
   "cell_type": "markdown",
   "metadata": {},
   "source": [
    "上面都是贪婪模式，当然也有其对应的非贪婪模式，但只有 {n, m}? 有意义，原因自己想。上面的模式对于前一个字符重复 m 到 n 次，并且取尽可能少的情况。比如在字符串'sssss'中，s{2,4} 会匹配 4 个 s，但 s{2,4}? 只匹配 2 个 s。"
   ]
  },
  {
   "cell_type": "markdown",
   "metadata": {},
   "source": [
    "### 2.3 并列字符\n",
    "字符集合问题解决了，字符次数问题解决了，如果现在面临的问题着是匹配 A 或 B 其中一个呢？用垂线 | 字符，A|B，如果 A 匹配了，则不再查找 B，反之亦然。"
   ]
  },
  {
   "cell_type": "markdown",
   "metadata": {},
   "source": [
    "#### 垂线（vertical line）- |"
   ]
  },
  {
   "cell_type": "code",
   "execution_count": 18,
   "metadata": {},
   "outputs": [
    {
     "output_type": "stream",
     "name": "stdout",
     "text": "['like']\n['love']\n"
    }
   ],
   "source": [
    "# 首先定义“句子出现 like 或 love 一词”的模式。\n",
    "pat = r'like|love'\n",
    "\n",
    "print( look_for(pat, 'like you') )\n",
    "print( look_for(pat, 'love you') )"
   ]
  },
  {
   "cell_type": "markdown",
   "metadata": {},
   "source": [
    "### 2.4 提取字符\n",
    "如果你想把匹配的内容提取出来，用小括号，而在小括号里面你可以设计任意正则表达式。"
   ]
  },
  {
   "cell_type": "markdown",
   "metadata": {},
   "source": [
    "#### 小括号（square bracket）- ()"
   ]
  },
  {
   "cell_type": "code",
   "execution_count": 29,
   "metadata": {},
   "outputs": [
    {
     "output_type": "stream",
     "name": "stdout",
     "text": "['s']\n['ed']\n['en']\n['ing']\n"
    }
   ],
   "source": [
    "# 首先定义“beat 的第三人称，过去式，过去分词和现在进行式”的模式，为了获取 beat 加正确后缀的所有单词。\n",
    "pat = r'beat(s|ed|en|ing)'\n",
    "\n",
    "print( look_for(pat, 'beats') )\n",
    "print( look_for(pat, 'beated') )\n",
    "print( look_for(pat, 'beaten') )\n",
    "print( look_for(pat, 'beating') )"
   ]
  },
  {
   "cell_type": "code",
   "execution_count": 34,
   "metadata": {},
   "outputs": [
    {
     "output_type": "stream",
     "name": "stdout",
     "text": "[('beats', 's')]\n[('beated', 'ed')]\n[('beaten', 'en')]\n[('beating', 'ing')]\n"
    }
   ],
   "source": [
    "# 但其实这不是我们想要的，我们想把带着后缀的 beat 给获取出来。那么只有在最外面再加一层 ()，模式如下。\n",
    "pat = r'(beat(s|ed|en|ing))'\n",
    "\n",
    "print( look_for(pat, 'beats') )\n",
    "print( look_for(pat, 'beated') )\n",
    "print( look_for(pat, 'beaten') )\n",
    "print( look_for(pat, 'beating') )"
   ]
  },
  {
   "cell_type": "markdown",
   "metadata": {},
   "source": [
    "现在带着后缀的 beat 已经获取出来了，上面列表中每个元组的第一个元素，但完美主义者不想要后缀（即元组的第二个元素），可以用下面的骚模式。\n",
    "\n",
    "在 () 中最前面加入 `?:`。`(?:)` 代表只匹配不获取（non-capturing），结果看上去非常自然。"
   ]
  },
  {
   "cell_type": "code",
   "execution_count": 35,
   "metadata": {},
   "outputs": [
    {
     "output_type": "stream",
     "name": "stdout",
     "text": "['beats']\n['beated']\n['beaten']\n['beating']\n"
    }
   ],
   "source": [
    "pat = r'(beat(?:s|ed|en|ing))'\n",
    "\n",
    "print( look_for(pat, 'beats') )\n",
    "print( look_for(pat, 'beated') )\n",
    "print( look_for(pat, 'beaten') )\n",
    "print( look_for(pat, 'beating') )"
   ]
  },
  {
   "cell_type": "markdown",
   "metadata": {},
   "source": [
    "### 2.5 转义字符\n",
    "\n",
    "字符集合问题解决了，字符次数问题解决了，字符并列问题解决了，字符获取问题解决了，看上去我们能做很多事了。别急，RE 给你最后一击，转义字符，让模式更加强大。\n",
    "\n",
    "转义字符，顾名思义，就是能转换自身含义的字符。\n",
    "\n",
    "点 . 不再是点，美元 $ 不再是美元，等等等等。。。"
   ]
  },
  {
   "cell_type": "markdown",
   "metadata": {},
   "source": [
    "#### 点（dot）- .\n",
    "\n",
    "点 `.` 表示除新行（newline）的任意字符，它是个通配符。用它最无脑简便，但是代码也最难读懂，效率也最低下。"
   ]
  },
  {
   "cell_type": "code",
   "execution_count": 37,
   "metadata": {},
   "outputs": [
    {
     "output_type": "stream",
     "name": "stdout",
     "text": "['a']\n['b1']\n['C@9']\n['$ 9_fZ']\n['9z_\\t\\r']\n"
    }
   ],
   "source": [
    "# 定义“含有 1 个或多个非新行字符”的模式。\n",
    "pat = r'.+'\n",
    "\n",
    "print( look_for(pat, 'a') )\n",
    "print( look_for(pat, 'b1') )\n",
    "print( look_for(pat, 'C@9') )\n",
    "print( look_for(pat, '$ 9_fZ') )\n",
    "print( look_for(pat, '9z_\\t\\r\\n') )"
   ]
  },
  {
   "cell_type": "markdown",
   "metadata": {},
   "source": [
    "#### 托字符（carat）- ^\n",
    "\n",
    "托字符 ^ 表示字符串开头。"
   ]
  },
  {
   "cell_type": "code",
   "execution_count": 38,
   "metadata": {},
   "outputs": [
    {
     "output_type": "stream",
     "name": "stdout",
     "text": "['son']\n['shot']\n没有找到\n"
    }
   ],
   "source": [
    "# 定义“以 s 开头字符串”的模式。\n",
    "pat = r'^s[\\w]*'\n",
    "\n",
    "print( look_for(pat, 'son') )\n",
    "print( look_for(pat, 'shot') )\n",
    "print( look_for(pat, 'come') )"
   ]
  },
  {
   "cell_type": "markdown",
   "metadata": {},
   "source": [
    "#### 美元符（dollar sign）- $\n",
    "\n",
    "美元符 $ 表示字符串结尾。"
   ]
  },
  {
   "cell_type": "code",
   "execution_count": 39,
   "metadata": {},
   "outputs": [
    {
     "output_type": "stream",
     "name": "stdout",
     "text": "['yes']\n['mess']\n没有找到\n"
    }
   ],
   "source": [
    "# 定义“以 s 结尾字符串”的模式。\n",
    "pat = r'[\\w]*s$'\n",
    "\n",
    "print( look_for(pat, 'yes') )\n",
    "print( look_for(pat, 'mess') )\n",
    "print( look_for(pat, 'come') )"
   ]
  },
  {
   "cell_type": "markdown",
   "metadata": {},
   "source": [
    "#### 反斜杠（backslash）- \\\n",
    "\n",
    "更厉害的是，反斜杠 \\ 可对特殊字符进行转义，也可对普通字符转义。\n",
    "\n",
    "- 将特殊字符转成自身含义：用 \\ 作用在 ^ . \\ 等身上，代表乘方 \\^、小数点 \\. 和除号 \\\\\n",
    "- 将自身字符转成特殊含义：用 \\ 作用在 w d n 等身上，代表字母 \\w、数字 \\d 和新行 \\n"
   ]
  },
  {
   "cell_type": "markdown",
   "metadata": {},
   "source": [
    "##### 特殊 --> 自身\n",
    "\n",
    "在反斜杠的限制下，$ 终于代表美元了！"
   ]
  },
  {
   "cell_type": "code",
   "execution_count": 40,
   "metadata": {},
   "outputs": [
    {
     "output_type": "stream",
     "name": "stdout",
     "text": "['$99.99']\n"
    }
   ],
   "source": [
    "pat = r'\\$[0-9.]+'\n",
    "\n",
    "print( look_for(pat, 'it costs $99.99') )"
   ]
  },
  {
   "cell_type": "code",
   "execution_count": 41,
   "metadata": {},
   "outputs": [
    {
     "output_type": "stream",
     "name": "stdout",
     "text": "['/', '^', '.']\n"
    }
   ],
   "source": [
    "# 在反斜杠的限制下， ^ . \\  终于代表乘方、小数点和除号了！\n",
    "pat = r'(\\\\|\\/|\\^|\\.)'\n",
    "\n",
    "print( look_for(pat, '(5/2)^2=6.25') )"
   ]
  },
  {
   "cell_type": "code",
   "execution_count": 42,
   "metadata": {},
   "outputs": [
    {
     "output_type": "stream",
     "name": "stdout",
     "text": "['', '(', '5', '/', '2', ')', '^', '2', '=', '6', '.', '2', '5']\n"
    }
   ],
   "source": [
    "# 没有了反斜杠的限制，一切乱了套，点 . 就是通配符，可以匹配字符串里所有字符。\n",
    "pat = r'(\\|/|^|.)'\n",
    "\n",
    "print( look_for(pat, '(5/2)^2=6.25') )"
   ]
  },
  {
   "cell_type": "code",
   "execution_count": 44,
   "metadata": {},
   "outputs": [
    {
     "output_type": "stream",
     "name": "stdout",
     "text": "['/', '^', '.']\n"
    }
   ],
   "source": [
    "# 但如果在中括号 [] 集合里，每个字符就是它本身的意义，点就是点，而不是通配符。\n",
    "pat = r'[/^.]'\n",
    "\n",
    "print( look_for(pat, '(5/2)^2=6.25') )"
   ]
  },
  {
   "cell_type": "markdown",
   "metadata": {},
   "source": [
    "##### 自身 --> 特殊\n",
    "\n",
    "规则总结如下（大写和小写互补，两者加一起是全集）：\n",
    "\n",
    "- \\b：匹配空字符串，但仅适用于单词的“首尾”\n",
    "- \\B：匹配空字符串，但仅适用于单词的“非首尾”\n",
    "- \\d：匹配任何“数字”字符，等价于 \\[0-9\\]\n",
    "- \\D：匹配任何“非数字”字符，等价于 \\[^0-9\\]\n",
    "- \\s：匹配任何“空白”字符，等价于 \\[\\t\\n\\r\\]\n",
    "- \\S：匹配任何“非空白”字符，等价于 \\[^\\t\\n\\r\\]\n",
    "- \\w：匹配任何“字母数字下划线”字符，等价于 \\[a-zA-Z0-9_\\]\n",
    "- \\W：匹配任何“非字母数字下划线”字符，等价于 \\[^a-zA-Z0-9_\\]\n",
    "- \\A：匹配句子的“开头”字符，等价于 ^\n",
    "- \\Z：匹配句子的“结尾”字符，等价于 $\n",
    "- \\t：匹配句子的“制表键 (tab)”字符\n",
    "- \\r：匹配句子的“回车键 (return)”字符\n",
    "- \\n：匹配句子的“换行键 (newline)”字符"
   ]
  },
  {
   "cell_type": "markdown",
   "metadata": {},
   "source": [
    "##### \\b \\B"
   ]
  },
  {
   "cell_type": "code",
   "execution_count": 48,
   "metadata": {},
   "outputs": [
    {
     "output_type": "stream",
     "name": "stdout",
     "text": "['learn']\n没有找到\n没有找到\n没有找到\n"
    }
   ],
   "source": [
    "# \\b \\B\n",
    "pat = r'\\blearn\\b'\n",
    "\n",
    "print( look_for(pat, 'learn Python') )\n",
    "print( look_for(pat, 'relearn Python') )\n",
    "print( look_for(pat, 'learning Python') )\n",
    "print( look_for(pat, 'relearning Python') )"
   ]
  },
  {
   "cell_type": "markdown",
   "metadata": {},
   "source": [
    "> \\b 只能抓住 learn 前后的首尾空字符，那么只能匹配不带前缀和后缀的 learn，  即 learn 本身。"
   ]
  },
  {
   "cell_type": "code",
   "execution_count": 49,
   "metadata": {},
   "outputs": [
    {
     "output_type": "stream",
     "name": "stdout",
     "text": "没有找到\n没有找到\n没有找到\n['learn']\n"
    }
   ],
   "source": [
    "pat = r'\\Blearn\\B'\n",
    "\n",
    "print( look_for(pat, 'learn Python') )\n",
    "print( look_for(pat, 'relearn Python') )\n",
    "print( look_for(pat, 'learning Python') )\n",
    "print( look_for(pat, 'relearning Python') )"
   ]
  },
  {
   "cell_type": "markdown",
   "metadata": {},
   "source": [
    "> \\B 只能抓住 learn 前后的非首尾空字符，那么只能匹配带前缀和后缀的 learn，即 relearning。"
   ]
  },
  {
   "cell_type": "code",
   "execution_count": 50,
   "metadata": {},
   "outputs": [
    {
     "output_type": "stream",
     "name": "stdout",
     "text": "没有找到\n没有找到\n['learn']\n没有找到\n"
    }
   ],
   "source": [
    "pat = r'\\blearn\\B'\n",
    "\n",
    "print( look_for(pat, 'learn Python') )\n",
    "print( look_for(pat, 'relearn Python') )\n",
    "print( look_for(pat, 'learning Python') )\n",
    "print( look_for(pat, 'relearning Python') )"
   ]
  },
  {
   "cell_type": "markdown",
   "metadata": {},
   "source": [
    "> learn 前 \\b 后 \\B，只能匹配带后缀的 learn，即 learning。"
   ]
  },
  {
   "cell_type": "code",
   "execution_count": 51,
   "metadata": {},
   "outputs": [
    {
     "output_type": "stream",
     "name": "stdout",
     "text": "没有找到\n['learn']\n没有找到\n没有找到\n"
    }
   ],
   "source": [
    "pat = r'\\Blearn\\b'\n",
    "\n",
    "print( look_for(pat, 'learn Python') )\n",
    "print( look_for(pat, 'relearn Python') )\n",
    "print( look_for(pat, 'learning Python') )\n",
    "print( look_for(pat, 'relearning Python') )"
   ]
  },
  {
   "cell_type": "markdown",
   "metadata": {},
   "source": [
    "> learn 前 \\B 后 \\b，只能匹配带前缀的 learn，即 relearn。"
   ]
  },
  {
   "cell_type": "markdown",
   "metadata": {},
   "source": [
    "##### \\d \\D"
   ]
  },
  {
   "cell_type": "code",
   "execution_count": 52,
   "metadata": {},
   "outputs": [
    {
     "output_type": "stream",
     "name": "stdout",
     "text": "['12', '34', '56', '78', '90']\n"
    }
   ],
   "source": [
    "# 匹配数字\n",
    "pat = r'\\d+'\n",
    "\n",
    "print( look_for(pat, '12+ab34-cd56*ef78/gh90%ij') )"
   ]
  },
  {
   "cell_type": "code",
   "execution_count": 53,
   "metadata": {},
   "outputs": [
    {
     "output_type": "stream",
     "name": "stdout",
     "text": "['+ab', '-cd', '*ef', '/gh', '%ij']\n"
    }
   ],
   "source": [
    "# 匹配非数字，不解释。\n",
    "\n",
    "pat = r'\\D+'\n",
    "\n",
    "print( look_for(pat, '12+ab34-cd56*ef78/gh90%ij') )"
   ]
  },
  {
   "cell_type": "markdown",
   "metadata": {},
   "source": [
    "##### \\s \\S"
   ]
  },
  {
   "cell_type": "code",
   "execution_count": 54,
   "metadata": {},
   "outputs": [
    {
     "output_type": "stream",
     "name": "stdout",
     "text": "['  ', '\\n', '  ', '\\n    ']\n"
    }
   ],
   "source": [
    "# 匹配各种空格比如制表、回车或新行，不解释。\n",
    "pat = r'\\s+'\n",
    "s = '''please  don't\n",
    "leave  me\n",
    "    alone'''\n",
    "print( look_for(pat, s) )"
   ]
  },
  {
   "cell_type": "code",
   "execution_count": 56,
   "metadata": {},
   "outputs": [
    {
     "output_type": "stream",
     "name": "stdout",
     "text": "['please', \"don't\", 'leave', 'me', 'alone']\n"
    }
   ],
   "source": [
    "# 匹配各种非空格，不解释。\n",
    "pat = r'\\S+'\n",
    "print( look_for(pat, s) )"
   ]
  },
  {
   "cell_type": "markdown",
   "metadata": {},
   "source": [
    "##### \\w \\W"
   ]
  },
  {
   "cell_type": "code",
   "execution_count": 57,
   "metadata": {},
   "outputs": [
    {
     "output_type": "stream",
     "name": "stdout",
     "text": "['12', 'ab_34', 'cd56_ef78']\n"
    }
   ],
   "source": [
    "# 匹配字母数字下划线，不解释。\n",
    "\n",
    "pat = r'\\w+'\n",
    "\n",
    "print( look_for(pat, '12+ab_34-cd56_ef78') )"
   ]
  },
  {
   "cell_type": "code",
   "execution_count": 58,
   "metadata": {},
   "outputs": [
    {
     "output_type": "stream",
     "name": "stdout",
     "text": "['+', '-']\n"
    }
   ],
   "source": [
    "# 匹配非字母数字下划线，不解释。\n",
    "\n",
    "pat = r'\\W+'\n",
    "\n",
    "print( look_for(pat, '12+ab_34-cd56_ef78') )"
   ]
  },
  {
   "cell_type": "markdown",
   "metadata": {},
   "source": [
    "##### \\A \\Z"
   ]
  },
  {
   "cell_type": "code",
   "execution_count": 59,
   "metadata": {},
   "outputs": [
    {
     "output_type": "stream",
     "name": "stdout",
     "text": "['you']\n['you']\n没有找到\n没有找到\n"
    }
   ],
   "source": [
    "# 匹配开头字符，\\A 和 ^ 等价，不解释。\n",
    "pat1 = r'^y[\\w]*'\n",
    "pat2 = r'\\Ay[\\w]*'\n",
    "str1 = 'you rock'\n",
    "str2 = 'rock you'\n",
    "\n",
    "print( look_for(pat1, str1) )\n",
    "print( look_for(pat2, str1) )\n",
    "\n",
    "print( look_for(pat1, str2) )\n",
    "print( look_for(pat2, str2) )"
   ]
  },
  {
   "cell_type": "code",
   "execution_count": 60,
   "metadata": {},
   "outputs": [
    {
     "output_type": "stream",
     "name": "stdout",
     "text": "['rock']\n['rock']\n没有找到\n没有找到\n"
    }
   ],
   "source": [
    "# 匹配结尾字符，\\Z 和 $ 等价，不解释。\n",
    "pat1 = r'[\\w]*k$'\n",
    "pat2 = r'[\\w]*k\\Z'\n",
    "str1 = 'you rock'\n",
    "str2 = 'rock you'\n",
    "\n",
    "print( look_for(pat1, str1) )\n",
    "print( look_for(pat2, str1) )\n",
    "\n",
    "print( look_for(pat1, str2) )\n",
    "print( look_for(pat2, str2) )"
   ]
  },
  {
   "cell_type": "markdown",
   "metadata": {},
   "source": [
    "## 常用函数\n",
    "\n",
    "了解完上节介绍的元字符的基本知识，本节的函数运用就很简单了。RE 包里常见的函数总结如下：\n",
    "\n",
    "- match(pat, str)：检查`字符串的开头`是否符合某个模式\n",
    "- search(pat, str)：检查`字符串中`是否符合某个模式\n",
    "- findall(pat, str)：返回所有符合某个模式的字符串，以列表形式输出\n",
    "- finditer(pat, str)：返回所有符合某个模式的字符串，以迭代器形式输出\n",
    "- split(pat, str)：以某个模式为分割点，拆分整个句子为一系列字符串，以列表形式输出\n",
    "- sub(pat, repl, str)：句子 str 中找到匹配正则表达式模式的所有子字符串，用另一个字符串 repl 进行替换\n",
    "- compile(pat)：将某个模式编译成对象，供之后使用"
   ]
  },
  {
   "cell_type": "markdown",
   "metadata": {},
   "source": [
    "### match(pat, str)\n",
    "\n",
    "判断模式是否在`字符串开头`位置匹配。如果匹配，返回对象，如果不匹配，返回 None。"
   ]
  },
  {
   "cell_type": "code",
   "execution_count": 61,
   "metadata": {},
   "outputs": [
    {
     "output_type": "stream",
     "name": "stdout",
     "text": "<re.Match object; span=(0, 4), match='Kobe'>\nKobe\nNone\n"
    }
   ],
   "source": [
    "s = 'Kobe Bryant'\n",
    "\n",
    "print( re.match(r'Kobe', s) )\n",
    "print( re.match(r'Kobe', s).group() )\n",
    "print( re.match(r'Bryant', s) )"
   ]
  },
  {
   "cell_type": "markdown",
   "metadata": {},
   "source": [
    "该函数返回的是个对象（包括匹配的子字符串和在句中的位置索引），如果只需要子字符串，需要用 group() 函数。\n",
    "\n",
    "由于值匹配句头，那么句中的 Bryant 无法被匹配到。"
   ]
  },
  {
   "cell_type": "markdown",
   "metadata": {},
   "source": [
    "### search(pat, str)\n",
    "在`字符串中`查找匹配正则表达式模式的位置。如果匹配，返回对象，如果不匹配，返回 None。"
   ]
  },
  {
   "cell_type": "code",
   "execution_count": 62,
   "metadata": {},
   "outputs": [
    {
     "output_type": "stream",
     "name": "stdout",
     "text": "<re.Match object; span=(0, 4), match='Kobe'>\nKobe\n<re.Match object; span=(5, 11), match='Bryant'>\nBryant\n"
    }
   ],
   "source": [
    "s = 'Kobe Bryant'\n",
    "\n",
    "print( re.search(r'Kobe', s) )\n",
    "print( re.search(r'Kobe', s).group() )\n",
    "print( re.search(r'Bryant', s) )\n",
    "print( re.search(r'Bryant', s).group() )"
   ]
  },
  {
   "cell_type": "markdown",
   "metadata": {},
   "source": [
    "该函数返回的是个对象（包括匹配的子字符串和在句中的位置索引），如果只需要子字符串，需要用 group() 函数。"
   ]
  },
  {
   "cell_type": "code",
   "execution_count": 63,
   "metadata": {},
   "outputs": [
    {
     "output_type": "stream",
     "name": "stdout",
     "text": "<re.Match object; span=(5, 11), match='Bryant'>\nBryant\n<re.Match object; span=(5, 11), match='Bryant'>\n"
    }
   ],
   "source": [
    "s = 'Kobe Bryant loves Gianna Bryant'\n",
    "\n",
    "print( re.search(r'Bryant', s) )\n",
    "print( re.search(r'Bryant', s).group() )\n",
    "print( re.search(r'Bryant', s) )"
   ]
  },
  {
   "cell_type": "markdown",
   "metadata": {},
   "source": [
    "根据结果只匹配出第一个，我们需要下面的函数来匹配全部。"
   ]
  },
  {
   "cell_type": "markdown",
   "metadata": {},
   "source": [
    "### findall(pat, str)"
   ]
  },
  {
   "cell_type": "code",
   "execution_count": 64,
   "metadata": {},
   "outputs": [
    {
     "output_type": "stream",
     "name": "stdout",
     "text": "['Kobe']\n['Bryant', 'Bryant']\n[]\n"
    }
   ],
   "source": [
    "# 在字符串中找到正则表达式所匹配的所有子串，并组成一个列表返回。\n",
    "s = 'Kobe Bryant loves Gianna Bryant'\n",
    "\n",
    "print( re.findall(r'Kobe', s) )\n",
    "print( re.findall(r'Bryant', s) )\n",
    "print( re.findall(r'Gigi', s) )"
   ]
  },
  {
   "cell_type": "markdown",
   "metadata": {},
   "source": [
    "### finditer(pat, str)"
   ]
  },
  {
   "cell_type": "code",
   "execution_count": 65,
   "metadata": {},
   "outputs": [
    {
     "output_type": "stream",
     "name": "stdout",
     "text": "[<re.Match object; span=(0, 4), match='Kobe'>]\n[<re.Match object; span=(5, 11), match='Bryant'>, <re.Match object; span=(25, 31), match='Bryant'>]\n[]\n"
    }
   ],
   "source": [
    "# 和 findall 类似，在字符串中找到正则表达式所匹配的所有子串，并组成一个迭代器返回。\n",
    "s = 'Kobe Bryant loves Gianna Bryant'\n",
    "\n",
    "print( [i for i in re.finditer(r'Kobe', s)] )\n",
    "print( [i for i in re.finditer(r'Bryant', s)] )\n",
    "print( [i for i in re.finditer(r'Gigi', s)] )"
   ]
  },
  {
   "cell_type": "markdown",
   "metadata": {},
   "source": [
    "如果需要匹配子串在原句中的位置索引，用 finditer，此外用 findall。"
   ]
  },
  {
   "cell_type": "markdown",
   "metadata": {},
   "source": [
    "### split(pat, str)"
   ]
  },
  {
   "cell_type": "code",
   "execution_count": 66,
   "metadata": {},
   "outputs": [
    {
     "output_type": "stream",
     "name": "stdout",
     "text": "['Kobe', 'Bryant', 'loves', 'Gianna', 'Bryant']\n"
    }
   ],
   "source": [
    "# 将字符串匹配正则表达式的部拆分开并返回一个列表。\n",
    "s = 'Kobe Bryant loves Gianna Bryant'\n",
    "print( re.split(r'\\s', s) )"
   ]
  },
  {
   "cell_type": "markdown",
   "metadata": {},
   "source": [
    "### sub(pat, repl, str)\n",
    "句子 str 中找到匹配正则表达式模式的所有子字符串，用另一个字符串 repl 进行替换。如果没有找到匹配模式的串，则返回未被修改的句子 str，其中 repl 既可以是字符串也可以是一个函数。"
   ]
  },
  {
   "cell_type": "code",
   "execution_count": 67,
   "metadata": {},
   "outputs": [
    {
     "output_type": "stream",
     "name": "stdout",
     "text": "Kobe-Bryant-loves-Gianna-Bryant\n"
    }
   ],
   "source": [
    "s = 'Kobe Bryant loves Gianna Bryant'\n",
    "print( re.sub(r'\\s', '-', s) )"
   ]
  },
  {
   "cell_type": "code",
   "execution_count": 68,
   "metadata": {},
   "outputs": [
    {
     "output_type": "stream",
     "name": "stdout",
     "text": "Kobe Bryant loves Gigi Bryant\n"
    }
   ],
   "source": [
    "print( re.sub(r'Gianna', 'Gigi', s) )"
   ]
  },
  {
   "cell_type": "code",
   "execution_count": 70,
   "metadata": {},
   "outputs": [
    {
     "output_type": "stream",
     "name": "stdout",
     "text": "Kobe Bryant loves Gianna Bryant\n"
    }
   ],
   "source": [
    "# 用 _ 代替数字（一个或多个），但句中没有数字，因此没用替代动作。\n",
    "print( re.sub(r'\\d+', '_', s) )"
   ]
  },
  {
   "cell_type": "code",
   "execution_count": 76,
   "metadata": {},
   "outputs": [
    {
     "output_type": "stream",
     "name": "stdout",
     "text": "_K_o_b_e_ _B_r_y_a_n_t_ _l_o_v_e_s_ _G_i_a_n_n_a_ _B_r_y_a_n_t_\n"
    }
   ],
   "source": [
    "# 用 _ 代替数字（零个或多个），虽然句中没有数字，但是零个数字就是空字符，因此 _ 替代所有空字符。好玩吧 :)\n",
    "print( re.sub(r'\\d*', '_', s))"
   ]
  },
  {
   "cell_type": "markdown",
   "metadata": {},
   "source": [
    "### compile(pat)\n",
    "把正则表达式的模式转化成正则表达式对象，供其他函数如`match` 和 `search` 使用。对象创建出来可以循环使用，如果某种模式要重复使用话，用“先 compile 再 findall”的方式更加高效。\n",
    "\n",
    "用处理电邮地址来举例。"
   ]
  },
  {
   "cell_type": "code",
   "execution_count": 77,
   "metadata": {},
   "outputs": [
    {
     "output_type": "stream",
     "name": "stdout",
     "text": "Shengyuan Personal: quantsteven@gmail.com\nShengyuan Work: shengyuan@octagon-advisors.com\nShengyuan School: g0700508@nus.edu.sg\nObama: barack.obama@whitehouse.gov\n"
    }
   ],
   "source": [
    "email = '''Shengyuan Personal: quantsteven@gmail.com\n",
    "Shengyuan Work: shengyuan@octagon-advisors.com\n",
    "Shengyuan School: g0700508@nus.edu.sg\n",
    "Obama: barack.obama@whitehouse.gov'''\n",
    "print(email)"
   ]
  },
  {
   "cell_type": "code",
   "execution_count": 78,
   "metadata": {},
   "outputs": [
    {
     "output_type": "execute_result",
     "data": {
      "text/plain": "re.compile(r'[\\w.-]+@[\\w.-]+', re.UNICODE)"
     },
     "metadata": {},
     "execution_count": 78
    }
   ],
   "source": [
    "# 创建电邮的模式 r'[\\w.-]+@[\\w.-]+'，用 compile 先创建 RE 对象，供之后使用。\n",
    "pat = r'[\\w.-]+@[\\w.-]+'\n",
    "obj = re.compile(pat)\n",
    "obj"
   ]
  },
  {
   "cell_type": "code",
   "execution_count": 79,
   "metadata": {},
   "outputs": [
    {
     "output_type": "stream",
     "name": "stdout",
     "text": "None \n\n"
    }
   ],
   "source": [
    "print( obj.match(email), '\\n')"
   ]
  },
  {
   "cell_type": "code",
   "execution_count": 80,
   "metadata": {},
   "outputs": [
    {
     "output_type": "stream",
     "name": "stdout",
     "text": "<re.Match object; span=(20, 41), match='quantsteven@gmail.com'> \n\n"
    }
   ],
   "source": [
    "print( obj.search(email), '\\n' )"
   ]
  },
  {
   "cell_type": "code",
   "execution_count": 81,
   "metadata": {},
   "outputs": [
    {
     "output_type": "stream",
     "name": "stdout",
     "text": "['quantsteven@gmail.com', 'shengyuan@octagon-advisors.com', 'g0700508@nus.edu.sg', 'barack.obama@whitehouse.gov'] \n\n"
    }
   ],
   "source": [
    "print( obj.findall(email), '\\n' )"
   ]
  },
  {
   "cell_type": "code",
   "execution_count": 82,
   "metadata": {},
   "outputs": [
    {
     "output_type": "stream",
     "name": "stdout",
     "text": "[<re.Match object; span=(20, 41), match='quantsteven@gmail.com'>, <re.Match object; span=(58, 88), match='shengyuan@octagon-advisors.com'>, <re.Match object; span=(107, 126), match='g0700508@nus.edu.sg'>, <re.Match object; span=(134, 161), match='barack.obama@whitehouse.gov'>]\n"
    }
   ],
   "source": [
    "print( [i for i in obj.finditer(email)])"
   ]
  },
  {
   "cell_type": "code",
   "execution_count": 83,
   "metadata": {},
   "outputs": [
    {
     "output_type": "stream",
     "name": "stdout",
     "text": "Shengyuan Personal: ---@---.---\nShengyuan Work: ---@---.---\nShengyuan School: ---@---.---\nObama: ---@---.--- \n\n"
    }
   ],
   "source": [
    "# 在对象 obj 上还可使用 sub 方法，结果如下：\n",
    "print( obj.sub('---@---.---', email), '\\n' )"
   ]
  },
  {
   "cell_type": "code",
   "execution_count": 84,
   "metadata": {},
   "outputs": [
    {
     "output_type": "stream",
     "name": "stdout",
     "text": "['quantsteven', 'gmail.com']\n['shengyuan', 'octagon-advisors.com']\n['g0700508', 'nus.edu.sg']\n['barack.obama', 'whitehouse.gov']\n"
    }
   ],
   "source": [
    "# 在对象 obj 上还可使用 split 方法，即把 @ 前后的子串拆分出来，结果如下：\n",
    "for addr in obj.findall(email):\n",
    "    print( re.split(r'@', addr))"
   ]
  },
  {
   "cell_type": "code",
   "execution_count": 85,
   "metadata": {},
   "outputs": [
    {
     "output_type": "stream",
     "name": "stdout",
     "text": "['quantsteven', 'gmail.com']\n['shengyuan', 'octagon-advisors.com']\n['g0700508', 'nus.edu.sg']\n['barack.obama', 'whitehouse.gov']\n"
    }
   ],
   "source": [
    "# 我们还可以再创建个 RE 对象 obj1，专门用来做拆分。\n",
    "obj1 = re.compile(r'@')\n",
    "for addr in obj.findall(email):\n",
    "    print( obj1.split(addr))"
   ]
  },
  {
   "cell_type": "markdown",
   "metadata": {},
   "source": [
    "## 示例展示\n"
   ]
  },
  {
   "cell_type": "markdown",
   "metadata": {},
   "source": [
    "### 密码例子\n",
    "\n",
    "密码通常有如下要求。\n",
    "\n",
    "- 最少 8 个最多 16 个字符.\n",
    "- 至少含有一个大写字母，一个小写字母，一个数字\n",
    "- 至少含有一个特殊字符 @ $ ! % * ? & _，但不包括空格\n"
   ]
  },
  {
   "cell_type": "code",
   "execution_count": 96,
   "metadata": {},
   "outputs": [
    {
     "output_type": "stream",
     "name": "stdout",
     "text": "['stevenwang']\n['19831031']\n['steven1031']\n['steven@1031']\n['Steven@1031']\n没有找到\n没有找到\n没有找到\n没有找到\n"
    }
   ],
   "source": [
    "pat = r'^[0-9a-zA-Z@!$#%_-]{8,16}$'\n",
    "\n",
    "print( look_for(pat, 'stevenwang') )\n",
    "print( look_for(pat, '19831031') )\n",
    "print( look_for(pat, 'steven1031') )\n",
    "print( look_for(pat, 'steven@1031') )\n",
    "print( look_for(pat, 'Steven@1031') )\n",
    "print( look_for(pat, 's1031') )\n",
    "print( look_for(pat, 's@1031') )\n",
    "print( look_for(pat, 'stevenwang19831031') )\n",
    "print( look_for(pat, 'stevenwang@19831031') )"
   ]
  },
  {
   "cell_type": "markdown",
   "metadata": {},
   "source": [
    "结果好像不太对，因为密码必须要含有数字，大小写和特殊字符。\n",
    "\n",
    "这时候需要用 (?=...) 这个骚操作，意思就是匹配 ’…’ 之前的字符串。在本例中 '...' 包括小写 \\[a-z\\]，大写 \\[A-Z\\]，数字 \\d，特殊字符 \\[@$!%*?&_\\]，言下之义就是上面这些必须包含中密码中。"
   ]
  },
  {
   "cell_type": "code",
   "execution_count": 102,
   "metadata": {},
   "outputs": [
    {
     "output_type": "stream",
     "name": "stdout",
     "text": "没有找到\n没有找到\n没有找到\n没有找到\n['Steven@1031']\n没有找到\n没有找到\n没有找到\n没有找到\n"
    }
   ],
   "source": [
    "pat = r'^(?=.*[a-z])(?=.*[A-Z])(?=.*\\d)(?=.*[$@$!%*?&_])[A-Za-z\\d$@$!%*?&_]{8,16}$'\n",
    "\n",
    "print( look_for(pat, 'stevenwang') )\n",
    "print( look_for(pat, '19831031') )\n",
    "print( look_for(pat, 'steven1031') )\n",
    "print( look_for(pat, 'steven@1031') )\n",
    "print( look_for(pat, 'Steven@1031') )\n",
    "print( look_for(pat, 's1031') )\n",
    "print( look_for(pat, 's@1031') )\n",
    "print( look_for(pat, 'stevenwang19831031') )\n",
    "print( look_for(pat, 'stevenwang@19831031') )"
   ]
  },
  {
   "cell_type": "markdown",
   "metadata": {},
   "source": [
    "### 邮箱例子\n",
    "首先定义邮箱地址的模式 '\\S+@\\S+'，还记得 \\S 是非空格字符，基本代表了所需的字符要求。我们想从从 email.txt 文本中筛选出所有邮箱信息。"
   ]
  },
  {
   "cell_type": "code",
   "execution_count": 106,
   "metadata": {},
   "outputs": [
    {
     "output_type": "execute_result",
     "data": {
      "text/plain": "[\"'<200801041608.m04G8d7w007184@nakamura.uits.iupui.edu>'\",\n \"'<200801040023.me40NpCc005473@nakamura.uits.iupui.edu>'\",\n \"'<200801042001.m04K1c00007738@nakamura.uits.iupui.edu>',\",\n \"'<source@collab.sakaiproject.org>;',\",\n \"'<200801041403.m04E3psW006926@nakamura.uits.iupui.edu>',\",\n \"'ray@media.berkeley.edu',\",\n \"'apache@localhost)'\",\n \"'<200801032127.m03LRUqH005177@nakamura.uits.iupui.edu>',\",\n \"'<200801041635.m04GZQGZ007313@nakamura.uits.iupui.edu>',\",\n \"'<200801032205.m03M5Ea7005273@nakamura.uits.iupui.edu>',\",\n \"'josrodri@iupui.edu',\",\n \"'<200801041106.m04B61K3006677@nakamura.uits.iupui.edu>'\",\n \"'<200801041515.m04FFv42007050@nakamura.uits.iupui.edu>',\",\n '<200801041633.m4gx6eG007292@nakamura.uits.iupui.edu>',\n \"'<200801042109.m04L92hb007923@nakamura.uits.iupui.edu>',\",\n \"'louis@media.berkeley.edu',\",\n \"<200801041537.m04Fb6Ci007092@nakamura.uits.iupui.edu>',\",\n \"'zqian@umich.edu',\",\n \"'<postmaster@collab.sakaiproject.org>',\",\n \"'<200801041611.m04GB1Lb007221@nakamura.uits.iupui.edu>',\",\n 'dhorwitz@david-horwitz-6:~/branchManage/sakai_2-5-x>',\n \"'<200801042044.m04Kiem3007881@nakamura.uits.iupui.edu>',\",\n \"'cwen@iupui.edu',\",\n \"'<200801032122.m03LMF04005148@nakamura.uits.iupui.edu>',\",\n \"<200801040947.m0491Ux0006517@nakamura.uits.iupui.edu>',\",\n \"'david.horwitz@uct.ac.za',\",\n \"'<200801041610.m04GA5KP007209@nakamura.uits.iupui.edu>',\",\n \"'<200801042308.m04N8v60008125@nakamura.uits.iupui.edu>',\",\n \"'hu2@iupui.edu',\",\n \"'<200801040905.m0495rWB006420@nakamura.uits.iupui.edu>',\",\n \"'source@collab.sakaiproject.org;',\",\n \"'<200801032216.me3MGhDa005292@nakamura.uits.iupui.edu>',\",\n '<200801032133.me3lx3gG005191@nakamura..uits.iupui.edu>',\n \"'gsilver@umich.edu',\",\n \"'rjlowe@iupui.edu',\",\n \"'source@collab.sakaiproject.org',\",\n \"'<200801051412.m05ECIaH010327@nakamura.uits.iupui.edu>',\",\n \"'wagnermr@iupui.edu',\",\n \"'stephen.marquard@uct.ac.za',\",\n \"'<200801041200.m04COgfK006793@nakamura.uits.iupui.edu>',\",\n \"'<200801041609.m04G9Eux007197@nakamura.uits.iupui.edu>\",\n \"<200801041502.m04F21J0007031@nakamura.uits.iupui.edu>',\",\n \"'<200801041948.m04Jmdw0007705@nakamura.uits.iupui.edu>',\",\n \"'antranig@caret.cam.ac.uk',\",\n \"'<200801040932.m049W2i5006493@nakamura.uits.iupui.edu>',\",\n \"'gopal.ramasammycook@gmail.com',\"]"
     },
     "metadata": {},
     "execution_count": 106
    }
   ],
   "source": [
    "pat = r'\\S+@\\S+'\n",
    "obj = re.compile(pat)\n",
    "email_list = []\n",
    "hand = open('email.txt')\n",
    "for line in hand:\n",
    "    line = line.rstrip()\n",
    "    email_addr = obj.findall(line)\n",
    "    if len(email_addr) > 0:\n",
    "        email_list.append(email_addr[0])\n",
    "\n",
    "list(set(email_list))"
   ]
  },
  {
   "cell_type": "markdown",
   "metadata": {},
   "source": [
    "咋一看结果是对的，但细看（高亮处）有些邮箱地址包含了 <> 的符号，或者根本不是正常的邮箱地址，比如 apache@localhost。\n",
    "\n",
    "这时候我们需要在模式中添加更多规则，如下。\n",
    "\n",
    "- '\\[a-zA-Z\\d\\]\\S+ 代表第一字符要是数字或字母\n",
    "- \\w+\\.\\[a-z\\]{2,3} 代表 A.B 这样的结构，其中 A 由若干字母数字下划线组成，而 B 由 2 或 3 个小写字母组成（因为通常邮箱最后就是 com, net, gov, edu 等等）。"
   ]
  },
  {
   "cell_type": "code",
   "execution_count": 109,
   "metadata": {},
   "outputs": [
    {
     "output_type": "execute_result",
     "data": {
      "text/plain": "['gopal.ramasammycook@gmail.com',\n 'apache@localhost',\n '200801040905.m0495rWB006420@nakamura.uits.iupui.edu',\n 'josrodri@iupui.edu',\n '200801041537.m04Fb6Ci007092@nakamura.uits.iupui.edu',\n '200801041502.m04F21J0007031@nakamura.uits.iupui.edu',\n '200801041200.m04COgfK006793@nakamura.uits.iupui.edu',\n 'source@collab.sakaiproject.org',\n 'postmaster@collab.sakaiproject.org',\n '200801041106.m04B61K3006677@nakamura.uits.iupui.edu',\n '200801040947.m0491Ux0006517@nakamura.uits.iupui.edu',\n '200801042109.m04L92hb007923@nakamura.uits.iupui.edu',\n '200801041948.m04Jmdw0007705@nakamura.uits.iupui.edu',\n '200801041515.m04FFv42007050@nakamura.uits.iupui.edu',\n 'stephen.marquard@uct.ac.za',\n '200801041633.m4gx6eG007292@nakamura.uits.iupui.edu',\n '200801042001.m04K1c00007738@nakamura.uits.iupui.edu',\n '200801041635.m04GZQGZ007313@nakamura.uits.iupui.edu',\n '200801041610.m04GA5KP007209@nakamura.uits.iupui.edu',\n 'ray@media.berkeley.edu',\n '200801032122.m03LMF04005148@nakamura.uits.iupui.edu',\n 'wagnermr@iupui.edu',\n '200801032216.me3MGhDa005292@nakamura.uits.iupui.edu',\n '200801041403.m04E3psW006926@nakamura.uits.iupui.edu',\n '200801042308.m04N8v60008125@nakamura.uits.iupui.edu',\n '200801041611.m04GB1Lb007221@nakamura.uits.iupui.edu',\n 'antranig@caret.cam.ac.uk',\n '200801041608.m04G8d7w007184@nakamura.uits.iupui.edu',\n '200801051412.m05ECIaH010327@nakamura.uits.iupui.edu',\n 'david.horwitz@uct.ac.za',\n '200801040023.me40NpCc005473@nakamura.uits.iupui.edu',\n '200801032127.m03LRUqH005177@nakamura.uits.iupui.edu',\n '200801040932.m049W2i5006493@nakamura.uits.iupui.edu',\n 'hu2@iupui.edu',\n 'cwen@iupui.edu',\n '200801041609.m04G9Eux007197@nakamura.uits.iupui.edu',\n '200801032205.m03M5Ea7005273@nakamura.uits.iupui.edu',\n 'louis@media.berkeley.edu',\n 'gsilver@umich.edu',\n '200801032133.me3lx3gG005191@nakamura..uits.iupui.edu',\n 'zqian@umich.edu',\n '200801042044.m04Kiem3007881@nakamura.uits.iupui.edu',\n 'rjlowe@iupui.edu',\n 'dhorwitz@david']"
     },
     "metadata": {},
     "execution_count": 109
    }
   ],
   "source": [
    "pat = r'[a-zA-Z\\d]\\S+@[\\w+.]+[a-z]{2,3}'\n",
    "obj = re.compile(pat)\n",
    "email_list = []\n",
    "hand = open('email.txt')\n",
    "for line in hand:\n",
    "    line = line.rstrip()\n",
    "    email_addr = obj.findall(line)\n",
    "    if len(email_addr) > 0:\n",
    "        email_list.append(email_addr[0])\n",
    "\n",
    "list(set(email_list))"
   ]
  },
  {
   "cell_type": "markdown",
   "metadata": {},
   "source": [
    "### 摘要例子\n",
    "在下面摘要中获取人物、买卖动作、股票数量、股票代号、日期和股价这些关键信息。"
   ]
  },
  {
   "cell_type": "code",
   "execution_count": 103,
   "metadata": {},
   "outputs": [],
   "source": [
    "news = \\\n",
    "\"\"\"\n",
    "Jack Black sold 15,000 shares in AMZN on 2019-03-06 at a price of $1044.00.\n",
    "David V.Love bought 811 shares in TLSA on 2020-01-19 at a price of $868.75.\n",
    "Steven exercised 262 shares in AAPL on 2020-02-04 at a price of $301.00.\n",
    "\"\"\""
   ]
  },
  {
   "cell_type": "code",
   "execution_count": 104,
   "metadata": {},
   "outputs": [
    {
     "output_type": "execute_result",
     "data": {
      "text/plain": "[('Jack Black', 'sold', '15,000', 'AMZN', '2019-03-06', '$1044.00'),\n ('David V.Love', 'bought', '811', 'TLSA', '2020-01-19', '$868.75'),\n ('Steven', 'exercised', '262', 'AAPL', '2020-02-04', '$301.00')]"
     },
     "metadata": {},
     "execution_count": 104
    }
   ],
   "source": [
    "# ([a-zA-Z. ]*)   匹配人物\n",
    "# \\s(sold|bought|exercised)  提取空格后的单词sold、bought、exercised   匹配买卖动作\n",
    "# \\s*([\\d,]+) 匹配空格后的 数字和','  例如 15,000 匹配股票数量\n",
    "# .*in\\s([A-Z]{,5})   匹配in单词后的长度不大于5的大写字母   匹配股票代号 \n",
    "# .*(\\d{4}-\\d{2}-\\d{2})   匹配日期\n",
    "# .*price of\\s(\\$\\d*.\\d*) 匹配股价 \n",
    "pat = r'([a-zA-Z. ]*)' \\\n",
    "        '\\s(sold|bought|exercised)' \\\n",
    "        '\\s*([\\d,]+)' \\\n",
    "        '.*in\\s([A-Z]{,5})' \\\n",
    "        '.*(\\d{4}-\\d{2}-\\d{2})' \\\n",
    "        '.*price of\\s(\\$\\d*.\\d*)'\n",
    "\n",
    "re.findall( pat, news )"
   ]
  },
  {
   "cell_type": "markdown",
   "metadata": {},
   "source": [
    "## 总结\n",
    "累死了，这次真不想总结了。\n",
    "\n",
    "记住元字符的用处：集合、次数、并列、获取和转义。\n",
    "\n",
    "记住函数的用法：先 compile 成 RE 对象，在 findall 或 finditer，由你想查看的信息完整度决定。\n",
    "\n",
    "下帖我会来个关于 RE 的实际案例分析，并记录我在操作时遇到的问题和解决方案。"
   ]
  },
  {
   "cell_type": "code",
   "execution_count": null,
   "metadata": {},
   "outputs": [],
   "source": []
  }
 ]
}