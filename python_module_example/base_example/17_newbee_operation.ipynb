{
 "cells": [
  {
   "cell_type": "markdown",
   "metadata": {},
   "source": [
    "# 17个Python的牛逼骚操作，你都OK吗\n",
    "参考链接：[17个Python的牛逼骚操作，你都OK吗](https://mp.weixin.qq.com/s/kyD-OnFD1VWegdFDxZO7TQ)"
   ]
  },
  {
   "cell_type": "markdown",
   "metadata": {},
   "source": [
    "## 1. 交换变量值"
   ]
  },
  {
   "cell_type": "code",
   "execution_count": 1,
   "metadata": {},
   "outputs": [
    {
     "output_type": "stream",
     "name": "stdout",
     "text": "5 10\n10 5\n"
    }
   ],
   "source": [
    "\"\"\"\n",
    "pythonic way of value swapping\n",
    "\"\"\"\n",
    "a, b = 5, 10\n",
    "print(a, b)\n",
    "a, b = b, a\n",
    "print(a, b)"
   ]
  },
  {
   "cell_type": "markdown",
   "metadata": {},
   "source": [
    "## 2.将列表中的所有元素组合成字符串"
   ]
  },
  {
   "cell_type": "code",
   "execution_count": 3,
   "metadata": {},
   "outputs": [
    {
     "output_type": "stream",
     "name": "stdout",
     "text": "Python is awesome\n"
    }
   ],
   "source": [
    "a = ['Python', 'is', 'awesome']\n",
    "print(' '.join(a))"
   ]
  },
  {
   "cell_type": "markdown",
   "metadata": {},
   "source": [
    "## 3. 查找列表中频率最高的值"
   ]
  },
  {
   "cell_type": "code",
   "execution_count": 8,
   "metadata": {},
   "outputs": [
    {
     "output_type": "stream",
     "name": "stdout",
     "text": "2\n"
    }
   ],
   "source": [
    "\"\"\"\n",
    "most frequent element in a list\n",
    "\"\"\"\n",
    "a = [1, 2, 3, 1, 2, 3, 2, 2, 4, 5, 1]\n",
    "print(max(set(a), key=a.count))"
   ]
  },
  {
   "cell_type": "code",
   "execution_count": 12,
   "metadata": {},
   "outputs": [
    {
     "output_type": "stream",
     "name": "stdout",
     "text": "4\n"
    }
   ],
   "source": [
    "print(min(set(a), key=a.count))"
   ]
  },
  {
   "cell_type": "code",
   "execution_count": 5,
   "metadata": {},
   "outputs": [
    {
     "output_type": "stream",
     "name": "stdout",
     "text": "[(2, 4), (1, 3), (3, 2)]\n"
    }
   ],
   "source": [
    "\"\"\"\n",
    "using Counter from collections\n",
    "\"\"\"\n",
    "from collections import Counter\n",
    "cnt = Counter(a)\n",
    "print(cnt.most_common(3))"
   ]
  },
  {
   "cell_type": "markdown",
   "metadata": {},
   "source": [
    "## 4.检查两个字符串是不是由相同字符不同顺序组成"
   ]
  },
  {
   "cell_type": "code",
   "execution_count": 13,
   "metadata": {},
   "outputs": [],
   "source": [
    "from collections import Counter"
   ]
  },
  {
   "cell_type": "code",
   "execution_count": 17,
   "metadata": {},
   "outputs": [
    {
     "output_type": "execute_result",
     "data": {
      "text/plain": "True"
     },
     "metadata": {},
     "execution_count": 17
    }
   ],
   "source": [
    "str1 = 'hello'\n",
    "str2 = 'elloh'\n",
    "Counter(str1) == Counter(str2)"
   ]
  },
  {
   "cell_type": "markdown",
   "metadata": {},
   "source": [
    "## 5.反转字符串"
   ]
  },
  {
   "cell_type": "code",
   "execution_count": 18,
   "metadata": {},
   "outputs": [
    {
     "output_type": "stream",
     "name": "stdout",
     "text": "zyxwvutsrqponmlkjihgfedcba\n"
    }
   ],
   "source": [
    "\"\"\"\n",
    "reversing string with special case of slice step param\n",
    "\"\"\"\n",
    "a = 'abcdefghijklmnopqrstuvwxyz'\n",
    "print(a[::-1])"
   ]
  },
  {
   "cell_type": "code",
   "execution_count": 19,
   "metadata": {},
   "outputs": [
    {
     "output_type": "stream",
     "name": "stdout",
     "text": "z\ny\nx\nw\nv\nu\nt\ns\nr\nq\np\no\nn\nm\nl\nk\nj\ni\nh\ng\nf\ne\nd\nc\nb\na\n"
    }
   ],
   "source": [
    "\"\"\"\n",
    "iterating over string contents in reverse efficiently\n",
    "\"\"\"\n",
    "for char in reversed(a):\n",
    "    print(char)"
   ]
  },
  {
   "cell_type": "code",
   "execution_count": 20,
   "metadata": {},
   "outputs": [
    {
     "output_type": "stream",
     "name": "stdout",
     "text": "987654321\n"
    }
   ],
   "source": [
    "\"\"\"\n",
    "reversing an integer throw type conversion and slicing\n",
    "\"\"\"\n",
    "num = 123456789\n",
    "print(int(str(num)[::-1]))"
   ]
  },
  {
   "cell_type": "markdown",
   "metadata": {},
   "source": [
    "## 6.反转列表"
   ]
  },
  {
   "cell_type": "code",
   "execution_count": 21,
   "metadata": {},
   "outputs": [
    {
     "output_type": "stream",
     "name": "stdout",
     "text": "[1, 2, 3, 4, 5]\n"
    }
   ],
   "source": [
    "\"\"\"\n",
    "reversing list with special case of slice step param\n",
    "\"\"\"\n",
    "a = [5, 4, 3, 2, 1]\n",
    "print(a[::-1])"
   ]
  },
  {
   "cell_type": "code",
   "execution_count": 22,
   "metadata": {},
   "outputs": [
    {
     "output_type": "stream",
     "name": "stdout",
     "text": "1\n2\n3\n4\n5\n"
    }
   ],
   "source": [
    "\"\"\"\n",
    "iterating over string contents in reverse efficiently\n",
    "\"\"\"\n",
    "for ele in reversed(a):\n",
    "    print(ele)"
   ]
  },
  {
   "cell_type": "markdown",
   "metadata": {},
   "source": [
    "## 7.转置二维数据"
   ]
  },
  {
   "cell_type": "code",
   "execution_count": 24,
   "metadata": {},
   "outputs": [
    {
     "output_type": "stream",
     "name": "stdout",
     "text": "[('a', 'c', 'e'), ('b', 'd', 'f')]\n"
    }
   ],
   "source": [
    "\"\"\"\n",
    "transpose 2d array [[a, b], [c, d], [e, f]] -> [[a, c, e],[b, d, f]]\n",
    "\"\"\"\n",
    "original = [['a', 'b'], ['c', 'd'], ['e', 'f']]\n",
    "transposed = zip(*original)\n",
    "print(list(transposed))"
   ]
  },
  {
   "cell_type": "markdown",
   "metadata": {},
   "source": [
    "## 8.链式比较"
   ]
  },
  {
   "cell_type": "code",
   "execution_count": 25,
   "metadata": {},
   "outputs": [
    {
     "output_type": "stream",
     "name": "stdout",
     "text": "True\nFalse\n"
    }
   ],
   "source": [
    "\"\"\"\n",
    "chained comparasion with all kind of operators\n",
    "\"\"\"\n",
    "b = 6\n",
    "print(4 < b < 7)\n",
    "print(1 == b < 20)"
   ]
  },
  {
   "cell_type": "markdown",
   "metadata": {},
   "source": [
    "## 9.链式函数调用"
   ]
  },
  {
   "cell_type": "code",
   "execution_count": 26,
   "metadata": {},
   "outputs": [],
   "source": [
    "\"\"\"\n",
    "calling different functions with same arguments based on condition\n",
    "\"\"\"\n",
    "def product(a, b):\n",
    "    return a * b"
   ]
  },
  {
   "cell_type": "code",
   "execution_count": 27,
   "metadata": {},
   "outputs": [],
   "source": [
    "def add(a, b):\n",
    "    return a + b"
   ]
  },
  {
   "cell_type": "code",
   "execution_count": 29,
   "metadata": {},
   "outputs": [
    {
     "output_type": "stream",
     "name": "stdout",
     "text": "12\n"
    }
   ],
   "source": [
    "b = False\n",
    "print((product if b else add)(5, 7))"
   ]
  },
  {
   "cell_type": "markdown",
   "metadata": {},
   "source": [
    "## 10.复制列表"
   ]
  },
  {
   "cell_type": "code",
   "execution_count": 41,
   "metadata": {},
   "outputs": [
    {
     "output_type": "stream",
     "name": "stdout",
     "text": "[0, 1, 2, 3, 4, 5, 6, 7, 8, 9]\n[10, 1, 2, 3, 4, 5, 6, 7, 8, 9] [10, 1, 2, 3, 4, 5, 6, 7, 8, 9]\n4566912768 4566912768\n"
    }
   ],
   "source": [
    "\"\"\"\n",
    "a fast way to make a shallow copy of a list\n",
    "\"\"\"\n",
    "a = list(range(0, 10 ,1))\n",
    "print(a)\n",
    "b = a\n",
    "b[0] = 10\n",
    "print(a, b)\n",
    "print(id(a), id(b))\n",
    "## both a and b will be [10, 1, 2, 3, 4, 5, 6, 7, 8, 9]"
   ]
  },
  {
   "cell_type": "code",
   "execution_count": 42,
   "metadata": {},
   "outputs": [
    {
     "output_type": "stream",
     "name": "stdout",
     "text": "[0, 1, 2, 3, 4, 5, 6, 7, 8, 9]\n[0, 1, 2, 3, 4, 5, 6, 7, 8, 9] [10, 1, 2, 3, 4, 5, 6, 7, 8, 9]\n4566725888 4566435632\n"
    }
   ],
   "source": [
    "a = list(range(0, 10 ,1))\n",
    "print(a)\n",
    "b = a[:]\n",
    "b[0] = 10\n",
    "print(a, b)\n",
    "print(id(a), id(b))\n",
    "## only b will change to [10, 1, 2, 3, 4, 5, 6, 7, 8, 9]"
   ]
  },
  {
   "cell_type": "code",
   "execution_count": 39,
   "metadata": {},
   "outputs": [
    {
     "output_type": "stream",
     "name": "stdout",
     "text": "4565073264\n4567381728\n"
    }
   ],
   "source": [
    "# copy list by typecasting method\n",
    "a = list(range(0, 10 ,1))\n",
    "print(id(a))\n",
    "print(id(list(a)))"
   ]
  },
  {
   "cell_type": "code",
   "execution_count": 40,
   "metadata": {},
   "outputs": [
    {
     "output_type": "stream",
     "name": "stdout",
     "text": "4565073264\n4559652736\n"
    }
   ],
   "source": [
    "# using the list.copy method (python3 only)\n",
    "print(id(a))\n",
    "print(id(a.copy()))"
   ]
  },
  {
   "cell_type": "code",
   "execution_count": 44,
   "metadata": {},
   "outputs": [
    {
     "output_type": "stream",
     "name": "stdout",
     "text": "[[1, 2], [3, 4]]\n[[1, 2], [3, 4]]\n"
    }
   ],
   "source": [
    "# copy nested lists use copy.deepcopy\n",
    "from copy import deepcopy\n",
    "l = [[1, 2], [3, 4]]\n",
    "l2 = deepcopy(l)\n",
    "print(l2)\n",
    "l3 = l.copy()\n",
    "print(l3)"
   ]
  },
  {
   "cell_type": "markdown",
   "metadata": {},
   "source": [
    "## 11.字典get方法"
   ]
  },
  {
   "cell_type": "code",
   "execution_count": 45,
   "metadata": {},
   "outputs": [
    {
     "output_type": "stream",
     "name": "stdout",
     "text": "3\n"
    }
   ],
   "source": [
    "\"\"\"\n",
    "returning None of default value, when key is not in dict\n",
    "\"\"\"\n",
    "d = {'a': 1, 'b': 2}\n",
    "print(d.get('c', 3))"
   ]
  },
  {
   "cell_type": "markdown",
   "metadata": {},
   "source": [
    "## 12.通过[键]排序字典元素"
   ]
  },
  {
   "cell_type": "code",
   "execution_count": 46,
   "metadata": {},
   "outputs": [
    {
     "output_type": "stream",
     "name": "stdout",
     "text": "[('rotten tomato', 1), ('banana', 5), ('apple', 10), ('orange', 20)]\n"
    }
   ],
   "source": [
    "\"\"\"\n",
    "Sort a dictionary by its value with the default built-in sorted() function and a 'key' argument\n",
    "\"\"\"\n",
    "d = {\n",
    "    'apple': 10,\n",
    "    'orange': 20,\n",
    "    'banana': 5,\n",
    "    'rotten tomato': 1\n",
    "}\n",
    "print(sorted(d.items(), key=lambda x: x[1]))"
   ]
  },
  {
   "cell_type": "code",
   "execution_count": 48,
   "metadata": {},
   "outputs": [
    {
     "output_type": "stream",
     "name": "stdout",
     "text": "[('rotten tomato', 1), ('banana', 5), ('apple', 10), ('orange', 20)]\n"
    }
   ],
   "source": [
    "\"\"\"\n",
    "Sort using operator.itemgetter as the sort key instead of a lambda\n",
    "\"\"\"\n",
    "from operator import itemgetter\n",
    "\n",
    "print(sorted(d.items(), key=itemgetter(1)))"
   ]
  },
  {
   "cell_type": "code",
   "execution_count": 50,
   "metadata": {},
   "outputs": [
    {
     "output_type": "stream",
     "name": "stdout",
     "text": "['orange', 'apple', 'banana', 'rotten tomato']\n"
    }
   ],
   "source": [
    "\"\"\"\n",
    "Sort dict keys by value\n",
    "\"\"\"\n",
    "print(sorted(d, key=d.get, reverse=True))"
   ]
  },
  {
   "cell_type": "markdown",
   "metadata": {},
   "source": [
    "## 13.For Else"
   ]
  },
  {
   "cell_type": "code",
   "execution_count": 51,
   "metadata": {},
   "outputs": [
    {
     "output_type": "stream",
     "name": "stdout",
     "text": "1\n2\n3\n4\n5\ndid not break out of for loop\n"
    }
   ],
   "source": [
    "\"\"\"\n",
    "else gets called when for loop does not reach break statement\n",
    "\"\"\"\n",
    "a = [1, 2, 3, 4, 5]\n",
    "for el in a:\n",
    "    if el == 0:\n",
    "        break\n",
    "    else:\n",
    "        print(el)\n",
    "else:\n",
    "    print('did not break out of for loop')"
   ]
  },
  {
   "cell_type": "markdown",
   "metadata": {},
   "source": [
    "## 14. 转换列表为逗号分割符格式"
   ]
  },
  {
   "cell_type": "code",
   "execution_count": 52,
   "metadata": {},
   "outputs": [
    {
     "output_type": "stream",
     "name": "stdout",
     "text": "foo,bar,xyz\n"
    }
   ],
   "source": [
    "\"\"\"\n",
    "converts list to comma separated string\n",
    "\"\"\"\n",
    "items = ['foo', 'bar', 'xyz']\n",
    "print(','.join(items))"
   ]
  },
  {
   "cell_type": "code",
   "execution_count": 53,
   "metadata": {},
   "outputs": [
    {
     "output_type": "stream",
     "name": "stdout",
     "text": "2,3,5,10\n"
    }
   ],
   "source": [
    "\"\"\"\n",
    "list of numbers to comma separated\n",
    "\"\"\"\n",
    "numbers = [2, 3, 5, 10]\n",
    "print(','.join(map(str, numbers)))"
   ]
  },
  {
   "cell_type": "code",
   "execution_count": 54,
   "metadata": {},
   "outputs": [
    {
     "output_type": "stream",
     "name": "stdout",
     "text": "2,hello,3,3.4\n"
    }
   ],
   "source": [
    "\"\"\"\n",
    "list of mix data\n",
    "\"\"\"\n",
    "data = [2, 'hello', 3, 3.4]\n",
    "print(','.join(map(str, data)))"
   ]
  },
  {
   "cell_type": "markdown",
   "metadata": {},
   "source": [
    "## 15.合并字典"
   ]
  },
  {
   "cell_type": "code",
   "execution_count": 56,
   "metadata": {},
   "outputs": [],
   "source": [
    "\"\"\"\n",
    "merge dict's\n",
    "\"\"\"\n",
    "d1 = {'a': 1}\n",
    "d2 = {'b': 2}"
   ]
  },
  {
   "cell_type": "code",
   "execution_count": 57,
   "metadata": {},
   "outputs": [
    {
     "output_type": "stream",
     "name": "stdout",
     "text": "{'a': 1, 'b': 2}\n"
    }
   ],
   "source": [
    "print({**d1, **d2})"
   ]
  },
  {
   "cell_type": "code",
   "execution_count": 58,
   "metadata": {},
   "outputs": [
    {
     "output_type": "stream",
     "name": "stdout",
     "text": "{'a': 1, 'b': 2}\n"
    }
   ],
   "source": [
    "print(dict(d1.items() | d2.items()))"
   ]
  },
  {
   "cell_type": "code",
   "execution_count": 59,
   "metadata": {},
   "outputs": [
    {
     "output_type": "stream",
     "name": "stdout",
     "text": "{'a': 1, 'b': 2}\n"
    }
   ],
   "source": [
    "d1.update(d2)\n",
    "print(d1)"
   ]
  },
  {
   "cell_type": "markdown",
   "metadata": {},
   "source": [
    "## 16. 列表中最小和最大值的索引"
   ]
  },
  {
   "cell_type": "code",
   "execution_count": 60,
   "metadata": {},
   "outputs": [],
   "source": [
    "\"\"\"\n",
    "Find index of min/max element\n",
    "\"\"\"\n",
    "lst = [40, 10, 20, 30]"
   ]
  },
  {
   "cell_type": "code",
   "execution_count": 61,
   "metadata": {},
   "outputs": [],
   "source": [
    "def min_index(lst):\n",
    "    return min(range(len(lst)), key=lst.__getitem__)"
   ]
  },
  {
   "cell_type": "code",
   "execution_count": 62,
   "metadata": {},
   "outputs": [],
   "source": [
    "def max_index(lst):\n",
    "    return max(range(len(lst)), key=lst.__getitem__)"
   ]
  },
  {
   "cell_type": "code",
   "execution_count": 63,
   "metadata": {},
   "outputs": [
    {
     "output_type": "stream",
     "name": "stdout",
     "text": "1\n0\n"
    }
   ],
   "source": [
    "print(min_index(lst))\n",
    "print(max_index(lst))"
   ]
  },
  {
   "cell_type": "code",
   "execution_count": 64,
   "metadata": {},
   "outputs": [
    {
     "output_type": "stream",
     "name": "stdout",
     "text": "range(0, 4)\n"
    }
   ],
   "source": [
    "print(range(len(lst)))"
   ]
  },
  {
   "cell_type": "markdown",
   "metadata": {},
   "source": [
    "## 17. 移除列表中的重复元素"
   ]
  },
  {
   "cell_type": "code",
   "execution_count": 65,
   "metadata": {},
   "outputs": [],
   "source": [
    "\"\"\"\n",
    "remove duplicate items from list. note: does not preserve the original list order\n",
    "\"\"\"\n",
    "\n",
    "items = [2, 2, 3, 3, 1]"
   ]
  },
  {
   "cell_type": "code",
   "execution_count": 66,
   "metadata": {},
   "outputs": [
    {
     "output_type": "stream",
     "name": "stdout",
     "text": "[1, 2, 3]\n"
    }
   ],
   "source": [
    "newitems2 = list(set(items))\n",
    "print(newitems2)"
   ]
  },
  {
   "cell_type": "code",
   "execution_count": 67,
   "metadata": {},
   "outputs": [
    {
     "output_type": "stream",
     "name": "stdout",
     "text": "['foo', 'bar']\n"
    }
   ],
   "source": [
    "\"\"\"\n",
    "remove dups and keep order\n",
    "\"\"\"\n",
    "from collections import OrderedDict\n",
    "items = ['foo', 'bar', 'bar', 'foo']\n",
    "print(list(OrderedDict.fromkeys(items).keys()))"
   ]
  },
  {
   "cell_type": "code",
   "execution_count": null,
   "metadata": {},
   "outputs": [],
   "source": []
  }
 ],
 "metadata": {
  "language_info": {
   "codemirror_mode": {
    "name": "ipython",
    "version": 3
   },
   "file_extension": ".py",
   "mimetype": "text/x-python",
   "name": "python",
   "nbconvert_exporter": "python",
   "pygments_lexer": "ipython3",
   "version": "3.7.4-final"
  },
  "orig_nbformat": 2,
  "kernelspec": {
   "name": "python37464bit5da62c7ed731412fa3edffa85776323d",
   "display_name": "Python 3.7.4 64-bit"
  }
 },
 "nbformat": 4,
 "nbformat_minor": 2
}