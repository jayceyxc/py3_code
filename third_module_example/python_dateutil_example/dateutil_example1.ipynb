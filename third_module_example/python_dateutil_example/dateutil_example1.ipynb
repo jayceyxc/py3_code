{
 "nbformat": 4,
 "nbformat_minor": 2,
 "metadata": {
  "language_info": {
   "name": "python",
   "codemirror_mode": {
    "name": "ipython",
    "version": 3
   },
   "version": "3.7.4-final"
  },
  "orig_nbformat": 2,
  "file_extension": ".py",
  "mimetype": "text/x-python",
  "name": "python",
  "npconvert_exporter": "python",
  "pygments_lexer": "ipython3",
  "version": 3,
  "kernelspec": {
   "name": "python37464bit5da62c7ed731412fa3edffa85776323d",
   "display_name": "Python 3.7.4 64-bit"
  }
 },
 "cells": [
  {
   "cell_type": "markdown",
   "metadata": {},
   "source": [
    "# python-dateutil库示例代码"
   ]
  },
  {
   "cell_type": "code",
   "execution_count": 8,
   "metadata": {},
   "outputs": [],
   "source": [
    "from dateutil.parser import parse\n",
    "from dateutil.tz import *"
   ]
  },
  {
   "cell_type": "code",
   "execution_count": 3,
   "metadata": {},
   "outputs": [
    {
     "output_type": "stream",
     "name": "stdout",
     "text": "2020-01-01 00:00:01\n"
    }
   ],
   "source": [
    "log_line = 'INFO 2020-01-01T00:00:01 Happy new year, human.'\n",
    "timestamp = parse(log_line, fuzzy=True)\n",
    "print(timestamp)\n",
    "# 2020-01-01 00:00:01"
   ]
  },
  {
   "cell_type": "code",
   "execution_count": 4,
   "metadata": {},
   "outputs": [
    {
     "output_type": "execute_result",
     "data": {
      "text/plain": "datetime.datetime(2003, 9, 25, 10, 49, 41, tzinfo=tzoffset(None, -10800))"
     },
     "metadata": {},
     "execution_count": 4
    }
   ],
   "source": [
    "parse(\"20030925T104941-0300\")"
   ]
  },
  {
   "cell_type": "code",
   "execution_count": 11,
   "metadata": {},
   "outputs": [
    {
     "output_type": "execute_result",
     "data": {
      "text/plain": "datetime.datetime(2020, 4, 4, 10, 36, 28, 500000)"
     },
     "metadata": {},
     "execution_count": 11
    }
   ],
   "source": [
    "parse(\"10h36m28.5s\")"
   ]
  },
  {
   "cell_type": "code",
   "execution_count": null,
   "metadata": {},
   "outputs": [],
   "source": []
  }
 ]
}