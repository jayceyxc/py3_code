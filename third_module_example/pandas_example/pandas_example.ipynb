{
 "nbformat": 4,
 "nbformat_minor": 2,
 "metadata": {
  "language_info": {
   "name": "python",
   "codemirror_mode": {
    "name": "ipython",
    "version": 3
   },
   "version": "3.7.4-final"
  },
  "orig_nbformat": 2,
  "file_extension": ".py",
  "mimetype": "text/x-python",
  "name": "python",
  "npconvert_exporter": "python",
  "pygments_lexer": "ipython3",
  "version": 3,
  "kernelspec": {
   "name": "python37464bit5da62c7ed731412fa3edffa85776323d",
   "display_name": "Python 3.7.4 64-bit"
  }
 },
 "cells": [
  {
   "cell_type": "markdown",
   "metadata": {},
   "source": [
    "# Pandas的6个高效操作\n",
    "[加速数据分析，这12种高效Numpy和Pandas函数为你保驾护航](https://mp.weixin.qq.com/s/Cg2U9s0uwlv4_4xR10-M0w)\n",
    "[原文链接：](https://towardsdatascience.com/12-amazing-pandas-numpy-functions-22e5671a45b8)"
   ]
  },
  {
   "cell_type": "markdown",
   "metadata": {},
   "source": [
    "Pandas 也是一个 Python 包，它提供了快速、灵活以及具有显著表达能力的数据结构，旨在使处理结构化 (表格化、多维、异构) 和时间序列数据变得既简单又直观。"
   ]
  },
  {
   "cell_type": "markdown",
   "metadata": {},
   "source": [
    "Pandas 适用于以下各类数据:\n",
    "\n",
    "- 具有异构类型列的表格数据，如 SQL 表或 Excel 表；\n",
    "- 有序和无序 (不一定是固定频率) 的时间序列数据；\n",
    "- 带有行/列标签的任意矩阵数据（同构类型或者是异构类型）；\n",
    "- 其他任意形式的统计数据集。事实上，数据根本不需要标记就可以放入 Pandas 结构中。\n",
    "\n",
    "Pandas 擅长处理的类型如下所示：\n",
    "\n",
    "- 容易处理浮点数据和非浮点数据中的 缺失数据（用 NaN 表示）；\n",
    "- 大小可调整性: 可以从 DataFrame 或者更高维度的对象中插入或者是删除列；\n",
    "- 显式数据可自动对齐: 对象可以显式地对齐至一组标签内，或者用户可以简单地选择忽略标签，使 Series、 DataFrame 等自动对齐数据；\n",
    "- 灵活的分组功能，对数据集执行拆分-应用-合并等操作，对数据进行聚合和转换；\n",
    "- 简化将数据转换为 DataFrame 对象的过程，而这些数据基本是 Python 和 NumPy 数据结构中不规则、不同索引的数据；\n",
    "- 基于标签的智能切片、索引以及面向大型数据集的子设定；\n",
    "- 更加直观地合并以及连接数据集；\n",
    "- 更加灵活地重塑、转置（pivot）数据集；\n",
    "- 轴的分级标记 (可能包含多个标记)；\n",
    "- 具有鲁棒性的 IO 工具，用于从平面文件 (CSV 和 delimited)、 Excel 文件、数据库中加在数据，以及从 HDF5 格式中保存 / 加载数据；\n",
    "- 时间序列的特定功能: 数据范围的生成以及频率转换、移动窗口统计、数据移动和滞后等。"
   ]
  },
  {
   "cell_type": "markdown",
   "metadata": {},
   "source": [
    "## read_csv(nrows=n)\n",
    "\n",
    "大多数人都会犯的一个错误是，在不需要.csv 文件的情况下仍会完整地读取它。如果一个未知的.csv 文件有 10GB，那么读取整个.csv 文件将会非常不明智，不仅要占用大量内存，还会花很多时间。我们需要做的只是从.csv 文件中导入几行，之后根据需要继续导入。"
   ]
  },
  {
   "cell_type": "code",
   "execution_count": 14,
   "metadata": {},
   "outputs": [],
   "source": [
    "import pandas as pd\n",
    "import numpy as np\n",
    "import io\n",
    "import requests"
   ]
  },
  {
   "cell_type": "code",
   "execution_count": 3,
   "metadata": {},
   "outputs": [],
   "source": [
    "# I am using this online data set just to make things easier for you guys\n",
    "url = \"https://raw.github.com/vincentarelbundock/Rdatasets/master/csv/datasets/AirPassengers.csv\"\n",
    "s = requests.get(url).content"
   ]
  },
  {
   "cell_type": "code",
   "execution_count": 6,
   "metadata": {},
   "outputs": [
    {
     "output_type": "stream",
     "name": "stdout",
     "text": "\"\",\"time\",\"value\"\n\"1\",1949,112\n\"2\",1949.08333333333,118\n\"3\",1949.16666666667,132\n\"4\",1949.25,129\n\"5\",1949.33333333333,121\n\"6\",1949.41666666667,135\n\"7\",1949.5,148\n\"8\",1949.58333333333,148\n\"9\",1949.66666666667,136\n\"10\",1949.75,119\n\"11\",1949.83333333333,104\n\"12\",1949.91666666667,118\n\"13\",1950,115\n\"14\",1950.08333333333,126\n\"15\",1950.16666666667,141\n\"16\",1950.25,135\n\"17\",1950.33333333333,125\n\"18\",1950.41666666667,149\n\"19\",1950.5,170\n\"20\",1950.58333333333,170\n\"21\",1950.66666666667,158\n\"22\",1950.75,133\n\"23\",1950.83333333333,114\n\"24\",1950.91666666667,140\n\"25\",1951,145\n\"26\",1951.08333333333,150\n\"27\",1951.16666666667,178\n\"28\",1951.25,163\n\"29\",1951.33333333333,172\n\"30\",1951.41666666667,178\n\"31\",1951.5,199\n\"32\",1951.58333333333,199\n\"33\",1951.66666666667,184\n\"34\",1951.75,162\n\"35\",1951.83333333333,146\n\"36\",1951.91666666667,166\n\"37\",1952,171\n\"38\",1952.08333333333,180\n\"39\",1952.16666666667,193\n\"40\",1952.25,181\n\"41\",1952.33333333333,183\n\"42\",1952.41666666667,218\n\"43\",1952.5,230\n\"44\",1952.58333333333,242\n\"45\",1952.66666666667,209\n\"46\",1952.75,191\n\"47\",1952.83333333333,172\n\"48\",1952.91666666667,194\n\"49\",1953,196\n\"50\",1953.08333333333,196\n\"51\",1953.16666666667,236\n\"52\",1953.25,235\n\"53\",1953.33333333333,229\n\"54\",1953.41666666667,243\n\"55\",1953.5,264\n\"56\",1953.58333333333,272\n\"57\",1953.66666666667,237\n\"58\",1953.75,211\n\"59\",1953.83333333333,180\n\"60\",1953.91666666667,201\n\"61\",1954,204\n\"62\",1954.08333333333,188\n\"63\",1954.16666666667,235\n\"64\",1954.25,227\n\"65\",1954.33333333333,234\n\"66\",1954.41666666667,264\n\"67\",1954.5,302\n\"68\",1954.58333333333,293\n\"69\",1954.66666666667,259\n\"70\",1954.75,229\n\"71\",1954.83333333333,203\n\"72\",1954.91666666667,229\n\"73\",1955,242\n\"74\",1955.08333333334,233\n\"75\",1955.16666666667,267\n\"76\",1955.25,269\n\"77\",1955.33333333334,270\n\"78\",1955.41666666667,315\n\"79\",1955.5,364\n\"80\",1955.58333333334,347\n\"81\",1955.66666666667,312\n\"82\",1955.75,274\n\"83\",1955.83333333334,237\n\"84\",1955.91666666667,278\n\"85\",1956,284\n\"86\",1956.08333333334,277\n\"87\",1956.16666666667,317\n\"88\",1956.25,313\n\"89\",1956.33333333334,318\n\"90\",1956.41666666667,374\n\"91\",1956.5,413\n\"92\",1956.58333333334,405\n\"93\",1956.66666666667,355\n\"94\",1956.75,306\n\"95\",1956.83333333334,271\n\"96\",1956.91666666667,306\n\"97\",1957,315\n\"98\",1957.08333333334,301\n\"99\",1957.16666666667,356\n\"100\",1957.25,348\n\"101\",1957.33333333334,355\n\"102\",1957.41666666667,422\n\"103\",1957.5,465\n\"104\",1957.58333333334,467\n\"105\",1957.66666666667,404\n\"106\",1957.75,347\n\"107\",1957.83333333334,305\n\"108\",1957.91666666667,336\n\"109\",1958,340\n\"110\",1958.08333333334,318\n\"111\",1958.16666666667,362\n\"112\",1958.25,348\n\"113\",1958.33333333334,363\n\"114\",1958.41666666667,435\n\"115\",1958.5,491\n\"116\",1958.58333333334,505\n\"117\",1958.66666666667,404\n\"118\",1958.75,359\n\"119\",1958.83333333334,310\n\"120\",1958.91666666667,337\n\"121\",1959,360\n\"122\",1959.08333333334,342\n\"123\",1959.16666666667,406\n\"124\",1959.25,396\n\"125\",1959.33333333334,420\n\"126\",1959.41666666667,472\n\"127\",1959.5,548\n\"128\",1959.58333333334,559\n\"129\",1959.66666666667,463\n\"130\",1959.75,407\n\"131\",1959.83333333334,362\n\"132\",1959.91666666667,405\n\"133\",1960,417\n\"134\",1960.08333333334,391\n\"135\",1960.16666666667,419\n\"136\",1960.25,461\n\"137\",1960.33333333334,472\n\"138\",1960.41666666667,535\n\"139\",1960.5,622\n\"140\",1960.58333333334,606\n\"141\",1960.66666666667,508\n\"142\",1960.75,461\n\"143\",1960.83333333334,390\n\"144\",1960.91666666667,432\n\n"
    }
   ],
   "source": [
    "print(s.decode('utf-8'))"
   ]
  },
  {
   "cell_type": "code",
   "execution_count": 8,
   "metadata": {},
   "outputs": [],
   "source": [
    "data = io.StringIO(s.decode('utf-8'))"
   ]
  },
  {
   "cell_type": "code",
   "execution_count": 9,
   "metadata": {},
   "outputs": [
    {
     "output_type": "execute_result",
     "data": {
      "text/plain": "['\"\",\"time\",\"value\"\\n',\n '\"1\",1949,112\\n',\n '\"2\",1949.08333333333,118\\n',\n '\"3\",1949.16666666667,132\\n',\n '\"4\",1949.25,129\\n',\n '\"5\",1949.33333333333,121\\n',\n '\"6\",1949.41666666667,135\\n',\n '\"7\",1949.5,148\\n',\n '\"8\",1949.58333333333,148\\n',\n '\"9\",1949.66666666667,136\\n',\n '\"10\",1949.75,119\\n',\n '\"11\",1949.83333333333,104\\n',\n '\"12\",1949.91666666667,118\\n',\n '\"13\",1950,115\\n',\n '\"14\",1950.08333333333,126\\n',\n '\"15\",1950.16666666667,141\\n',\n '\"16\",1950.25,135\\n',\n '\"17\",1950.33333333333,125\\n',\n '\"18\",1950.41666666667,149\\n',\n '\"19\",1950.5,170\\n',\n '\"20\",1950.58333333333,170\\n',\n '\"21\",1950.66666666667,158\\n',\n '\"22\",1950.75,133\\n',\n '\"23\",1950.83333333333,114\\n',\n '\"24\",1950.91666666667,140\\n',\n '\"25\",1951,145\\n',\n '\"26\",1951.08333333333,150\\n',\n '\"27\",1951.16666666667,178\\n',\n '\"28\",1951.25,163\\n',\n '\"29\",1951.33333333333,172\\n',\n '\"30\",1951.41666666667,178\\n',\n '\"31\",1951.5,199\\n',\n '\"32\",1951.58333333333,199\\n',\n '\"33\",1951.66666666667,184\\n',\n '\"34\",1951.75,162\\n',\n '\"35\",1951.83333333333,146\\n',\n '\"36\",1951.91666666667,166\\n',\n '\"37\",1952,171\\n',\n '\"38\",1952.08333333333,180\\n',\n '\"39\",1952.16666666667,193\\n',\n '\"40\",1952.25,181\\n',\n '\"41\",1952.33333333333,183\\n',\n '\"42\",1952.41666666667,218\\n',\n '\"43\",1952.5,230\\n',\n '\"44\",1952.58333333333,242\\n',\n '\"45\",1952.66666666667,209\\n',\n '\"46\",1952.75,191\\n',\n '\"47\",1952.83333333333,172\\n',\n '\"48\",1952.91666666667,194\\n',\n '\"49\",1953,196\\n',\n '\"50\",1953.08333333333,196\\n',\n '\"51\",1953.16666666667,236\\n',\n '\"52\",1953.25,235\\n',\n '\"53\",1953.33333333333,229\\n',\n '\"54\",1953.41666666667,243\\n',\n '\"55\",1953.5,264\\n',\n '\"56\",1953.58333333333,272\\n',\n '\"57\",1953.66666666667,237\\n',\n '\"58\",1953.75,211\\n',\n '\"59\",1953.83333333333,180\\n',\n '\"60\",1953.91666666667,201\\n',\n '\"61\",1954,204\\n',\n '\"62\",1954.08333333333,188\\n',\n '\"63\",1954.16666666667,235\\n',\n '\"64\",1954.25,227\\n',\n '\"65\",1954.33333333333,234\\n',\n '\"66\",1954.41666666667,264\\n',\n '\"67\",1954.5,302\\n',\n '\"68\",1954.58333333333,293\\n',\n '\"69\",1954.66666666667,259\\n',\n '\"70\",1954.75,229\\n',\n '\"71\",1954.83333333333,203\\n',\n '\"72\",1954.91666666667,229\\n',\n '\"73\",1955,242\\n',\n '\"74\",1955.08333333334,233\\n',\n '\"75\",1955.16666666667,267\\n',\n '\"76\",1955.25,269\\n',\n '\"77\",1955.33333333334,270\\n',\n '\"78\",1955.41666666667,315\\n',\n '\"79\",1955.5,364\\n',\n '\"80\",1955.58333333334,347\\n',\n '\"81\",1955.66666666667,312\\n',\n '\"82\",1955.75,274\\n',\n '\"83\",1955.83333333334,237\\n',\n '\"84\",1955.91666666667,278\\n',\n '\"85\",1956,284\\n',\n '\"86\",1956.08333333334,277\\n',\n '\"87\",1956.16666666667,317\\n',\n '\"88\",1956.25,313\\n',\n '\"89\",1956.33333333334,318\\n',\n '\"90\",1956.41666666667,374\\n',\n '\"91\",1956.5,413\\n',\n '\"92\",1956.58333333334,405\\n',\n '\"93\",1956.66666666667,355\\n',\n '\"94\",1956.75,306\\n',\n '\"95\",1956.83333333334,271\\n',\n '\"96\",1956.91666666667,306\\n',\n '\"97\",1957,315\\n',\n '\"98\",1957.08333333334,301\\n',\n '\"99\",1957.16666666667,356\\n',\n '\"100\",1957.25,348\\n',\n '\"101\",1957.33333333334,355\\n',\n '\"102\",1957.41666666667,422\\n',\n '\"103\",1957.5,465\\n',\n '\"104\",1957.58333333334,467\\n',\n '\"105\",1957.66666666667,404\\n',\n '\"106\",1957.75,347\\n',\n '\"107\",1957.83333333334,305\\n',\n '\"108\",1957.91666666667,336\\n',\n '\"109\",1958,340\\n',\n '\"110\",1958.08333333334,318\\n',\n '\"111\",1958.16666666667,362\\n',\n '\"112\",1958.25,348\\n',\n '\"113\",1958.33333333334,363\\n',\n '\"114\",1958.41666666667,435\\n',\n '\"115\",1958.5,491\\n',\n '\"116\",1958.58333333334,505\\n',\n '\"117\",1958.66666666667,404\\n',\n '\"118\",1958.75,359\\n',\n '\"119\",1958.83333333334,310\\n',\n '\"120\",1958.91666666667,337\\n',\n '\"121\",1959,360\\n',\n '\"122\",1959.08333333334,342\\n',\n '\"123\",1959.16666666667,406\\n',\n '\"124\",1959.25,396\\n',\n '\"125\",1959.33333333334,420\\n',\n '\"126\",1959.41666666667,472\\n',\n '\"127\",1959.5,548\\n',\n '\"128\",1959.58333333334,559\\n',\n '\"129\",1959.66666666667,463\\n',\n '\"130\",1959.75,407\\n',\n '\"131\",1959.83333333334,362\\n',\n '\"132\",1959.91666666667,405\\n',\n '\"133\",1960,417\\n',\n '\"134\",1960.08333333334,391\\n',\n '\"135\",1960.16666666667,419\\n',\n '\"136\",1960.25,461\\n',\n '\"137\",1960.33333333334,472\\n',\n '\"138\",1960.41666666667,535\\n',\n '\"139\",1960.5,622\\n',\n '\"140\",1960.58333333334,606\\n',\n '\"141\",1960.66666666667,508\\n',\n '\"142\",1960.75,461\\n',\n '\"143\",1960.83333333334,390\\n',\n '\"144\",1960.91666666667,432\\n']"
     },
     "metadata": {},
     "execution_count": 9
    }
   ],
   "source": [
    "data.readlines()"
   ]
  },
  {
   "cell_type": "code",
   "execution_count": 10,
   "metadata": {},
   "outputs": [],
   "source": [
    "# read only first 10 rows\n",
    "df = pd.read_csv(io.StringIO(s.decode('utf-8')), nrows=10 , index_col=0)"
   ]
  },
  {
   "cell_type": "code",
   "execution_count": 12,
   "metadata": {},
   "outputs": [
    {
     "output_type": "execute_result",
     "data": {
      "text/plain": "           time  value\n1   1949.000000    112\n2   1949.083333    118\n3   1949.166667    132\n4   1949.250000    129\n5   1949.333333    121\n6   1949.416667    135\n7   1949.500000    148\n8   1949.583333    148\n9   1949.666667    136\n10  1949.750000    119",
      "text/html": "<div>\n<style scoped>\n    .dataframe tbody tr th:only-of-type {\n        vertical-align: middle;\n    }\n\n    .dataframe tbody tr th {\n        vertical-align: top;\n    }\n\n    .dataframe thead th {\n        text-align: right;\n    }\n</style>\n<table border=\"1\" class=\"dataframe\">\n  <thead>\n    <tr style=\"text-align: right;\">\n      <th></th>\n      <th>time</th>\n      <th>value</th>\n    </tr>\n  </thead>\n  <tbody>\n    <tr>\n      <th>1</th>\n      <td>1949.000000</td>\n      <td>112</td>\n    </tr>\n    <tr>\n      <th>2</th>\n      <td>1949.083333</td>\n      <td>118</td>\n    </tr>\n    <tr>\n      <th>3</th>\n      <td>1949.166667</td>\n      <td>132</td>\n    </tr>\n    <tr>\n      <th>4</th>\n      <td>1949.250000</td>\n      <td>129</td>\n    </tr>\n    <tr>\n      <th>5</th>\n      <td>1949.333333</td>\n      <td>121</td>\n    </tr>\n    <tr>\n      <th>6</th>\n      <td>1949.416667</td>\n      <td>135</td>\n    </tr>\n    <tr>\n      <th>7</th>\n      <td>1949.500000</td>\n      <td>148</td>\n    </tr>\n    <tr>\n      <th>8</th>\n      <td>1949.583333</td>\n      <td>148</td>\n    </tr>\n    <tr>\n      <th>9</th>\n      <td>1949.666667</td>\n      <td>136</td>\n    </tr>\n    <tr>\n      <th>10</th>\n      <td>1949.750000</td>\n      <td>119</td>\n    </tr>\n  </tbody>\n</table>\n</div>"
     },
     "metadata": {},
     "execution_count": 12
    }
   ],
   "source": [
    "df"
   ]
  },
  {
   "cell_type": "markdown",
   "metadata": {},
   "source": [
    "## map()\n",
    "\n",
    "map( ) 函数根据相应的输入来映射 Series 的值。用于将一个 Series 中的每个值替换为另一个值，该值可能来自一个函数、也可能来自于一个 dict 或 Series。"
   ]
  },
  {
   "cell_type": "code",
   "execution_count": 23,
   "metadata": {},
   "outputs": [],
   "source": [
    "# create a dataframe\n",
    "dframe = pd.DataFrame(np.random.randn(4, 3), columns=list('bde'), index=['India', 'USA', 'China', 'Russia'])"
   ]
  },
  {
   "cell_type": "code",
   "execution_count": 24,
   "metadata": {},
   "outputs": [],
   "source": [
    "#compute a formatted string from each floating point value in frame\n",
    "changefn = lambda x: '%.2f' % x"
   ]
  },
  {
   "cell_type": "code",
   "execution_count": 25,
   "metadata": {},
   "outputs": [
    {
     "output_type": "execute_result",
     "data": {
      "text/plain": "India      0.60\nUSA        0.88\nChina     -1.00\nRussia     1.88\nName: d, dtype: object"
     },
     "metadata": {},
     "execution_count": 25
    }
   ],
   "source": [
    "dframe['d'].map(changefn)"
   ]
  },
  {
   "cell_type": "code",
   "execution_count": 26,
   "metadata": {},
   "outputs": [
    {
     "output_type": "execute_result",
     "data": {
      "text/plain": "               b         d         e\nIndia  -0.016921  0.602678 -0.598748\nUSA     0.068681  0.880483 -0.336340\nChina  -0.658720 -1.003563 -0.314892\nRussia  0.897613  1.881295 -1.408342",
      "text/html": "<div>\n<style scoped>\n    .dataframe tbody tr th:only-of-type {\n        vertical-align: middle;\n    }\n\n    .dataframe tbody tr th {\n        vertical-align: top;\n    }\n\n    .dataframe thead th {\n        text-align: right;\n    }\n</style>\n<table border=\"1\" class=\"dataframe\">\n  <thead>\n    <tr style=\"text-align: right;\">\n      <th></th>\n      <th>b</th>\n      <th>d</th>\n      <th>e</th>\n    </tr>\n  </thead>\n  <tbody>\n    <tr>\n      <th>India</th>\n      <td>-0.016921</td>\n      <td>0.602678</td>\n      <td>-0.598748</td>\n    </tr>\n    <tr>\n      <th>USA</th>\n      <td>0.068681</td>\n      <td>0.880483</td>\n      <td>-0.336340</td>\n    </tr>\n    <tr>\n      <th>China</th>\n      <td>-0.658720</td>\n      <td>-1.003563</td>\n      <td>-0.314892</td>\n    </tr>\n    <tr>\n      <th>Russia</th>\n      <td>0.897613</td>\n      <td>1.881295</td>\n      <td>-1.408342</td>\n    </tr>\n  </tbody>\n</table>\n</div>"
     },
     "metadata": {},
     "execution_count": 26
    }
   ],
   "source": [
    "dframe"
   ]
  },
  {
   "cell_type": "code",
   "execution_count": 27,
   "metadata": {},
   "outputs": [
    {
     "output_type": "execute_result",
     "data": {
      "text/plain": "b    float64\nd    float64\ne    float64\ndtype: object"
     },
     "metadata": {},
     "execution_count": 27
    }
   ],
   "source": [
    "dframe.dtypes"
   ]
  },
  {
   "cell_type": "markdown",
   "metadata": {},
   "source": [
    "## apply()\n",
    "\n",
    "apply() 允许用户传递函数，并将其应用于 Pandas 序列中的每个值。"
   ]
  },
  {
   "cell_type": "code",
   "execution_count": 28,
   "metadata": {},
   "outputs": [
    {
     "output_type": "execute_result",
     "data": {
      "text/plain": "b    1.556333\nd    2.884858\ne    1.093450\ndtype: float64"
     },
     "metadata": {},
     "execution_count": 28
    }
   ],
   "source": [
    "# max minus mix lambda fn\n",
    "fn = lambda x: x.max() - x.min()\n",
    "# Apply this on dframe that we've just created above\n",
    "dframe.apply(fn)"
   ]
  },
  {
   "cell_type": "markdown",
   "metadata": {},
   "source": [
    "## isin()\n",
    "\n",
    "isin () 用于过滤数据帧。isin () 有助于选择特定列中具有特定（或多个）值的行。"
   ]
  },
  {
   "cell_type": "code",
   "execution_count": 31,
   "metadata": {},
   "outputs": [
    {
     "output_type": "execute_result",
     "data": {
      "text/plain": "          time  value\n1  1949.000000    112\n2  1949.083333    118",
      "text/html": "<div>\n<style scoped>\n    .dataframe tbody tr th:only-of-type {\n        vertical-align: middle;\n    }\n\n    .dataframe tbody tr th {\n        vertical-align: top;\n    }\n\n    .dataframe thead th {\n        text-align: right;\n    }\n</style>\n<table border=\"1\" class=\"dataframe\">\n  <thead>\n    <tr style=\"text-align: right;\">\n      <th></th>\n      <th>time</th>\n      <th>value</th>\n    </tr>\n  </thead>\n  <tbody>\n    <tr>\n      <th>1</th>\n      <td>1949.000000</td>\n      <td>112</td>\n    </tr>\n    <tr>\n      <th>2</th>\n      <td>1949.083333</td>\n      <td>118</td>\n    </tr>\n  </tbody>\n</table>\n</div>"
     },
     "metadata": {},
     "execution_count": 31
    }
   ],
   "source": [
    "# Using the dataframe we created for read_csv\n",
    "filter1 = df[\"value\"].isin([112, 118]) \n",
    "filter2 = df[\"time\"].isin([1949.000000])\n",
    "df[filter1 | filter2]"
   ]
  },
  {
   "cell_type": "markdown",
   "metadata": {},
   "source": [
    "## copy()\n",
    "\n",
    "Copy () 函数用于复制 Pandas 对象。当一个数据帧分配给另一个数据帧时，如果对其中一个数据帧进行更改，另一个数据帧的值也将发生更改。为了防止这类问题，可以使用 copy () 函数。"
   ]
  },
  {
   "cell_type": "code",
   "execution_count": 32,
   "metadata": {},
   "outputs": [
    {
     "output_type": "execute_result",
     "data": {
      "text/plain": "0         USA\n1    Pakistan\n2       China\n3    Mongolia\ndtype: object"
     },
     "metadata": {},
     "execution_count": 32
    }
   ],
   "source": [
    "# creating sample series \n",
    "data = pd.Series(['India', 'Pakistan', 'China', 'Mongolia'])\n",
    "# Assigning issue that we face\n",
    "data1= data\n",
    "# Change a value\n",
    "data1[0]='USA'\n",
    "# Also changes value in old dataframe\n",
    "data"
   ]
  },
  {
   "cell_type": "code",
   "execution_count": 34,
   "metadata": {},
   "outputs": [
    {
     "output_type": "stream",
     "name": "stdout",
     "text": "0            India\n1    Changed value\n2            China\n3         Mongolia\ndtype: object\n0       India\n1    Pakistan\n2       China\n3    Mongolia\ndtype: object\n"
    }
   ],
   "source": [
    "# creating sample series \n",
    "data = pd.Series(['India', 'Pakistan', 'China', 'Mongolia'])\n",
    "# To prevent that, we use creating copy of series \n",
    "new = data.copy()\n",
    "# assigning new values \n",
    "new[1]='Changed value'\n",
    "# printing data \n",
    "print(new) \n",
    "print(data)"
   ]
  },
  {
   "cell_type": "markdown",
   "metadata": {},
   "source": [
    "## select_dtypes()\n",
    "\n",
    "select_dtypes() 的作用是，基于 dtypes 的列返回数据帧列的一个子集。这个函数的参数可设置为包含所有拥有特定数据类型的列，亦或者设置为排除具有特定数据类型的列。"
   ]
  },
  {
   "cell_type": "code",
   "execution_count": 35,
   "metadata": {},
   "outputs": [],
   "source": [
    "# We'll use the same dataframe that we used for read_csv\n",
    "framex =  df.select_dtypes(include=\"float64\")\n",
    "# Returns only time column"
   ]
  },
  {
   "cell_type": "code",
   "execution_count": 36,
   "metadata": {},
   "outputs": [
    {
     "output_type": "execute_result",
     "data": {
      "text/plain": "           time\n1   1949.000000\n2   1949.083333\n3   1949.166667\n4   1949.250000\n5   1949.333333\n6   1949.416667\n7   1949.500000\n8   1949.583333\n9   1949.666667\n10  1949.750000",
      "text/html": "<div>\n<style scoped>\n    .dataframe tbody tr th:only-of-type {\n        vertical-align: middle;\n    }\n\n    .dataframe tbody tr th {\n        vertical-align: top;\n    }\n\n    .dataframe thead th {\n        text-align: right;\n    }\n</style>\n<table border=\"1\" class=\"dataframe\">\n  <thead>\n    <tr style=\"text-align: right;\">\n      <th></th>\n      <th>time</th>\n    </tr>\n  </thead>\n  <tbody>\n    <tr>\n      <th>1</th>\n      <td>1949.000000</td>\n    </tr>\n    <tr>\n      <th>2</th>\n      <td>1949.083333</td>\n    </tr>\n    <tr>\n      <th>3</th>\n      <td>1949.166667</td>\n    </tr>\n    <tr>\n      <th>4</th>\n      <td>1949.250000</td>\n    </tr>\n    <tr>\n      <th>5</th>\n      <td>1949.333333</td>\n    </tr>\n    <tr>\n      <th>6</th>\n      <td>1949.416667</td>\n    </tr>\n    <tr>\n      <th>7</th>\n      <td>1949.500000</td>\n    </tr>\n    <tr>\n      <th>8</th>\n      <td>1949.583333</td>\n    </tr>\n    <tr>\n      <th>9</th>\n      <td>1949.666667</td>\n    </tr>\n    <tr>\n      <th>10</th>\n      <td>1949.750000</td>\n    </tr>\n  </tbody>\n</table>\n</div>"
     },
     "metadata": {},
     "execution_count": 36
    }
   ],
   "source": [
    "framex"
   ]
  },
  {
   "cell_type": "markdown",
   "metadata": {},
   "source": [
    "最后，pivot_table() 也是 Pandas 中一个非常有用的函数。如果对 pivot_table() 在 excel 中的使用有所了解，那么就非常容易上手了。"
   ]
  },
  {
   "cell_type": "code",
   "execution_count": 37,
   "metadata": {},
   "outputs": [
    {
     "output_type": "execute_result",
     "data": {
      "text/plain": "B                 Graduate        Masters\nB        C                               \nGraduate 20          Nicky  Not Available\n         22          Usher  Not Available\n         24           Will  Not Available\nMasters  23  Not Available         Romero\n         26  Not Available            Jay",
      "text/html": "<div>\n<style scoped>\n    .dataframe tbody tr th:only-of-type {\n        vertical-align: middle;\n    }\n\n    .dataframe tbody tr th {\n        vertical-align: top;\n    }\n\n    .dataframe thead th {\n        text-align: right;\n    }\n</style>\n<table border=\"1\" class=\"dataframe\">\n  <thead>\n    <tr style=\"text-align: right;\">\n      <th></th>\n      <th>B</th>\n      <th>Graduate</th>\n      <th>Masters</th>\n    </tr>\n    <tr>\n      <th>B</th>\n      <th>C</th>\n      <th></th>\n      <th></th>\n    </tr>\n  </thead>\n  <tbody>\n    <tr>\n      <th rowspan=\"3\" valign=\"top\">Graduate</th>\n      <th>20</th>\n      <td>Nicky</td>\n      <td>Not Available</td>\n    </tr>\n    <tr>\n      <th>22</th>\n      <td>Usher</td>\n      <td>Not Available</td>\n    </tr>\n    <tr>\n      <th>24</th>\n      <td>Will</td>\n      <td>Not Available</td>\n    </tr>\n    <tr>\n      <th rowspan=\"2\" valign=\"top\">Masters</th>\n      <th>23</th>\n      <td>Not Available</td>\n      <td>Romero</td>\n    </tr>\n    <tr>\n      <th>26</th>\n      <td>Not Available</td>\n      <td>Jay</td>\n    </tr>\n  </tbody>\n</table>\n</div>"
     },
     "metadata": {},
     "execution_count": 37
    }
   ],
   "source": [
    "# Create a sample dataframe\n",
    "school = pd.DataFrame({'A': ['Jay', 'Usher', 'Nicky', 'Romero', 'Will'], \n",
    "      'B': ['Masters', 'Graduate', 'Graduate', 'Masters', 'Graduate'], \n",
    "      'C': [26, 22, 20, 23, 24]})\n",
    "\n",
    "# Lets create a pivot table to segregate students based on age and course\n",
    "table = pd.pivot_table(school, values ='A', index =['B', 'C'], \n",
    "                         columns =['B'], aggfunc = np.sum, fill_value=\"Not Available\") \n",
    "\n",
    "table"
   ]
  },
  {
   "cell_type": "code",
   "execution_count": null,
   "metadata": {},
   "outputs": [],
   "source": []
  }
 ]
}