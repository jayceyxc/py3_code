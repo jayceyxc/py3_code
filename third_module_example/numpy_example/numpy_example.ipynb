{
 "nbformat": 4,
 "nbformat_minor": 2,
 "metadata": {
  "language_info": {
   "name": "python",
   "codemirror_mode": {
    "name": "ipython",
    "version": 3
   },
   "version": "3.7.4-final"
  },
  "orig_nbformat": 2,
  "file_extension": ".py",
  "mimetype": "text/x-python",
  "name": "python",
  "npconvert_exporter": "python",
  "pygments_lexer": "ipython3",
  "version": 3,
  "kernelspec": {
   "name": "python37464bit5da62c7ed731412fa3edffa85776323d",
   "display_name": "Python 3.7.4 64-bit"
  }
 },
 "cells": [
  {
   "cell_type": "markdown",
   "metadata": {},
   "source": [
    "# Numpy的6个高效操作\n",
    "[加速数据分析，这12种高效Numpy和Pandas函数为你保驾护航](https://mp.weixin.qq.com/s/Cg2U9s0uwlv4_4xR10-M0w)\n",
    "[原文链接：](https://towardsdatascience.com/12-amazing-pandas-numpy-functions-22e5671a45b8)"
   ]
  },
  {
   "cell_type": "markdown",
   "metadata": {},
   "source": [
    "## argpartition()\n",
    "\n",
    "借助于 argpartition()，Numpy 可以找出 N 个最大数值的索引，也会将找到的这些索引输出。然后我们根据需要对数值进行排序。"
   ]
  },
  {
   "cell_type": "code",
   "execution_count": 2,
   "metadata": {},
   "outputs": [],
   "source": [
    "import numpy as np"
   ]
  },
  {
   "cell_type": "code",
   "execution_count": 3,
   "metadata": {},
   "outputs": [
    {
     "output_type": "execute_result",
     "data": {
      "text/plain": "array([1, 8, 2, 0])"
     },
     "metadata": {},
     "execution_count": 3
    }
   ],
   "source": [
    "x = np.array([12, 10, 12, 0, 6, 8, 9, 1, 16, 4, 6, 0])\n",
    "index_val = np.argpartition(x, -4)[-4:]\n",
    "index_val"
   ]
  },
  {
   "cell_type": "code",
   "execution_count": 4,
   "metadata": {},
   "outputs": [
    {
     "output_type": "execute_result",
     "data": {
      "text/plain": "array([0, 1, 2, 8])"
     },
     "metadata": {},
     "execution_count": 4
    }
   ],
   "source": [
    "np.sort(index_val)"
   ]
  },
  {
   "cell_type": "code",
   "execution_count": 5,
   "metadata": {},
   "outputs": [
    {
     "output_type": "execute_result",
     "data": {
      "text/plain": "array([10, 12, 12, 16])"
     },
     "metadata": {},
     "execution_count": 5
    }
   ],
   "source": [
    "np.sort(x[index_val])"
   ]
  },
  {
   "cell_type": "markdown",
   "metadata": {},
   "source": [
    "## allclose()\n",
    "\n",
    "allclose() 用于匹配两个数组，并得到布尔值表示的输出。如果在一个公差范围内（within a tolerance）两个数组不等同，则 allclose() 返回 False。该函数对于检查两个数组是否相似非常有用。"
   ]
  },
  {
   "cell_type": "code",
   "execution_count": 6,
   "metadata": {},
   "outputs": [],
   "source": [
    "array1 = np.array([0.12,0.17,0.24,0.29])\n",
    "array2 = np.array([0.13,0.19,0.26,0.31])"
   ]
  },
  {
   "cell_type": "code",
   "execution_count": 7,
   "metadata": {},
   "outputs": [
    {
     "output_type": "execute_result",
     "data": {
      "text/plain": "False"
     },
     "metadata": {},
     "execution_count": 7
    }
   ],
   "source": [
    "# with a tolerance of 0.1, it should return False:\n",
    "np.allclose(array1, array2, 0.1)"
   ]
  },
  {
   "cell_type": "code",
   "execution_count": 8,
   "metadata": {},
   "outputs": [
    {
     "output_type": "execute_result",
     "data": {
      "text/plain": "True"
     },
     "metadata": {},
     "execution_count": 8
    }
   ],
   "source": [
    "# with a tolerance of 0.2, it should return False:\n",
    "np.allclose(array1, array2, 0.2)"
   ]
  },
  {
   "cell_type": "markdown",
   "metadata": {},
   "source": [
    "## clip()\n",
    "\n",
    "Clip() 使得一个数组中的数值保持在一个区间内。有时，我们需要保证数值在上下限范围内。为此，我们可以借助 Numpy 的 clip() 函数实现该目的。给定一个区间，则区间外的数值被剪切至区间上下限（interval edge）。"
   ]
  },
  {
   "cell_type": "code",
   "execution_count": 9,
   "metadata": {},
   "outputs": [],
   "source": [
    "x = np.array([3, 17, 14, 23, 2, 2, 6, 8, 1, 2, 16, 0])"
   ]
  },
  {
   "cell_type": "code",
   "execution_count": 10,
   "metadata": {},
   "outputs": [
    {
     "output_type": "execute_result",
     "data": {
      "text/plain": "array([3, 5, 5, 5, 2, 2, 5, 5, 2, 2, 5, 2])"
     },
     "metadata": {},
     "execution_count": 10
    }
   ],
   "source": [
    "np.clip(x, 2, 5)"
   ]
  },
  {
   "cell_type": "markdown",
   "metadata": {},
   "source": [
    "## extract()\n",
    "\n",
    "顾名思义，extract() 是在特定条件下从一个数组中提取特定元素。借助于 extract()，我们还可以使用 and 和 or 等条件。"
   ]
  },
  {
   "cell_type": "code",
   "execution_count": 16,
   "metadata": {},
   "outputs": [],
   "source": [
    "# Random integers\n",
    "array = np.random.randint(20, size=12)"
   ]
  },
  {
   "cell_type": "code",
   "execution_count": 17,
   "metadata": {},
   "outputs": [
    {
     "output_type": "execute_result",
     "data": {
      "text/plain": "array([13,  4, 14, 17,  2, 11,  6,  4, 17,  6,  9, 10])"
     },
     "metadata": {},
     "execution_count": 17
    }
   ],
   "source": [
    "array"
   ]
  },
  {
   "cell_type": "code",
   "execution_count": 18,
   "metadata": {},
   "outputs": [
    {
     "output_type": "execute_result",
     "data": {
      "text/plain": "array([ True, False, False,  True, False,  True, False, False,  True,\n       False,  True, False])"
     },
     "metadata": {},
     "execution_count": 18
    }
   ],
   "source": [
    "#  Divide by 2 and check if remainder is 1\n",
    "cond = np.mod(array, 2)==1\n",
    "cond"
   ]
  },
  {
   "cell_type": "code",
   "execution_count": 19,
   "metadata": {},
   "outputs": [
    {
     "output_type": "execute_result",
     "data": {
      "text/plain": "array([13, 17, 11, 17,  9])"
     },
     "metadata": {},
     "execution_count": 19
    }
   ],
   "source": [
    "# Use extract to get the values\n",
    "np.extract(cond, array)"
   ]
  },
  {
   "cell_type": "code",
   "execution_count": 20,
   "metadata": {},
   "outputs": [
    {
     "output_type": "execute_result",
     "data": {
      "text/plain": "array([17,  2, 17])"
     },
     "metadata": {},
     "execution_count": 20
    }
   ],
   "source": [
    "# Apply condition on extract directly\n",
    "np.extract(((array < 3) | (array > 15)), array)"
   ]
  },
  {
   "cell_type": "markdown",
   "metadata": {},
   "source": [
    "## where()\n",
    "\n",
    "Where() 用于从一个数组中返回满足特定条件的元素。比如，它会返回满足特定条件的数值的索引位置。Where() 与 SQL 中使用的 where condition 类似"
   ]
  },
  {
   "cell_type": "code",
   "execution_count": 23,
   "metadata": {},
   "outputs": [],
   "source": [
    "y = np.array([1, 5, 6, 8, 1, 7, 3, 6, 9])"
   ]
  },
  {
   "cell_type": "code",
   "execution_count": 24,
   "metadata": {},
   "outputs": [
    {
     "output_type": "execute_result",
     "data": {
      "text/plain": "(array([2, 3, 5, 7, 8]),)"
     },
     "metadata": {},
     "execution_count": 24
    }
   ],
   "source": [
    "# Where y is greater than 5, returns index position\n",
    "np.where(y > 5)"
   ]
  },
  {
   "cell_type": "code",
   "execution_count": 25,
   "metadata": {},
   "outputs": [
    {
     "output_type": "execute_result",
     "data": {
      "text/plain": "array(['Miss', 'Miss', 'Hit', 'Hit', 'Miss', 'Hit', 'Miss', 'Hit', 'Hit'],\n      dtype='<U4')"
     },
     "metadata": {},
     "execution_count": 25
    }
   ],
   "source": [
    "# First will replace the values that match the condition, \n",
    "# second will replace the values that does not\n",
    "np.where(y > 5, \"Hit\", \"Miss\")"
   ]
  },
  {
   "cell_type": "markdown",
   "metadata": {},
   "source": [
    "## percentile()\n",
    "\n",
    "Percentile() 用于计算特定轴方向上数组元素的第 n 个百分位数。"
   ]
  },
  {
   "cell_type": "code",
   "execution_count": 26,
   "metadata": {},
   "outputs": [
    {
     "output_type": "stream",
     "name": "stdout",
     "text": "50th Percentile of a, axis = 0 :  6.0\n"
    }
   ],
   "source": [
    "a = np.array([1, 5, 6, 8, 1, 7, 3, 6, 9])\n",
    "print(\"50th Percentile of a, axis = 0 : \", np.percentile(a, 50, axis = 0))"
   ]
  },
  {
   "cell_type": "code",
   "execution_count": 27,
   "metadata": {},
   "outputs": [
    {
     "output_type": "stream",
     "name": "stdout",
     "text": "30th Percentile of b, axis = 0 :  [5.1 3.5 1.9]\n"
    }
   ],
   "source": [
    "b = np.array([[10, 7, 4], [3, 2, 1]])\n",
    "print(\"30th Percentile of b, axis = 0 : \", np.percentile(b, 30, axis =0))"
   ]
  },
  {
   "cell_type": "code",
   "execution_count": null,
   "metadata": {},
   "outputs": [],
   "source": []
  }
 ]
}