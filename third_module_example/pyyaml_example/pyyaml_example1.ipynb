{
 "nbformat": 4,
 "nbformat_minor": 2,
 "metadata": {
  "language_info": {
   "name": "python",
   "codemirror_mode": {
    "name": "ipython",
    "version": 3
   },
   "version": "3.7.4-final"
  },
  "orig_nbformat": 2,
  "file_extension": ".py",
  "mimetype": "text/x-python",
  "name": "python",
  "npconvert_exporter": "python",
  "pygments_lexer": "ipython3",
  "version": 3,
  "kernelspec": {
   "name": "python37464bit5da62c7ed731412fa3edffa85776323d",
   "display_name": "Python 3.7.4 64-bit"
  }
 },
 "cells": [
  {
   "cell_type": "markdown",
   "metadata": {},
   "source": [
    "# pyyaml示例"
   ]
  },
  {
   "cell_type": "code",
   "execution_count": 7,
   "metadata": {},
   "outputs": [],
   "source": [
    "import yaml\n",
    "import codecs"
   ]
  },
  {
   "cell_type": "code",
   "execution_count": 8,
   "metadata": {},
   "outputs": [
    {
     "output_type": "execute_result",
     "data": {
      "text/plain": "['Hesperiidae', 'Papilionidae', 'Apatelodidae', 'Epiplemidae']"
     },
     "metadata": {},
     "execution_count": 8
    }
   ],
   "source": [
    "yaml.load(\"\"\"\n",
    " - Hesperiidae\n",
    " - Papilionidae\n",
    " - Apatelodidae\n",
    " - Epiplemidae\n",
    "\"\"\")"
   ]
  },
  {
   "cell_type": "code",
   "execution_count": 15,
   "metadata": {},
   "outputs": [],
   "source": [
    "try:\n",
    "    config = yaml.load(codecs.open('config.yml', mode='r', encoding='utf8'))\n",
    "except yaml.YAMLError as exc:\n",
    "    print(f'Error in configuration file: {exc}')"
   ]
  },
  {
   "cell_type": "code",
   "execution_count": 17,
   "metadata": {},
   "outputs": [
    {
     "output_type": "execute_result",
     "data": {
      "text/plain": "dict_keys(['repos'])"
     },
     "metadata": {},
     "execution_count": 17
    }
   ],
   "source": [
    "config.keys()"
   ]
  },
  {
   "cell_type": "code",
   "execution_count": 18,
   "metadata": {},
   "outputs": [
    {
     "output_type": "execute_result",
     "data": {
      "text/plain": "{'repo': 'https://github.com/PyCQA/flake8',\n 'rev': '3.7.9',\n 'hooks': {'id': 'flake8',\n  'additional_dependencies': 'flake8-docstrings=1.5.0 pydocstyle==5.0.2',\n  'files': '^.+\\\\.py&'}}"
     },
     "metadata": {},
     "execution_count": 18
    }
   ],
   "source": [
    "config.get('repos')"
   ]
  },
  {
   "cell_type": "code",
   "execution_count": 21,
   "metadata": {},
   "outputs": [
    {
     "output_type": "stream",
     "name": "stdout",
     "text": "{'repos': {'repo': 'https://github.com/PyCQA/flake8', 'rev': '3.7.9', 'hooks': {'id': 'flake8', 'additional_dependencies': 'flake8-docstrings=1.5.0 pydocstyle==5.0.2', 'files': '^.+\\\\.py&'}}}\n"
    }
   ],
   "source": [
    "for data in yaml.load_all(codecs.open('config.yml', mode='r')):\n",
    "    print(data)"
   ]
  },
  {
   "cell_type": "code",
   "execution_count": null,
   "metadata": {},
   "outputs": [],
   "source": []
  }
 ]
}