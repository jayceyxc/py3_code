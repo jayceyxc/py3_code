{
 "nbformat": 4,
 "nbformat_minor": 2,
 "metadata": {
  "language_info": {
   "name": "python",
   "codemirror_mode": {
    "name": "ipython",
    "version": 3
   },
   "version": "3.7.4-final"
  },
  "orig_nbformat": 2,
  "file_extension": ".py",
  "mimetype": "text/x-python",
  "name": "python",
  "npconvert_exporter": "python",
  "pygments_lexer": "ipython3",
  "version": 3,
  "kernelspec": {
   "name": "python37464bit5da62c7ed731412fa3edffa85776323d",
   "display_name": "Python 3.7.4 64-bit"
  }
 },
 "cells": [
  {
   "cell_type": "markdown",
   "metadata": {},
   "source": [
    "# 5 Visualisations to Level Up Your Data Story\n",
    "\n",
    "[原文链接](https://towardsdatascience.com/5-visualisations-to-level-up-your-data-story-e131759c2f41)\n",
    "\n",
    "[译文链接](https://mp.weixin.qq.com/s/7wWY41qrYW_t0CfgRCbgSA)"
   ]
  },
  {
   "cell_type": "code",
   "execution_count": 6,
   "metadata": {},
   "outputs": [
    {
     "output_type": "display_data",
     "data": {
      "application/vnd.plotly.v1+json": {
       "config": {
        "plotlyServerURL": "https://plot.ly"
       },
       "data": [
        {
         "alignmentgroup": "True",
         "hovertemplate": "Entity=%{y}<br>Year=1991<br>Deaths=%{x}<extra></extra>",
         "legendgroup": "All natural disasters",
         "marker": {
          "color": "#636efa"
         },
         "name": "All natural disasters",
         "offsetgroup": "All natural disasters",
         "orientation": "h",
         "showlegend": true,
         "textposition": "auto",
         "type": "bar",
         "x": [
          189707
         ],
         "xaxis": "x",
         "y": [
          "All natural disasters"
         ],
         "yaxis": "y"
        },
        {
         "alignmentgroup": "True",
         "hovertemplate": "Entity=%{y}<br>Year=1991<br>Deaths=%{x}<extra></extra>",
         "legendgroup": "Drought",
         "marker": {
          "color": "#EF553B"
         },
         "name": "Drought",
         "offsetgroup": "Drought",
         "orientation": "h",
         "showlegend": true,
         "textposition": "auto",
         "type": "bar",
         "x": [
          2000
         ],
         "xaxis": "x",
         "y": [
          "Drought"
         ],
         "yaxis": "y"
        },
        {
         "alignmentgroup": "True",
         "hovertemplate": "Entity=%{y}<br>Year=1991<br>Deaths=%{x}<extra></extra>",
         "legendgroup": "Earthquake",
         "marker": {
          "color": "#00cc96"
         },
         "name": "Earthquake",
         "offsetgroup": "Earthquake",
         "orientation": "h",
         "showlegend": true,
         "textposition": "auto",
         "type": "bar",
         "x": [
          2454
         ],
         "xaxis": "x",
         "y": [
          "Earthquake"
         ],
         "yaxis": "y"
        },
        {
         "alignmentgroup": "True",
         "hovertemplate": "Entity=%{y}<br>Year=1991<br>Deaths=%{x}<extra></extra>",
         "legendgroup": "Epidemic",
         "marker": {
          "color": "#ab63fa"
         },
         "name": "Epidemic",
         "offsetgroup": "Epidemic",
         "orientation": "h",
         "showlegend": true,
         "textposition": "auto",
         "type": "bar",
         "x": [
          30682
         ],
         "xaxis": "x",
         "y": [
          "Epidemic"
         ],
         "yaxis": "y"
        },
        {
         "alignmentgroup": "True",
         "hovertemplate": "Entity=%{y}<br>Year=1991<br>Deaths=%{x}<extra></extra>",
         "legendgroup": "Extreme temperature",
         "marker": {
          "color": "#FFA15A"
         },
         "name": "Extreme temperature",
         "offsetgroup": "Extreme temperature",
         "orientation": "h",
         "showlegend": true,
         "textposition": "auto",
         "type": "bar",
         "x": [
          835
         ],
         "xaxis": "x",
         "y": [
          "Extreme temperature"
         ],
         "yaxis": "y"
        },
        {
         "alignmentgroup": "True",
         "hovertemplate": "Entity=%{y}<br>Year=1991<br>Deaths=%{x}<extra></extra>",
         "legendgroup": "Extreme weather",
         "marker": {
          "color": "#19d3f3"
         },
         "name": "Extreme weather",
         "offsetgroup": "Extreme weather",
         "orientation": "h",
         "showlegend": true,
         "textposition": "auto",
         "type": "bar",
         "x": [
          146297
         ],
         "xaxis": "x",
         "y": [
          "Extreme weather"
         ],
         "yaxis": "y"
        },
        {
         "alignmentgroup": "True",
         "hovertemplate": "Entity=%{y}<br>Year=1991<br>Deaths=%{x}<extra></extra>",
         "legendgroup": "Flood",
         "marker": {
          "color": "#FF6692"
         },
         "name": "Flood",
         "offsetgroup": "Flood",
         "orientation": "h",
         "showlegend": true,
         "textposition": "auto",
         "type": "bar",
         "x": [
          5852
         ],
         "xaxis": "x",
         "y": [
          "Flood"
         ],
         "yaxis": "y"
        },
        {
         "alignmentgroup": "True",
         "hovertemplate": "Entity=%{y}<br>Year=1991<br>Deaths=%{x}<extra></extra>",
         "legendgroup": "Landslide",
         "marker": {
          "color": "#B6E880"
         },
         "name": "Landslide",
         "offsetgroup": "Landslide",
         "orientation": "h",
         "showlegend": true,
         "textposition": "auto",
         "type": "bar",
         "x": [
          728
         ],
         "xaxis": "x",
         "y": [
          "Landslide"
         ],
         "yaxis": "y"
        },
        {
         "alignmentgroup": "True",
         "hovertemplate": "Entity=%{y}<br>Year=1991<br>Deaths=%{x}<extra></extra>",
         "legendgroup": "Mass movement (dry)",
         "marker": {
          "color": "#FF97FF"
         },
         "name": "Mass movement (dry)",
         "offsetgroup": "Mass movement (dry)",
         "orientation": "h",
         "showlegend": true,
         "textposition": "auto",
         "type": "bar",
         "x": [
          86
         ],
         "xaxis": "x",
         "y": [
          "Mass movement (dry)"
         ],
         "yaxis": "y"
        },
        {
         "alignmentgroup": "True",
         "hovertemplate": "Entity=%{y}<br>Year=1991<br>Deaths=%{x}<extra></extra>",
         "legendgroup": "Volcanic activity",
         "marker": {
          "color": "#FECB52"
         },
         "name": "Volcanic activity",
         "offsetgroup": "Volcanic activity",
         "orientation": "h",
         "showlegend": true,
         "textposition": "auto",
         "type": "bar",
         "x": [
          683
         ],
         "xaxis": "x",
         "y": [
          "Volcanic activity"
         ],
         "yaxis": "y"
        },
        {
         "alignmentgroup": "True",
         "hovertemplate": "Entity=%{y}<br>Year=1991<br>Deaths=%{x}<extra></extra>",
         "legendgroup": "Wildfire",
         "marker": {
          "color": "#636efa"
         },
         "name": "Wildfire",
         "offsetgroup": "Wildfire",
         "orientation": "h",
         "showlegend": true,
         "textposition": "auto",
         "type": "bar",
         "x": [
          90
         ],
         "xaxis": "x",
         "y": [
          "Wildfire"
         ],
         "yaxis": "y"
        }
       ],
       "frames": [
        {
         "data": [
          {
           "alignmentgroup": "True",
           "hovertemplate": "Entity=%{y}<br>Year=1991<br>Deaths=%{x}<extra></extra>",
           "legendgroup": "All natural disasters",
           "marker": {
            "color": "#636efa"
           },
           "name": "All natural disasters",
           "offsetgroup": "All natural disasters",
           "orientation": "h",
           "showlegend": true,
           "textposition": "auto",
           "type": "bar",
           "x": [
            189707
           ],
           "xaxis": "x",
           "y": [
            "All natural disasters"
           ],
           "yaxis": "y"
          },
          {
           "alignmentgroup": "True",
           "hovertemplate": "Entity=%{y}<br>Year=1991<br>Deaths=%{x}<extra></extra>",
           "legendgroup": "Drought",
           "marker": {
            "color": "#EF553B"
           },
           "name": "Drought",
           "offsetgroup": "Drought",
           "orientation": "h",
           "showlegend": true,
           "textposition": "auto",
           "type": "bar",
           "x": [
            2000
           ],
           "xaxis": "x",
           "y": [
            "Drought"
           ],
           "yaxis": "y"
          },
          {
           "alignmentgroup": "True",
           "hovertemplate": "Entity=%{y}<br>Year=1991<br>Deaths=%{x}<extra></extra>",
           "legendgroup": "Earthquake",
           "marker": {
            "color": "#00cc96"
           },
           "name": "Earthquake",
           "offsetgroup": "Earthquake",
           "orientation": "h",
           "showlegend": true,
           "textposition": "auto",
           "type": "bar",
           "x": [
            2454
           ],
           "xaxis": "x",
           "y": [
            "Earthquake"
           ],
           "yaxis": "y"
          },
          {
           "alignmentgroup": "True",
           "hovertemplate": "Entity=%{y}<br>Year=1991<br>Deaths=%{x}<extra></extra>",
           "legendgroup": "Epidemic",
           "marker": {
            "color": "#ab63fa"
           },
           "name": "Epidemic",
           "offsetgroup": "Epidemic",
           "orientation": "h",
           "showlegend": true,
           "textposition": "auto",
           "type": "bar",
           "x": [
            30682
           ],
           "xaxis": "x",
           "y": [
            "Epidemic"
           ],
           "yaxis": "y"
          },
          {
           "alignmentgroup": "True",
           "hovertemplate": "Entity=%{y}<br>Year=1991<br>Deaths=%{x}<extra></extra>",
           "legendgroup": "Extreme temperature",
           "marker": {
            "color": "#FFA15A"
           },
           "name": "Extreme temperature",
           "offsetgroup": "Extreme temperature",
           "orientation": "h",
           "showlegend": true,
           "textposition": "auto",
           "type": "bar",
           "x": [
            835
           ],
           "xaxis": "x",
           "y": [
            "Extreme temperature"
           ],
           "yaxis": "y"
          },
          {
           "alignmentgroup": "True",
           "hovertemplate": "Entity=%{y}<br>Year=1991<br>Deaths=%{x}<extra></extra>",
           "legendgroup": "Extreme weather",
           "marker": {
            "color": "#19d3f3"
           },
           "name": "Extreme weather",
           "offsetgroup": "Extreme weather",
           "orientation": "h",
           "showlegend": true,
           "textposition": "auto",
           "type": "bar",
           "x": [
            146297
           ],
           "xaxis": "x",
           "y": [
            "Extreme weather"
           ],
           "yaxis": "y"
          },
          {
           "alignmentgroup": "True",
           "hovertemplate": "Entity=%{y}<br>Year=1991<br>Deaths=%{x}<extra></extra>",
           "legendgroup": "Flood",
           "marker": {
            "color": "#FF6692"
           },
           "name": "Flood",
           "offsetgroup": "Flood",
           "orientation": "h",
           "showlegend": true,
           "textposition": "auto",
           "type": "bar",
           "x": [
            5852
           ],
           "xaxis": "x",
           "y": [
            "Flood"
           ],
           "yaxis": "y"
          },
          {
           "alignmentgroup": "True",
           "hovertemplate": "Entity=%{y}<br>Year=1991<br>Deaths=%{x}<extra></extra>",
           "legendgroup": "Landslide",
           "marker": {
            "color": "#B6E880"
           },
           "name": "Landslide",
           "offsetgroup": "Landslide",
           "orientation": "h",
           "showlegend": true,
           "textposition": "auto",
           "type": "bar",
           "x": [
            728
           ],
           "xaxis": "x",
           "y": [
            "Landslide"
           ],
           "yaxis": "y"
          },
          {
           "alignmentgroup": "True",
           "hovertemplate": "Entity=%{y}<br>Year=1991<br>Deaths=%{x}<extra></extra>",
           "legendgroup": "Mass movement (dry)",
           "marker": {
            "color": "#FF97FF"
           },
           "name": "Mass movement (dry)",
           "offsetgroup": "Mass movement (dry)",
           "orientation": "h",
           "showlegend": true,
           "textposition": "auto",
           "type": "bar",
           "x": [
            86
           ],
           "xaxis": "x",
           "y": [
            "Mass movement (dry)"
           ],
           "yaxis": "y"
          },
          {
           "alignmentgroup": "True",
           "hovertemplate": "Entity=%{y}<br>Year=1991<br>Deaths=%{x}<extra></extra>",
           "legendgroup": "Volcanic activity",
           "marker": {
            "color": "#FECB52"
           },
           "name": "Volcanic activity",
           "offsetgroup": "Volcanic activity",
           "orientation": "h",
           "showlegend": true,
           "textposition": "auto",
           "type": "bar",
           "x": [
            683
           ],
           "xaxis": "x",
           "y": [
            "Volcanic activity"
           ],
           "yaxis": "y"
          },
          {
           "alignmentgroup": "True",
           "hovertemplate": "Entity=%{y}<br>Year=1991<br>Deaths=%{x}<extra></extra>",
           "legendgroup": "Wildfire",
           "marker": {
            "color": "#636efa"
           },
           "name": "Wildfire",
           "offsetgroup": "Wildfire",
           "orientation": "h",
           "showlegend": true,
           "textposition": "auto",
           "type": "bar",
           "x": [
            90
           ],
           "xaxis": "x",
           "y": [
            "Wildfire"
           ],
           "yaxis": "y"
          }
         ],
         "name": "1991"
        },
        {
         "data": [
          {
           "alignmentgroup": "True",
           "hovertemplate": "Entity=%{y}<br>Year=1992<br>Deaths=%{x}<extra></extra>",
           "legendgroup": "All natural disasters",
           "marker": {
            "color": "#636efa"
           },
           "name": "All natural disasters",
           "offsetgroup": "All natural disasters",
           "orientation": "h",
           "showlegend": true,
           "textposition": "auto",
           "type": "bar",
           "x": [
            18911
           ],
           "xaxis": "x",
           "y": [
            "All natural disasters"
           ],
           "yaxis": "y"
          },
          {
           "alignmentgroup": "True",
           "hovertemplate": "Entity=%{y}<br>Year=1992<br>Deaths=%{x}<extra></extra>",
           "legendgroup": "Earthquake",
           "marker": {
            "color": "#00cc96"
           },
           "name": "Earthquake",
           "offsetgroup": "Earthquake",
           "orientation": "h",
           "showlegend": true,
           "textposition": "auto",
           "type": "bar",
           "x": [
            4033
           ],
           "xaxis": "x",
           "y": [
            "Earthquake"
           ],
           "yaxis": "y"
          },
          {
           "alignmentgroup": "True",
           "hovertemplate": "Entity=%{y}<br>Year=1992<br>Deaths=%{x}<extra></extra>",
           "legendgroup": "Epidemic",
           "marker": {
            "color": "#ab63fa"
           },
           "name": "Epidemic",
           "offsetgroup": "Epidemic",
           "orientation": "h",
           "showlegend": true,
           "textposition": "auto",
           "type": "bar",
           "x": [
            6675
           ],
           "xaxis": "x",
           "y": [
            "Epidemic"
           ],
           "yaxis": "y"
          },
          {
           "alignmentgroup": "True",
           "hovertemplate": "Entity=%{y}<br>Year=1992<br>Deaths=%{x}<extra></extra>",
           "legendgroup": "Extreme temperature",
           "marker": {
            "color": "#FFA15A"
           },
           "name": "Extreme temperature",
           "offsetgroup": "Extreme temperature",
           "orientation": "h",
           "showlegend": true,
           "textposition": "auto",
           "type": "bar",
           "x": [
            388
           ],
           "xaxis": "x",
           "y": [
            "Extreme temperature"
           ],
           "yaxis": "y"
          },
          {
           "alignmentgroup": "True",
           "hovertemplate": "Entity=%{y}<br>Year=1992<br>Deaths=%{x}<extra></extra>",
           "legendgroup": "Extreme weather",
           "marker": {
            "color": "#19d3f3"
           },
           "name": "Extreme weather",
           "offsetgroup": "Extreme weather",
           "orientation": "h",
           "showlegend": true,
           "textposition": "auto",
           "type": "bar",
           "x": [
            1342
           ],
           "xaxis": "x",
           "y": [
            "Extreme weather"
           ],
           "yaxis": "y"
          },
          {
           "alignmentgroup": "True",
           "hovertemplate": "Entity=%{y}<br>Year=1992<br>Deaths=%{x}<extra></extra>",
           "legendgroup": "Flood",
           "marker": {
            "color": "#FF6692"
           },
           "name": "Flood",
           "offsetgroup": "Flood",
           "orientation": "h",
           "showlegend": true,
           "textposition": "auto",
           "type": "bar",
           "x": [
            5315
           ],
           "xaxis": "x",
           "y": [
            "Flood"
           ],
           "yaxis": "y"
          },
          {
           "alignmentgroup": "True",
           "hovertemplate": "Entity=%{y}<br>Year=1992<br>Deaths=%{x}<extra></extra>",
           "legendgroup": "Landslide",
           "marker": {
            "color": "#B6E880"
           },
           "name": "Landslide",
           "offsetgroup": "Landslide",
           "orientation": "h",
           "showlegend": true,
           "textposition": "auto",
           "type": "bar",
           "x": [
            712
           ],
           "xaxis": "x",
           "y": [
            "Landslide"
           ],
           "yaxis": "y"
          },
          {
           "alignmentgroup": "True",
           "hovertemplate": "Entity=%{y}<br>Year=1992<br>Deaths=%{x}<extra></extra>",
           "legendgroup": "Mass movement (dry)",
           "marker": {
            "color": "#FF97FF"
           },
           "name": "Mass movement (dry)",
           "offsetgroup": "Mass movement (dry)",
           "orientation": "h",
           "showlegend": true,
           "textposition": "auto",
           "type": "bar",
           "x": [
            323
           ],
           "xaxis": "x",
           "y": [
            "Mass movement (dry)"
           ],
           "yaxis": "y"
          },
          {
           "alignmentgroup": "True",
           "hovertemplate": "Entity=%{y}<br>Year=1992<br>Deaths=%{x}<extra></extra>",
           "legendgroup": "Volcanic activity",
           "marker": {
            "color": "#FECB52"
           },
           "name": "Volcanic activity",
           "offsetgroup": "Volcanic activity",
           "orientation": "h",
           "showlegend": true,
           "textposition": "auto",
           "type": "bar",
           "x": [
            1
           ],
           "xaxis": "x",
           "y": [
            "Volcanic activity"
           ],
           "yaxis": "y"
          },
          {
           "alignmentgroup": "True",
           "hovertemplate": "Entity=%{y}<br>Year=1992<br>Deaths=%{x}<extra></extra>",
           "legendgroup": "Wildfire",
           "marker": {
            "color": "#636efa"
           },
           "name": "Wildfire",
           "offsetgroup": "Wildfire",
           "orientation": "h",
           "showlegend": true,
           "textposition": "auto",
           "type": "bar",
           "x": [
            122
           ],
           "xaxis": "x",
           "y": [
            "Wildfire"
           ],
           "yaxis": "y"
          }
         ],
         "name": "1992"
        },
        {
         "data": [
          {
           "alignmentgroup": "True",
           "hovertemplate": "Entity=%{y}<br>Year=1993<br>Deaths=%{x}<extra></extra>",
           "legendgroup": "All natural disasters",
           "marker": {
            "color": "#636efa"
           },
           "name": "All natural disasters",
           "offsetgroup": "All natural disasters",
           "orientation": "h",
           "showlegend": true,
           "textposition": "auto",
           "type": "bar",
           "x": [
            21821
           ],
           "xaxis": "x",
           "y": [
            "All natural disasters"
           ],
           "yaxis": "y"
          },
          {
           "alignmentgroup": "True",
           "hovertemplate": "Entity=%{y}<br>Year=1993<br>Deaths=%{x}<extra></extra>",
           "legendgroup": "Earthquake",
           "marker": {
            "color": "#00cc96"
           },
           "name": "Earthquake",
           "offsetgroup": "Earthquake",
           "orientation": "h",
           "showlegend": true,
           "textposition": "auto",
           "type": "bar",
           "x": [
            10088
           ],
           "xaxis": "x",
           "y": [
            "Earthquake"
           ],
           "yaxis": "y"
          },
          {
           "alignmentgroup": "True",
           "hovertemplate": "Entity=%{y}<br>Year=1993<br>Deaths=%{x}<extra></extra>",
           "legendgroup": "Epidemic",
           "marker": {
            "color": "#ab63fa"
           },
           "name": "Epidemic",
           "offsetgroup": "Epidemic",
           "orientation": "h",
           "showlegend": true,
           "textposition": "auto",
           "type": "bar",
           "x": [
            651
           ],
           "xaxis": "x",
           "y": [
            "Epidemic"
           ],
           "yaxis": "y"
          },
          {
           "alignmentgroup": "True",
           "hovertemplate": "Entity=%{y}<br>Year=1993<br>Deaths=%{x}<extra></extra>",
           "legendgroup": "Extreme temperature",
           "marker": {
            "color": "#FFA15A"
           },
           "name": "Extreme temperature",
           "offsetgroup": "Extreme temperature",
           "orientation": "h",
           "showlegend": true,
           "textposition": "auto",
           "type": "bar",
           "x": [
            106
           ],
           "xaxis": "x",
           "y": [
            "Extreme temperature"
           ],
           "yaxis": "y"
          },
          {
           "alignmentgroup": "True",
           "hovertemplate": "Entity=%{y}<br>Year=1993<br>Deaths=%{x}<extra></extra>",
           "legendgroup": "Extreme weather",
           "marker": {
            "color": "#19d3f3"
           },
           "name": "Extreme weather",
           "offsetgroup": "Extreme weather",
           "orientation": "h",
           "showlegend": true,
           "textposition": "auto",
           "type": "bar",
           "x": [
            2965
           ],
           "xaxis": "x",
           "y": [
            "Extreme weather"
           ],
           "yaxis": "y"
          },
          {
           "alignmentgroup": "True",
           "hovertemplate": "Entity=%{y}<br>Year=1993<br>Deaths=%{x}<extra></extra>",
           "legendgroup": "Flood",
           "marker": {
            "color": "#FF6692"
           },
           "name": "Flood",
           "offsetgroup": "Flood",
           "orientation": "h",
           "showlegend": true,
           "textposition": "auto",
           "type": "bar",
           "x": [
            6150
           ],
           "xaxis": "x",
           "y": [
            "Flood"
           ],
           "yaxis": "y"
          },
          {
           "alignmentgroup": "True",
           "hovertemplate": "Entity=%{y}<br>Year=1993<br>Deaths=%{x}<extra></extra>",
           "legendgroup": "Landslide",
           "marker": {
            "color": "#B6E880"
           },
           "name": "Landslide",
           "offsetgroup": "Landslide",
           "orientation": "h",
           "showlegend": true,
           "textposition": "auto",
           "type": "bar",
           "x": [
            1418
           ],
           "xaxis": "x",
           "y": [
            "Landslide"
           ],
           "yaxis": "y"
          },
          {
           "alignmentgroup": "True",
           "hovertemplate": "Entity=%{y}<br>Year=1993<br>Deaths=%{x}<extra></extra>",
           "legendgroup": "Mass movement (dry)",
           "marker": {
            "color": "#FF97FF"
           },
           "name": "Mass movement (dry)",
           "offsetgroup": "Mass movement (dry)",
           "orientation": "h",
           "showlegend": true,
           "textposition": "auto",
           "type": "bar",
           "x": [
            341
           ],
           "xaxis": "x",
           "y": [
            "Mass movement (dry)"
           ],
           "yaxis": "y"
          },
          {
           "alignmentgroup": "True",
           "hovertemplate": "Entity=%{y}<br>Year=1993<br>Deaths=%{x}<extra></extra>",
           "legendgroup": "Volcanic activity",
           "marker": {
            "color": "#FECB52"
           },
           "name": "Volcanic activity",
           "offsetgroup": "Volcanic activity",
           "orientation": "h",
           "showlegend": true,
           "textposition": "auto",
           "type": "bar",
           "x": [
            99
           ],
           "xaxis": "x",
           "y": [
            "Volcanic activity"
           ],
           "yaxis": "y"
          },
          {
           "alignmentgroup": "True",
           "hovertemplate": "Entity=%{y}<br>Year=1993<br>Deaths=%{x}<extra></extra>",
           "legendgroup": "Wildfire",
           "marker": {
            "color": "#636efa"
           },
           "name": "Wildfire",
           "offsetgroup": "Wildfire",
           "orientation": "h",
           "showlegend": true,
           "textposition": "auto",
           "type": "bar",
           "x": [
            3
           ],
           "xaxis": "x",
           "y": [
            "Wildfire"
           ],
           "yaxis": "y"
          }
         ],
         "name": "1993"
        },
        {
         "data": [
          {
           "alignmentgroup": "True",
           "hovertemplate": "Entity=%{y}<br>Year=1994<br>Deaths=%{x}<extra></extra>",
           "legendgroup": "All natural disasters",
           "marker": {
            "color": "#636efa"
           },
           "name": "All natural disasters",
           "offsetgroup": "All natural disasters",
           "orientation": "h",
           "showlegend": true,
           "textposition": "auto",
           "type": "bar",
           "x": [
            15590
           ],
           "xaxis": "x",
           "y": [
            "All natural disasters"
           ],
           "yaxis": "y"
          },
          {
           "alignmentgroup": "True",
           "hovertemplate": "Entity=%{y}<br>Year=1994<br>Deaths=%{x}<extra></extra>",
           "legendgroup": "Earthquake",
           "marker": {
            "color": "#00cc96"
           },
           "name": "Earthquake",
           "offsetgroup": "Earthquake",
           "orientation": "h",
           "showlegend": true,
           "textposition": "auto",
           "type": "bar",
           "x": [
            1242
           ],
           "xaxis": "x",
           "y": [
            "Earthquake"
           ],
           "yaxis": "y"
          },
          {
           "alignmentgroup": "True",
           "hovertemplate": "Entity=%{y}<br>Year=1994<br>Deaths=%{x}<extra></extra>",
           "legendgroup": "Epidemic",
           "marker": {
            "color": "#ab63fa"
           },
           "name": "Epidemic",
           "offsetgroup": "Epidemic",
           "orientation": "h",
           "showlegend": true,
           "textposition": "auto",
           "type": "bar",
           "x": [
            2505
           ],
           "xaxis": "x",
           "y": [
            "Epidemic"
           ],
           "yaxis": "y"
          },
          {
           "alignmentgroup": "True",
           "hovertemplate": "Entity=%{y}<br>Year=1994<br>Deaths=%{x}<extra></extra>",
           "legendgroup": "Extreme temperature",
           "marker": {
            "color": "#FFA15A"
           },
           "name": "Extreme temperature",
           "offsetgroup": "Extreme temperature",
           "orientation": "h",
           "showlegend": true,
           "textposition": "auto",
           "type": "bar",
           "x": [
            341
           ],
           "xaxis": "x",
           "y": [
            "Extreme temperature"
           ],
           "yaxis": "y"
          },
          {
           "alignmentgroup": "True",
           "hovertemplate": "Entity=%{y}<br>Year=1994<br>Deaths=%{x}<extra></extra>",
           "legendgroup": "Extreme weather",
           "marker": {
            "color": "#19d3f3"
           },
           "name": "Extreme weather",
           "offsetgroup": "Extreme weather",
           "orientation": "h",
           "showlegend": true,
           "textposition": "auto",
           "type": "bar",
           "x": [
            4239
           ],
           "xaxis": "x",
           "y": [
            "Extreme weather"
           ],
           "yaxis": "y"
          },
          {
           "alignmentgroup": "True",
           "hovertemplate": "Entity=%{y}<br>Year=1994<br>Deaths=%{x}<extra></extra>",
           "legendgroup": "Flood",
           "marker": {
            "color": "#FF6692"
           },
           "name": "Flood",
           "offsetgroup": "Flood",
           "orientation": "h",
           "showlegend": true,
           "textposition": "auto",
           "type": "bar",
           "x": [
            6771
           ],
           "xaxis": "x",
           "y": [
            "Flood"
           ],
           "yaxis": "y"
          },
          {
           "alignmentgroup": "True",
           "hovertemplate": "Entity=%{y}<br>Year=1994<br>Deaths=%{x}<extra></extra>",
           "legendgroup": "Landslide",
           "marker": {
            "color": "#B6E880"
           },
           "name": "Landslide",
           "offsetgroup": "Landslide",
           "orientation": "h",
           "showlegend": true,
           "textposition": "auto",
           "type": "bar",
           "x": [
            307
           ],
           "xaxis": "x",
           "y": [
            "Landslide"
           ],
           "yaxis": "y"
          },
          {
           "alignmentgroup": "True",
           "hovertemplate": "Entity=%{y}<br>Year=1994<br>Deaths=%{x}<extra></extra>",
           "legendgroup": "Volcanic activity",
           "marker": {
            "color": "#FECB52"
           },
           "name": "Volcanic activity",
           "offsetgroup": "Volcanic activity",
           "orientation": "h",
           "showlegend": true,
           "textposition": "auto",
           "type": "bar",
           "x": [
            101
           ],
           "xaxis": "x",
           "y": [
            "Volcanic activity"
           ],
           "yaxis": "y"
          },
          {
           "alignmentgroup": "True",
           "hovertemplate": "Entity=%{y}<br>Year=1994<br>Deaths=%{x}<extra></extra>",
           "legendgroup": "Wildfire",
           "marker": {
            "color": "#636efa"
           },
           "name": "Wildfire",
           "offsetgroup": "Wildfire",
           "orientation": "h",
           "showlegend": true,
           "textposition": "auto",
           "type": "bar",
           "x": [
            84
           ],
           "xaxis": "x",
           "y": [
            "Wildfire"
           ],
           "yaxis": "y"
          }
         ],
         "name": "1994"
        },
        {
         "data": [
          {
           "alignmentgroup": "True",
           "hovertemplate": "Entity=%{y}<br>Year=1995<br>Deaths=%{x}<extra></extra>",
           "legendgroup": "All natural disasters",
           "marker": {
            "color": "#636efa"
           },
           "name": "All natural disasters",
           "offsetgroup": "All natural disasters",
           "orientation": "h",
           "showlegend": true,
           "textposition": "auto",
           "type": "bar",
           "x": [
            27166
           ],
           "xaxis": "x",
           "y": [
            "All natural disasters"
           ],
           "yaxis": "y"
          },
          {
           "alignmentgroup": "True",
           "hovertemplate": "Entity=%{y}<br>Year=1995<br>Deaths=%{x}<extra></extra>",
           "legendgroup": "Earthquake",
           "marker": {
            "color": "#00cc96"
           },
           "name": "Earthquake",
           "offsetgroup": "Earthquake",
           "orientation": "h",
           "showlegend": true,
           "textposition": "auto",
           "type": "bar",
           "x": [
            7739
           ],
           "xaxis": "x",
           "y": [
            "Earthquake"
           ],
           "yaxis": "y"
          },
          {
           "alignmentgroup": "True",
           "hovertemplate": "Entity=%{y}<br>Year=1995<br>Deaths=%{x}<extra></extra>",
           "legendgroup": "Epidemic",
           "marker": {
            "color": "#ab63fa"
           },
           "name": "Epidemic",
           "offsetgroup": "Epidemic",
           "orientation": "h",
           "showlegend": true,
           "textposition": "auto",
           "type": "bar",
           "x": [
            4428
           ],
           "xaxis": "x",
           "y": [
            "Epidemic"
           ],
           "yaxis": "y"
          },
          {
           "alignmentgroup": "True",
           "hovertemplate": "Entity=%{y}<br>Year=1995<br>Deaths=%{x}<extra></extra>",
           "legendgroup": "Extreme temperature",
           "marker": {
            "color": "#FFA15A"
           },
           "name": "Extreme temperature",
           "offsetgroup": "Extreme temperature",
           "orientation": "h",
           "showlegend": true,
           "textposition": "auto",
           "type": "bar",
           "x": [
            1730
           ],
           "xaxis": "x",
           "y": [
            "Extreme temperature"
           ],
           "yaxis": "y"
          },
          {
           "alignmentgroup": "True",
           "hovertemplate": "Entity=%{y}<br>Year=1995<br>Deaths=%{x}<extra></extra>",
           "legendgroup": "Extreme weather",
           "marker": {
            "color": "#19d3f3"
           },
           "name": "Extreme weather",
           "offsetgroup": "Extreme weather",
           "orientation": "h",
           "showlegend": true,
           "textposition": "auto",
           "type": "bar",
           "x": [
            3763
           ],
           "xaxis": "x",
           "y": [
            "Extreme weather"
           ],
           "yaxis": "y"
          },
          {
           "alignmentgroup": "True",
           "hovertemplate": "Entity=%{y}<br>Year=1995<br>Deaths=%{x}<extra></extra>",
           "legendgroup": "Flood",
           "marker": {
            "color": "#FF6692"
           },
           "name": "Flood",
           "offsetgroup": "Flood",
           "orientation": "h",
           "showlegend": true,
           "textposition": "auto",
           "type": "bar",
           "x": [
            7956
           ],
           "xaxis": "x",
           "y": [
            "Flood"
           ],
           "yaxis": "y"
          },
          {
           "alignmentgroup": "True",
           "hovertemplate": "Entity=%{y}<br>Year=1995<br>Deaths=%{x}<extra></extra>",
           "legendgroup": "Landslide",
           "marker": {
            "color": "#B6E880"
           },
           "name": "Landslide",
           "offsetgroup": "Landslide",
           "orientation": "h",
           "showlegend": true,
           "textposition": "auto",
           "type": "bar",
           "x": [
            1521
           ],
           "xaxis": "x",
           "y": [
            "Landslide"
           ],
           "yaxis": "y"
          },
          {
           "alignmentgroup": "True",
           "hovertemplate": "Entity=%{y}<br>Year=1995<br>Deaths=%{x}<extra></extra>",
           "legendgroup": "Wildfire",
           "marker": {
            "color": "#636efa"
           },
           "name": "Wildfire",
           "offsetgroup": "Wildfire",
           "orientation": "h",
           "showlegend": true,
           "textposition": "auto",
           "type": "bar",
           "x": [
            29
           ],
           "xaxis": "x",
           "y": [
            "Wildfire"
           ],
           "yaxis": "y"
          }
         ],
         "name": "1995"
        },
        {
         "data": [
          {
           "alignmentgroup": "True",
           "hovertemplate": "Entity=%{y}<br>Year=1996<br>Deaths=%{x}<extra></extra>",
           "legendgroup": "All natural disasters",
           "marker": {
            "color": "#636efa"
           },
           "name": "All natural disasters",
           "offsetgroup": "All natural disasters",
           "orientation": "h",
           "showlegend": true,
           "textposition": "auto",
           "type": "bar",
           "x": [
            31595
           ],
           "xaxis": "x",
           "y": [
            "All natural disasters"
           ],
           "yaxis": "y"
          },
          {
           "alignmentgroup": "True",
           "hovertemplate": "Entity=%{y}<br>Year=1996<br>Deaths=%{x}<extra></extra>",
           "legendgroup": "Earthquake",
           "marker": {
            "color": "#00cc96"
           },
           "name": "Earthquake",
           "offsetgroup": "Earthquake",
           "orientation": "h",
           "showlegend": true,
           "textposition": "auto",
           "type": "bar",
           "x": [
            576
           ],
           "xaxis": "x",
           "y": [
            "Earthquake"
           ],
           "yaxis": "y"
          },
          {
           "alignmentgroup": "True",
           "hovertemplate": "Entity=%{y}<br>Year=1996<br>Deaths=%{x}<extra></extra>",
           "legendgroup": "Epidemic",
           "marker": {
            "color": "#ab63fa"
           },
           "name": "Epidemic",
           "offsetgroup": "Epidemic",
           "orientation": "h",
           "showlegend": true,
           "textposition": "auto",
           "type": "bar",
           "x": [
            16887
           ],
           "xaxis": "x",
           "y": [
            "Epidemic"
           ],
           "yaxis": "y"
          },
          {
           "alignmentgroup": "True",
           "hovertemplate": "Entity=%{y}<br>Year=1996<br>Deaths=%{x}<extra></extra>",
           "legendgroup": "Extreme temperature",
           "marker": {
            "color": "#FFA15A"
           },
           "name": "Extreme temperature",
           "offsetgroup": "Extreme temperature",
           "orientation": "h",
           "showlegend": true,
           "textposition": "auto",
           "type": "bar",
           "x": [
            300
           ],
           "xaxis": "x",
           "y": [
            "Extreme temperature"
           ],
           "yaxis": "y"
          },
          {
           "alignmentgroup": "True",
           "hovertemplate": "Entity=%{y}<br>Year=1996<br>Deaths=%{x}<extra></extra>",
           "legendgroup": "Extreme weather",
           "marker": {
            "color": "#19d3f3"
           },
           "name": "Extreme weather",
           "offsetgroup": "Extreme weather",
           "orientation": "h",
           "showlegend": true,
           "textposition": "auto",
           "type": "bar",
           "x": [
            4581
           ],
           "xaxis": "x",
           "y": [
            "Extreme weather"
           ],
           "yaxis": "y"
          },
          {
           "alignmentgroup": "True",
           "hovertemplate": "Entity=%{y}<br>Year=1996<br>Deaths=%{x}<extra></extra>",
           "legendgroup": "Flood",
           "marker": {
            "color": "#FF6692"
           },
           "name": "Flood",
           "offsetgroup": "Flood",
           "orientation": "h",
           "showlegend": true,
           "textposition": "auto",
           "type": "bar",
           "x": [
            8047
           ],
           "xaxis": "x",
           "y": [
            "Flood"
           ],
           "yaxis": "y"
          },
          {
           "alignmentgroup": "True",
           "hovertemplate": "Entity=%{y}<br>Year=1996<br>Deaths=%{x}<extra></extra>",
           "legendgroup": "Landslide",
           "marker": {
            "color": "#B6E880"
           },
           "name": "Landslide",
           "offsetgroup": "Landslide",
           "orientation": "h",
           "showlegend": true,
           "textposition": "auto",
           "type": "bar",
           "x": [
            1155
           ],
           "xaxis": "x",
           "y": [
            "Landslide"
           ],
           "yaxis": "y"
          },
          {
           "alignmentgroup": "True",
           "hovertemplate": "Entity=%{y}<br>Year=1996<br>Deaths=%{x}<extra></extra>",
           "legendgroup": "Volcanic activity",
           "marker": {
            "color": "#FECB52"
           },
           "name": "Volcanic activity",
           "offsetgroup": "Volcanic activity",
           "orientation": "h",
           "showlegend": true,
           "textposition": "auto",
           "type": "bar",
           "x": [
            4
           ],
           "xaxis": "x",
           "y": [
            "Volcanic activity"
           ],
           "yaxis": "y"
          },
          {
           "alignmentgroup": "True",
           "hovertemplate": "Entity=%{y}<br>Year=1996<br>Deaths=%{x}<extra></extra>",
           "legendgroup": "Wildfire",
           "marker": {
            "color": "#636efa"
           },
           "name": "Wildfire",
           "offsetgroup": "Wildfire",
           "orientation": "h",
           "showlegend": true,
           "textposition": "auto",
           "type": "bar",
           "x": [
            45
           ],
           "xaxis": "x",
           "y": [
            "Wildfire"
           ],
           "yaxis": "y"
          }
         ],
         "name": "1996"
        },
        {
         "data": [
          {
           "alignmentgroup": "True",
           "hovertemplate": "Entity=%{y}<br>Year=1997<br>Deaths=%{x}<extra></extra>",
           "legendgroup": "All natural disasters",
           "marker": {
            "color": "#636efa"
           },
           "name": "All natural disasters",
           "offsetgroup": "All natural disasters",
           "orientation": "h",
           "showlegend": true,
           "textposition": "auto",
           "type": "bar",
           "x": [
            30124
           ],
           "xaxis": "x",
           "y": [
            "All natural disasters"
           ],
           "yaxis": "y"
          },
          {
           "alignmentgroup": "True",
           "hovertemplate": "Entity=%{y}<br>Year=1997<br>Deaths=%{x}<extra></extra>",
           "legendgroup": "Drought",
           "marker": {
            "color": "#EF553B"
           },
           "name": "Drought",
           "offsetgroup": "Drought",
           "orientation": "h",
           "showlegend": true,
           "textposition": "auto",
           "type": "bar",
           "x": [
            732
           ],
           "xaxis": "x",
           "y": [
            "Drought"
           ],
           "yaxis": "y"
          },
          {
           "alignmentgroup": "True",
           "hovertemplate": "Entity=%{y}<br>Year=1997<br>Deaths=%{x}<extra></extra>",
           "legendgroup": "Earthquake",
           "marker": {
            "color": "#00cc96"
           },
           "name": "Earthquake",
           "offsetgroup": "Earthquake",
           "orientation": "h",
           "showlegend": true,
           "textposition": "auto",
           "type": "bar",
           "x": [
            3159
           ],
           "xaxis": "x",
           "y": [
            "Earthquake"
           ],
           "yaxis": "y"
          },
          {
           "alignmentgroup": "True",
           "hovertemplate": "Entity=%{y}<br>Year=1997<br>Deaths=%{x}<extra></extra>",
           "legendgroup": "Epidemic",
           "marker": {
            "color": "#ab63fa"
           },
           "name": "Epidemic",
           "offsetgroup": "Epidemic",
           "orientation": "h",
           "showlegend": true,
           "textposition": "auto",
           "type": "bar",
           "x": [
            10674
           ],
           "xaxis": "x",
           "y": [
            "Epidemic"
           ],
           "yaxis": "y"
          },
          {
           "alignmentgroup": "True",
           "hovertemplate": "Entity=%{y}<br>Year=1997<br>Deaths=%{x}<extra></extra>",
           "legendgroup": "Extreme temperature",
           "marker": {
            "color": "#FFA15A"
           },
           "name": "Extreme temperature",
           "offsetgroup": "Extreme temperature",
           "orientation": "h",
           "showlegend": true,
           "textposition": "auto",
           "type": "bar",
           "x": [
            604
           ],
           "xaxis": "x",
           "y": [
            "Extreme temperature"
           ],
           "yaxis": "y"
          },
          {
           "alignmentgroup": "True",
           "hovertemplate": "Entity=%{y}<br>Year=1997<br>Deaths=%{x}<extra></extra>",
           "legendgroup": "Extreme weather",
           "marker": {
            "color": "#19d3f3"
           },
           "name": "Extreme weather",
           "offsetgroup": "Extreme weather",
           "orientation": "h",
           "showlegend": true,
           "textposition": "auto",
           "type": "bar",
           "x": [
            6150
           ],
           "xaxis": "x",
           "y": [
            "Extreme weather"
           ],
           "yaxis": "y"
          },
          {
           "alignmentgroup": "True",
           "hovertemplate": "Entity=%{y}<br>Year=1997<br>Deaths=%{x}<extra></extra>",
           "legendgroup": "Flood",
           "marker": {
            "color": "#FF6692"
           },
           "name": "Flood",
           "offsetgroup": "Flood",
           "orientation": "h",
           "showlegend": true,
           "textposition": "auto",
           "type": "bar",
           "x": [
            7685
           ],
           "xaxis": "x",
           "y": [
            "Flood"
           ],
           "yaxis": "y"
          },
          {
           "alignmentgroup": "True",
           "hovertemplate": "Entity=%{y}<br>Year=1997<br>Deaths=%{x}<extra></extra>",
           "legendgroup": "Landslide",
           "marker": {
            "color": "#B6E880"
           },
           "name": "Landslide",
           "offsetgroup": "Landslide",
           "orientation": "h",
           "showlegend": true,
           "textposition": "auto",
           "type": "bar",
           "x": [
            801
           ],
           "xaxis": "x",
           "y": [
            "Landslide"
           ],
           "yaxis": "y"
          },
          {
           "alignmentgroup": "True",
           "hovertemplate": "Entity=%{y}<br>Year=1997<br>Deaths=%{x}<extra></extra>",
           "legendgroup": "Volcanic activity",
           "marker": {
            "color": "#FECB52"
           },
           "name": "Volcanic activity",
           "offsetgroup": "Volcanic activity",
           "orientation": "h",
           "showlegend": true,
           "textposition": "auto",
           "type": "bar",
           "x": [
            53
           ],
           "xaxis": "x",
           "y": [
            "Volcanic activity"
           ],
           "yaxis": "y"
          },
          {
           "alignmentgroup": "True",
           "hovertemplate": "Entity=%{y}<br>Year=1997<br>Deaths=%{x}<extra></extra>",
           "legendgroup": "Wildfire",
           "marker": {
            "color": "#636efa"
           },
           "name": "Wildfire",
           "offsetgroup": "Wildfire",
           "orientation": "h",
           "showlegend": true,
           "textposition": "auto",
           "type": "bar",
           "x": [
            266
           ],
           "xaxis": "x",
           "y": [
            "Wildfire"
           ],
           "yaxis": "y"
          }
         ],
         "name": "1997"
        },
        {
         "data": [
          {
           "alignmentgroup": "True",
           "hovertemplate": "Entity=%{y}<br>Year=1998<br>Deaths=%{x}<extra></extra>",
           "legendgroup": "All natural disasters",
           "marker": {
            "color": "#636efa"
           },
           "name": "All natural disasters",
           "offsetgroup": "All natural disasters",
           "orientation": "h",
           "showlegend": true,
           "textposition": "auto",
           "type": "bar",
           "x": [
            62672
           ],
           "xaxis": "x",
           "y": [
            "All natural disasters"
           ],
           "yaxis": "y"
          },
          {
           "alignmentgroup": "True",
           "hovertemplate": "Entity=%{y}<br>Year=1998<br>Deaths=%{x}<extra></extra>",
           "legendgroup": "Drought",
           "marker": {
            "color": "#EF553B"
           },
           "name": "Drought",
           "offsetgroup": "Drought",
           "orientation": "h",
           "showlegend": true,
           "textposition": "auto",
           "type": "bar",
           "x": [
            20
           ],
           "xaxis": "x",
           "y": [
            "Drought"
           ],
           "yaxis": "y"
          },
          {
           "alignmentgroup": "True",
           "hovertemplate": "Entity=%{y}<br>Year=1998<br>Deaths=%{x}<extra></extra>",
           "legendgroup": "Earthquake",
           "marker": {
            "color": "#00cc96"
           },
           "name": "Earthquake",
           "offsetgroup": "Earthquake",
           "orientation": "h",
           "showlegend": true,
           "textposition": "auto",
           "type": "bar",
           "x": [
            9573
           ],
           "xaxis": "x",
           "y": [
            "Earthquake"
           ],
           "yaxis": "y"
          },
          {
           "alignmentgroup": "True",
           "hovertemplate": "Entity=%{y}<br>Year=1998<br>Deaths=%{x}<extra></extra>",
           "legendgroup": "Epidemic",
           "marker": {
            "color": "#ab63fa"
           },
           "name": "Epidemic",
           "offsetgroup": "Epidemic",
           "orientation": "h",
           "showlegend": true,
           "textposition": "auto",
           "type": "bar",
           "x": [
            12931
           ],
           "xaxis": "x",
           "y": [
            "Epidemic"
           ],
           "yaxis": "y"
          },
          {
           "alignmentgroup": "True",
           "hovertemplate": "Entity=%{y}<br>Year=1998<br>Deaths=%{x}<extra></extra>",
           "legendgroup": "Extreme temperature",
           "marker": {
            "color": "#FFA15A"
           },
           "name": "Extreme temperature",
           "offsetgroup": "Extreme temperature",
           "orientation": "h",
           "showlegend": true,
           "textposition": "auto",
           "type": "bar",
           "x": [
            3269
           ],
           "xaxis": "x",
           "y": [
            "Extreme temperature"
           ],
           "yaxis": "y"
          },
          {
           "alignmentgroup": "True",
           "hovertemplate": "Entity=%{y}<br>Year=1998<br>Deaths=%{x}<extra></extra>",
           "legendgroup": "Extreme weather",
           "marker": {
            "color": "#19d3f3"
           },
           "name": "Extreme weather",
           "offsetgroup": "Extreme weather",
           "orientation": "h",
           "showlegend": true,
           "textposition": "auto",
           "type": "bar",
           "x": [
            24935
           ],
           "xaxis": "x",
           "y": [
            "Extreme weather"
           ],
           "yaxis": "y"
          },
          {
           "alignmentgroup": "True",
           "hovertemplate": "Entity=%{y}<br>Year=1998<br>Deaths=%{x}<extra></extra>",
           "legendgroup": "Flood",
           "marker": {
            "color": "#FF6692"
           },
           "name": "Flood",
           "offsetgroup": "Flood",
           "orientation": "h",
           "showlegend": true,
           "textposition": "auto",
           "type": "bar",
           "x": [
            10653
           ],
           "xaxis": "x",
           "y": [
            "Flood"
           ],
           "yaxis": "y"
          },
          {
           "alignmentgroup": "True",
           "hovertemplate": "Entity=%{y}<br>Year=1998<br>Deaths=%{x}<extra></extra>",
           "legendgroup": "Landslide",
           "marker": {
            "color": "#B6E880"
           },
           "name": "Landslide",
           "offsetgroup": "Landslide",
           "orientation": "h",
           "showlegend": true,
           "textposition": "auto",
           "type": "bar",
           "x": [
            1141
           ],
           "xaxis": "x",
           "y": [
            "Landslide"
           ],
           "yaxis": "y"
          },
          {
           "alignmentgroup": "True",
           "hovertemplate": "Entity=%{y}<br>Year=1998<br>Deaths=%{x}<extra></extra>",
           "legendgroup": "Wildfire",
           "marker": {
            "color": "#636efa"
           },
           "name": "Wildfire",
           "offsetgroup": "Wildfire",
           "orientation": "h",
           "showlegend": true,
           "textposition": "auto",
           "type": "bar",
           "x": [
            150
           ],
           "xaxis": "x",
           "y": [
            "Wildfire"
           ],
           "yaxis": "y"
          }
         ],
         "name": "1998"
        },
        {
         "data": [
          {
           "alignmentgroup": "True",
           "hovertemplate": "Entity=%{y}<br>Year=1999<br>Deaths=%{x}<extra></extra>",
           "legendgroup": "All natural disasters",
           "marker": {
            "color": "#636efa"
           },
           "name": "All natural disasters",
           "offsetgroup": "All natural disasters",
           "orientation": "h",
           "showlegend": true,
           "textposition": "auto",
           "type": "bar",
           "x": [
            76886
           ],
           "xaxis": "x",
           "y": [
            "All natural disasters"
           ],
           "yaxis": "y"
          },
          {
           "alignmentgroup": "True",
           "hovertemplate": "Entity=%{y}<br>Year=1999<br>Deaths=%{x}<extra></extra>",
           "legendgroup": "Drought",
           "marker": {
            "color": "#EF553B"
           },
           "name": "Drought",
           "offsetgroup": "Drought",
           "orientation": "h",
           "showlegend": true,
           "textposition": "auto",
           "type": "bar",
           "x": [
            361
           ],
           "xaxis": "x",
           "y": [
            "Drought"
           ],
           "yaxis": "y"
          },
          {
           "alignmentgroup": "True",
           "hovertemplate": "Entity=%{y}<br>Year=1999<br>Deaths=%{x}<extra></extra>",
           "legendgroup": "Earthquake",
           "marker": {
            "color": "#00cc96"
           },
           "name": "Earthquake",
           "offsetgroup": "Earthquake",
           "orientation": "h",
           "showlegend": true,
           "textposition": "auto",
           "type": "bar",
           "x": [
            21869
           ],
           "xaxis": "x",
           "y": [
            "Earthquake"
           ],
           "yaxis": "y"
          },
          {
           "alignmentgroup": "True",
           "hovertemplate": "Entity=%{y}<br>Year=1999<br>Deaths=%{x}<extra></extra>",
           "legendgroup": "Epidemic",
           "marker": {
            "color": "#ab63fa"
           },
           "name": "Epidemic",
           "offsetgroup": "Epidemic",
           "orientation": "h",
           "showlegend": true,
           "textposition": "auto",
           "type": "bar",
           "x": [
            6293
           ],
           "xaxis": "x",
           "y": [
            "Epidemic"
           ],
           "yaxis": "y"
          },
          {
           "alignmentgroup": "True",
           "hovertemplate": "Entity=%{y}<br>Year=1999<br>Deaths=%{x}<extra></extra>",
           "legendgroup": "Extreme temperature",
           "marker": {
            "color": "#FFA15A"
           },
           "name": "Extreme temperature",
           "offsetgroup": "Extreme temperature",
           "orientation": "h",
           "showlegend": true,
           "textposition": "auto",
           "type": "bar",
           "x": [
            771
           ],
           "xaxis": "x",
           "y": [
            "Extreme temperature"
           ],
           "yaxis": "y"
          },
          {
           "alignmentgroup": "True",
           "hovertemplate": "Entity=%{y}<br>Year=1999<br>Deaths=%{x}<extra></extra>",
           "legendgroup": "Extreme weather",
           "marker": {
            "color": "#19d3f3"
           },
           "name": "Extreme weather",
           "offsetgroup": "Extreme weather",
           "orientation": "h",
           "showlegend": true,
           "textposition": "auto",
           "type": "bar",
           "x": [
            12270
           ],
           "xaxis": "x",
           "y": [
            "Extreme weather"
           ],
           "yaxis": "y"
          },
          {
           "alignmentgroup": "True",
           "hovertemplate": "Entity=%{y}<br>Year=1999<br>Deaths=%{x}<extra></extra>",
           "legendgroup": "Flood",
           "marker": {
            "color": "#FF6692"
           },
           "name": "Flood",
           "offsetgroup": "Flood",
           "orientation": "h",
           "showlegend": true,
           "textposition": "auto",
           "type": "bar",
           "x": [
            34807
           ],
           "xaxis": "x",
           "y": [
            "Flood"
           ],
           "yaxis": "y"
          },
          {
           "alignmentgroup": "True",
           "hovertemplate": "Entity=%{y}<br>Year=1999<br>Deaths=%{x}<extra></extra>",
           "legendgroup": "Landslide",
           "marker": {
            "color": "#B6E880"
           },
           "name": "Landslide",
           "offsetgroup": "Landslide",
           "orientation": "h",
           "showlegend": true,
           "textposition": "auto",
           "type": "bar",
           "x": [
            445
           ],
           "xaxis": "x",
           "y": [
            "Landslide"
           ],
           "yaxis": "y"
          },
          {
           "alignmentgroup": "True",
           "hovertemplate": "Entity=%{y}<br>Year=1999<br>Deaths=%{x}<extra></extra>",
           "legendgroup": "Wildfire",
           "marker": {
            "color": "#636efa"
           },
           "name": "Wildfire",
           "offsetgroup": "Wildfire",
           "orientation": "h",
           "showlegend": true,
           "textposition": "auto",
           "type": "bar",
           "x": [
            70
           ],
           "xaxis": "x",
           "y": [
            "Wildfire"
           ],
           "yaxis": "y"
          }
         ],
         "name": "1999"
        },
        {
         "data": [
          {
           "alignmentgroup": "True",
           "hovertemplate": "Entity=%{y}<br>Year=2000<br>Deaths=%{x}<extra></extra>",
           "legendgroup": "All natural disasters",
           "marker": {
            "color": "#636efa"
           },
           "name": "All natural disasters",
           "offsetgroup": "All natural disasters",
           "orientation": "h",
           "showlegend": true,
           "textposition": "auto",
           "type": "bar",
           "x": [
            16667
           ],
           "xaxis": "x",
           "y": [
            "All natural disasters"
           ],
           "yaxis": "y"
          },
          {
           "alignmentgroup": "True",
           "hovertemplate": "Entity=%{y}<br>Year=2000<br>Deaths=%{x}<extra></extra>",
           "legendgroup": "Drought",
           "marker": {
            "color": "#EF553B"
           },
           "name": "Drought",
           "offsetgroup": "Drought",
           "orientation": "h",
           "showlegend": true,
           "textposition": "auto",
           "type": "bar",
           "x": [
            80
           ],
           "xaxis": "x",
           "y": [
            "Drought"
           ],
           "yaxis": "y"
          },
          {
           "alignmentgroup": "True",
           "hovertemplate": "Entity=%{y}<br>Year=2000<br>Deaths=%{x}<extra></extra>",
           "legendgroup": "Earthquake",
           "marker": {
            "color": "#00cc96"
           },
           "name": "Earthquake",
           "offsetgroup": "Earthquake",
           "orientation": "h",
           "showlegend": true,
           "textposition": "auto",
           "type": "bar",
           "x": [
            217
           ],
           "xaxis": "x",
           "y": [
            "Earthquake"
           ],
           "yaxis": "y"
          },
          {
           "alignmentgroup": "True",
           "hovertemplate": "Entity=%{y}<br>Year=2000<br>Deaths=%{x}<extra></extra>",
           "legendgroup": "Epidemic",
           "marker": {
            "color": "#ab63fa"
           },
           "name": "Epidemic",
           "offsetgroup": "Epidemic",
           "orientation": "h",
           "showlegend": true,
           "textposition": "auto",
           "type": "bar",
           "x": [
            6980
           ],
           "xaxis": "x",
           "y": [
            "Epidemic"
           ],
           "yaxis": "y"
          },
          {
           "alignmentgroup": "True",
           "hovertemplate": "Entity=%{y}<br>Year=2000<br>Deaths=%{x}<extra></extra>",
           "legendgroup": "Extreme temperature",
           "marker": {
            "color": "#FFA15A"
           },
           "name": "Extreme temperature",
           "offsetgroup": "Extreme temperature",
           "orientation": "h",
           "showlegend": true,
           "textposition": "auto",
           "type": "bar",
           "x": [
            941
           ],
           "xaxis": "x",
           "y": [
            "Extreme temperature"
           ],
           "yaxis": "y"
          },
          {
           "alignmentgroup": "True",
           "hovertemplate": "Entity=%{y}<br>Year=2000<br>Deaths=%{x}<extra></extra>",
           "legendgroup": "Extreme weather",
           "marker": {
            "color": "#19d3f3"
           },
           "name": "Extreme weather",
           "offsetgroup": "Extreme weather",
           "orientation": "h",
           "showlegend": true,
           "textposition": "auto",
           "type": "bar",
           "x": [
            1354
           ],
           "xaxis": "x",
           "y": [
            "Extreme weather"
           ],
           "yaxis": "y"
          },
          {
           "alignmentgroup": "True",
           "hovertemplate": "Entity=%{y}<br>Year=2000<br>Deaths=%{x}<extra></extra>",
           "legendgroup": "Flood",
           "marker": {
            "color": "#FF6692"
           },
           "name": "Flood",
           "offsetgroup": "Flood",
           "orientation": "h",
           "showlegend": true,
           "textposition": "auto",
           "type": "bar",
           "x": [
            6025
           ],
           "xaxis": "x",
           "y": [
            "Flood"
           ],
           "yaxis": "y"
          },
          {
           "alignmentgroup": "True",
           "hovertemplate": "Entity=%{y}<br>Year=2000<br>Deaths=%{x}<extra></extra>",
           "legendgroup": "Landslide",
           "marker": {
            "color": "#B6E880"
           },
           "name": "Landslide",
           "offsetgroup": "Landslide",
           "orientation": "h",
           "showlegend": true,
           "textposition": "auto",
           "type": "bar",
           "x": [
            1012
           ],
           "xaxis": "x",
           "y": [
            "Landslide"
           ],
           "yaxis": "y"
          },
          {
           "alignmentgroup": "True",
           "hovertemplate": "Entity=%{y}<br>Year=2000<br>Deaths=%{x}<extra></extra>",
           "legendgroup": "Mass movement (dry)",
           "marker": {
            "color": "#FF97FF"
           },
           "name": "Mass movement (dry)",
           "offsetgroup": "Mass movement (dry)",
           "orientation": "h",
           "showlegend": true,
           "textposition": "auto",
           "type": "bar",
           "x": [
            11
           ],
           "xaxis": "x",
           "y": [
            "Mass movement (dry)"
           ],
           "yaxis": "y"
          },
          {
           "alignmentgroup": "True",
           "hovertemplate": "Entity=%{y}<br>Year=2000<br>Deaths=%{x}<extra></extra>",
           "legendgroup": "Wildfire",
           "marker": {
            "color": "#636efa"
           },
           "name": "Wildfire",
           "offsetgroup": "Wildfire",
           "orientation": "h",
           "showlegend": true,
           "textposition": "auto",
           "type": "bar",
           "x": [
            47
           ],
           "xaxis": "x",
           "y": [
            "Wildfire"
           ],
           "yaxis": "y"
          }
         ],
         "name": "2000"
        },
        {
         "data": [
          {
           "alignmentgroup": "True",
           "hovertemplate": "Entity=%{y}<br>Year=2001<br>Deaths=%{x}<extra></extra>",
           "legendgroup": "All natural disasters",
           "marker": {
            "color": "#636efa"
           },
           "name": "All natural disasters",
           "offsetgroup": "All natural disasters",
           "orientation": "h",
           "showlegend": true,
           "textposition": "auto",
           "type": "bar",
           "x": [
            39493
           ],
           "xaxis": "x",
           "y": [
            "All natural disasters"
           ],
           "yaxis": "y"
          },
          {
           "alignmentgroup": "True",
           "hovertemplate": "Entity=%{y}<br>Year=2001<br>Deaths=%{x}<extra></extra>",
           "legendgroup": "Drought",
           "marker": {
            "color": "#EF553B"
           },
           "name": "Drought",
           "offsetgroup": "Drought",
           "orientation": "h",
           "showlegend": true,
           "textposition": "auto",
           "type": "bar",
           "x": [
            99
           ],
           "xaxis": "x",
           "y": [
            "Drought"
           ],
           "yaxis": "y"
          },
          {
           "alignmentgroup": "True",
           "hovertemplate": "Entity=%{y}<br>Year=2001<br>Deaths=%{x}<extra></extra>",
           "legendgroup": "Earthquake",
           "marker": {
            "color": "#00cc96"
           },
           "name": "Earthquake",
           "offsetgroup": "Earthquake",
           "orientation": "h",
           "showlegend": true,
           "textposition": "auto",
           "type": "bar",
           "x": [
            21348
           ],
           "xaxis": "x",
           "y": [
            "Earthquake"
           ],
           "yaxis": "y"
          },
          {
           "alignmentgroup": "True",
           "hovertemplate": "Entity=%{y}<br>Year=2001<br>Deaths=%{x}<extra></extra>",
           "legendgroup": "Epidemic",
           "marker": {
            "color": "#ab63fa"
           },
           "name": "Epidemic",
           "offsetgroup": "Epidemic",
           "orientation": "h",
           "showlegend": true,
           "textposition": "auto",
           "type": "bar",
           "x": [
            8515
           ],
           "xaxis": "x",
           "y": [
            "Epidemic"
           ],
           "yaxis": "y"
          },
          {
           "alignmentgroup": "True",
           "hovertemplate": "Entity=%{y}<br>Year=2001<br>Deaths=%{x}<extra></extra>",
           "legendgroup": "Extreme temperature",
           "marker": {
            "color": "#FFA15A"
           },
           "name": "Extreme temperature",
           "offsetgroup": "Extreme temperature",
           "orientation": "h",
           "showlegend": true,
           "textposition": "auto",
           "type": "bar",
           "x": [
            1787
           ],
           "xaxis": "x",
           "y": [
            "Extreme temperature"
           ],
           "yaxis": "y"
          },
          {
           "alignmentgroup": "True",
           "hovertemplate": "Entity=%{y}<br>Year=2001<br>Deaths=%{x}<extra></extra>",
           "legendgroup": "Extreme weather",
           "marker": {
            "color": "#19d3f3"
           },
           "name": "Extreme weather",
           "offsetgroup": "Extreme weather",
           "orientation": "h",
           "showlegend": true,
           "textposition": "auto",
           "type": "bar",
           "x": [
            1911
           ],
           "xaxis": "x",
           "y": [
            "Extreme weather"
           ],
           "yaxis": "y"
          },
          {
           "alignmentgroup": "True",
           "hovertemplate": "Entity=%{y}<br>Year=2001<br>Deaths=%{x}<extra></extra>",
           "legendgroup": "Flood",
           "marker": {
            "color": "#FF6692"
           },
           "name": "Flood",
           "offsetgroup": "Flood",
           "orientation": "h",
           "showlegend": true,
           "textposition": "auto",
           "type": "bar",
           "x": [
            5014
           ],
           "xaxis": "x",
           "y": [
            "Flood"
           ],
           "yaxis": "y"
          },
          {
           "alignmentgroup": "True",
           "hovertemplate": "Entity=%{y}<br>Year=2001<br>Deaths=%{x}<extra></extra>",
           "legendgroup": "Landslide",
           "marker": {
            "color": "#B6E880"
           },
           "name": "Landslide",
           "offsetgroup": "Landslide",
           "orientation": "h",
           "showlegend": true,
           "textposition": "auto",
           "type": "bar",
           "x": [
            786
           ],
           "xaxis": "x",
           "y": [
            "Landslide"
           ],
           "yaxis": "y"
          },
          {
           "alignmentgroup": "True",
           "hovertemplate": "Entity=%{y}<br>Year=2001<br>Deaths=%{x}<extra></extra>",
           "legendgroup": "Wildfire",
           "marker": {
            "color": "#636efa"
           },
           "name": "Wildfire",
           "offsetgroup": "Wildfire",
           "orientation": "h",
           "showlegend": true,
           "textposition": "auto",
           "type": "bar",
           "x": [
            33
           ],
           "xaxis": "x",
           "y": [
            "Wildfire"
           ],
           "yaxis": "y"
          }
         ],
         "name": "2001"
        },
        {
         "data": [
          {
           "alignmentgroup": "True",
           "hovertemplate": "Entity=%{y}<br>Year=2002<br>Deaths=%{x}<extra></extra>",
           "legendgroup": "All natural disasters",
           "marker": {
            "color": "#636efa"
           },
           "name": "All natural disasters",
           "offsetgroup": "All natural disasters",
           "orientation": "h",
           "showlegend": true,
           "textposition": "auto",
           "type": "bar",
           "x": [
            21342
           ],
           "xaxis": "x",
           "y": [
            "All natural disasters"
           ],
           "yaxis": "y"
          },
          {
           "alignmentgroup": "True",
           "hovertemplate": "Entity=%{y}<br>Year=2002<br>Deaths=%{x}<extra></extra>",
           "legendgroup": "Drought",
           "marker": {
            "color": "#EF553B"
           },
           "name": "Drought",
           "offsetgroup": "Drought",
           "orientation": "h",
           "showlegend": true,
           "textposition": "auto",
           "type": "bar",
           "x": [
            588
           ],
           "xaxis": "x",
           "y": [
            "Drought"
           ],
           "yaxis": "y"
          },
          {
           "alignmentgroup": "True",
           "hovertemplate": "Entity=%{y}<br>Year=2002<br>Deaths=%{x}<extra></extra>",
           "legendgroup": "Earthquake",
           "marker": {
            "color": "#00cc96"
           },
           "name": "Earthquake",
           "offsetgroup": "Earthquake",
           "orientation": "h",
           "showlegend": true,
           "textposition": "auto",
           "type": "bar",
           "x": [
            1639
           ],
           "xaxis": "x",
           "y": [
            "Earthquake"
           ],
           "yaxis": "y"
          },
          {
           "alignmentgroup": "True",
           "hovertemplate": "Entity=%{y}<br>Year=2002<br>Deaths=%{x}<extra></extra>",
           "legendgroup": "Epidemic",
           "marker": {
            "color": "#ab63fa"
           },
           "name": "Epidemic",
           "offsetgroup": "Epidemic",
           "orientation": "h",
           "showlegend": true,
           "textposition": "auto",
           "type": "bar",
           "x": [
            8762
           ],
           "xaxis": "x",
           "y": [
            "Epidemic"
           ],
           "yaxis": "y"
          },
          {
           "alignmentgroup": "True",
           "hovertemplate": "Entity=%{y}<br>Year=2002<br>Deaths=%{x}<extra></extra>",
           "legendgroup": "Extreme temperature",
           "marker": {
            "color": "#FFA15A"
           },
           "name": "Extreme temperature",
           "offsetgroup": "Extreme temperature",
           "orientation": "h",
           "showlegend": true,
           "textposition": "auto",
           "type": "bar",
           "x": [
            3369
           ],
           "xaxis": "x",
           "y": [
            "Extreme temperature"
           ],
           "yaxis": "y"
          },
          {
           "alignmentgroup": "True",
           "hovertemplate": "Entity=%{y}<br>Year=2002<br>Deaths=%{x}<extra></extra>",
           "legendgroup": "Extreme weather",
           "marker": {
            "color": "#19d3f3"
           },
           "name": "Extreme weather",
           "offsetgroup": "Extreme weather",
           "orientation": "h",
           "showlegend": true,
           "textposition": "auto",
           "type": "bar",
           "x": [
            1382
           ],
           "xaxis": "x",
           "y": [
            "Extreme weather"
           ],
           "yaxis": "y"
          },
          {
           "alignmentgroup": "True",
           "hovertemplate": "Entity=%{y}<br>Year=2002<br>Deaths=%{x}<extra></extra>",
           "legendgroup": "Flood",
           "marker": {
            "color": "#FF6692"
           },
           "name": "Flood",
           "offsetgroup": "Flood",
           "orientation": "h",
           "showlegend": true,
           "textposition": "auto",
           "type": "bar",
           "x": [
            4236
           ],
           "xaxis": "x",
           "y": [
            "Flood"
           ],
           "yaxis": "y"
          },
          {
           "alignmentgroup": "True",
           "hovertemplate": "Entity=%{y}<br>Year=2002<br>Deaths=%{x}<extra></extra>",
           "legendgroup": "Landslide",
           "marker": {
            "color": "#B6E880"
           },
           "name": "Landslide",
           "offsetgroup": "Landslide",
           "orientation": "h",
           "showlegend": true,
           "textposition": "auto",
           "type": "bar",
           "x": [
            1100
           ],
           "xaxis": "x",
           "y": [
            "Landslide"
           ],
           "yaxis": "y"
          },
          {
           "alignmentgroup": "True",
           "hovertemplate": "Entity=%{y}<br>Year=2002<br>Deaths=%{x}<extra></extra>",
           "legendgroup": "Mass movement (dry)",
           "marker": {
            "color": "#FF97FF"
           },
           "name": "Mass movement (dry)",
           "offsetgroup": "Mass movement (dry)",
           "orientation": "h",
           "showlegend": true,
           "textposition": "auto",
           "type": "bar",
           "x": [
            60
           ],
           "xaxis": "x",
           "y": [
            "Mass movement (dry)"
           ],
           "yaxis": "y"
          },
          {
           "alignmentgroup": "True",
           "hovertemplate": "Entity=%{y}<br>Year=2002<br>Deaths=%{x}<extra></extra>",
           "legendgroup": "Volcanic activity",
           "marker": {
            "color": "#FECB52"
           },
           "name": "Volcanic activity",
           "offsetgroup": "Volcanic activity",
           "orientation": "h",
           "showlegend": true,
           "textposition": "auto",
           "type": "bar",
           "x": [
            200
           ],
           "xaxis": "x",
           "y": [
            "Volcanic activity"
           ],
           "yaxis": "y"
          },
          {
           "alignmentgroup": "True",
           "hovertemplate": "Entity=%{y}<br>Year=2002<br>Deaths=%{x}<extra></extra>",
           "legendgroup": "Wildfire",
           "marker": {
            "color": "#636efa"
           },
           "name": "Wildfire",
           "offsetgroup": "Wildfire",
           "orientation": "h",
           "showlegend": true,
           "textposition": "auto",
           "type": "bar",
           "x": [
            6
           ],
           "xaxis": "x",
           "y": [
            "Wildfire"
           ],
           "yaxis": "y"
          }
         ],
         "name": "2002"
        },
        {
         "data": [
          {
           "alignmentgroup": "True",
           "hovertemplate": "Entity=%{y}<br>Year=2003<br>Deaths=%{x}<extra></extra>",
           "legendgroup": "All natural disasters",
           "marker": {
            "color": "#636efa"
           },
           "name": "All natural disasters",
           "offsetgroup": "All natural disasters",
           "orientation": "h",
           "showlegend": true,
           "textposition": "auto",
           "type": "bar",
           "x": [
            113558
           ],
           "xaxis": "x",
           "y": [
            "All natural disasters"
           ],
           "yaxis": "y"
          },
          {
           "alignmentgroup": "True",
           "hovertemplate": "Entity=%{y}<br>Year=2003<br>Deaths=%{x}<extra></extra>",
           "legendgroup": "Drought",
           "marker": {
            "color": "#EF553B"
           },
           "name": "Drought",
           "offsetgroup": "Drought",
           "orientation": "h",
           "showlegend": true,
           "textposition": "auto",
           "type": "bar",
           "x": [
            9
           ],
           "xaxis": "x",
           "y": [
            "Drought"
           ],
           "yaxis": "y"
          },
          {
           "alignmentgroup": "True",
           "hovertemplate": "Entity=%{y}<br>Year=2003<br>Deaths=%{x}<extra></extra>",
           "legendgroup": "Earthquake",
           "marker": {
            "color": "#00cc96"
           },
           "name": "Earthquake",
           "offsetgroup": "Earthquake",
           "orientation": "h",
           "showlegend": true,
           "textposition": "auto",
           "type": "bar",
           "x": [
            29617
           ],
           "xaxis": "x",
           "y": [
            "Earthquake"
           ],
           "yaxis": "y"
          },
          {
           "alignmentgroup": "True",
           "hovertemplate": "Entity=%{y}<br>Year=2003<br>Deaths=%{x}<extra></extra>",
           "legendgroup": "Epidemic",
           "marker": {
            "color": "#ab63fa"
           },
           "name": "Epidemic",
           "offsetgroup": "Epidemic",
           "orientation": "h",
           "showlegend": true,
           "textposition": "auto",
           "type": "bar",
           "x": [
            3522
           ],
           "xaxis": "x",
           "y": [
            "Epidemic"
           ],
           "yaxis": "y"
          },
          {
           "alignmentgroup": "True",
           "hovertemplate": "Entity=%{y}<br>Year=2003<br>Deaths=%{x}<extra></extra>",
           "legendgroup": "Extreme temperature",
           "marker": {
            "color": "#FFA15A"
           },
           "name": "Extreme temperature",
           "offsetgroup": "Extreme temperature",
           "orientation": "h",
           "showlegend": true,
           "textposition": "auto",
           "type": "bar",
           "x": [
            74698
           ],
           "xaxis": "x",
           "y": [
            "Extreme temperature"
           ],
           "yaxis": "y"
          },
          {
           "alignmentgroup": "True",
           "hovertemplate": "Entity=%{y}<br>Year=2003<br>Deaths=%{x}<extra></extra>",
           "legendgroup": "Extreme weather",
           "marker": {
            "color": "#19d3f3"
           },
           "name": "Extreme weather",
           "offsetgroup": "Extreme weather",
           "orientation": "h",
           "showlegend": true,
           "textposition": "auto",
           "type": "bar",
           "x": [
            1049
           ],
           "xaxis": "x",
           "y": [
            "Extreme weather"
           ],
           "yaxis": "y"
          },
          {
           "alignmentgroup": "True",
           "hovertemplate": "Entity=%{y}<br>Year=2003<br>Deaths=%{x}<extra></extra>",
           "legendgroup": "Flood",
           "marker": {
            "color": "#FF6692"
           },
           "name": "Flood",
           "offsetgroup": "Flood",
           "orientation": "h",
           "showlegend": true,
           "textposition": "auto",
           "type": "bar",
           "x": [
            3910
           ],
           "xaxis": "x",
           "y": [
            "Flood"
           ],
           "yaxis": "y"
          },
          {
           "alignmentgroup": "True",
           "hovertemplate": "Entity=%{y}<br>Year=2003<br>Deaths=%{x}<extra></extra>",
           "legendgroup": "Landslide",
           "marker": {
            "color": "#B6E880"
           },
           "name": "Landslide",
           "offsetgroup": "Landslide",
           "orientation": "h",
           "showlegend": true,
           "textposition": "auto",
           "type": "bar",
           "x": [
            706
           ],
           "xaxis": "x",
           "y": [
            "Landslide"
           ],
           "yaxis": "y"
          },
          {
           "alignmentgroup": "True",
           "hovertemplate": "Entity=%{y}<br>Year=2003<br>Deaths=%{x}<extra></extra>",
           "legendgroup": "Wildfire",
           "marker": {
            "color": "#636efa"
           },
           "name": "Wildfire",
           "offsetgroup": "Wildfire",
           "orientation": "h",
           "showlegend": true,
           "textposition": "auto",
           "type": "bar",
           "x": [
            47
           ],
           "xaxis": "x",
           "y": [
            "Wildfire"
           ],
           "yaxis": "y"
          }
         ],
         "name": "2003"
        },
        {
         "data": [
          {
           "alignmentgroup": "True",
           "hovertemplate": "Entity=%{y}<br>Year=2004<br>Deaths=%{x}<extra></extra>",
           "legendgroup": "All natural disasters",
           "marker": {
            "color": "#636efa"
           },
           "name": "All natural disasters",
           "offsetgroup": "All natural disasters",
           "orientation": "h",
           "showlegend": true,
           "textposition": "auto",
           "type": "bar",
           "x": [
            244772
           ],
           "xaxis": "x",
           "y": [
            "All natural disasters"
           ],
           "yaxis": "y"
          },
          {
           "alignmentgroup": "True",
           "hovertemplate": "Entity=%{y}<br>Year=2004<br>Deaths=%{x}<extra></extra>",
           "legendgroup": "Drought",
           "marker": {
            "color": "#EF553B"
           },
           "name": "Drought",
           "offsetgroup": "Drought",
           "orientation": "h",
           "showlegend": true,
           "textposition": "auto",
           "type": "bar",
           "x": [
            80
           ],
           "xaxis": "x",
           "y": [
            "Drought"
           ],
           "yaxis": "y"
          },
          {
           "alignmentgroup": "True",
           "hovertemplate": "Entity=%{y}<br>Year=2004<br>Deaths=%{x}<extra></extra>",
           "legendgroup": "Earthquake",
           "marker": {
            "color": "#00cc96"
           },
           "name": "Earthquake",
           "offsetgroup": "Earthquake",
           "orientation": "h",
           "showlegend": true,
           "textposition": "auto",
           "type": "bar",
           "x": [
            227290
           ],
           "xaxis": "x",
           "y": [
            "Earthquake"
           ],
           "yaxis": "y"
          },
          {
           "alignmentgroup": "True",
           "hovertemplate": "Entity=%{y}<br>Year=2004<br>Deaths=%{x}<extra></extra>",
           "legendgroup": "Epidemic",
           "marker": {
            "color": "#ab63fa"
           },
           "name": "Epidemic",
           "offsetgroup": "Epidemic",
           "orientation": "h",
           "showlegend": true,
           "textposition": "auto",
           "type": "bar",
           "x": [
            3245
           ],
           "xaxis": "x",
           "y": [
            "Epidemic"
           ],
           "yaxis": "y"
          },
          {
           "alignmentgroup": "True",
           "hovertemplate": "Entity=%{y}<br>Year=2004<br>Deaths=%{x}<extra></extra>",
           "legendgroup": "Extreme temperature",
           "marker": {
            "color": "#FFA15A"
           },
           "name": "Extreme temperature",
           "offsetgroup": "Extreme temperature",
           "orientation": "h",
           "showlegend": true,
           "textposition": "auto",
           "type": "bar",
           "x": [
            255
           ],
           "xaxis": "x",
           "y": [
            "Extreme temperature"
           ],
           "yaxis": "y"
          },
          {
           "alignmentgroup": "True",
           "hovertemplate": "Entity=%{y}<br>Year=2004<br>Deaths=%{x}<extra></extra>",
           "legendgroup": "Extreme weather",
           "marker": {
            "color": "#19d3f3"
           },
           "name": "Extreme weather",
           "offsetgroup": "Extreme weather",
           "orientation": "h",
           "showlegend": true,
           "textposition": "auto",
           "type": "bar",
           "x": [
            6547
           ],
           "xaxis": "x",
           "y": [
            "Extreme weather"
           ],
           "yaxis": "y"
          },
          {
           "alignmentgroup": "True",
           "hovertemplate": "Entity=%{y}<br>Year=2004<br>Deaths=%{x}<extra></extra>",
           "legendgroup": "Flood",
           "marker": {
            "color": "#FF6692"
           },
           "name": "Flood",
           "offsetgroup": "Flood",
           "orientation": "h",
           "showlegend": true,
           "textposition": "auto",
           "type": "bar",
           "x": [
            6982
           ],
           "xaxis": "x",
           "y": [
            "Flood"
           ],
           "yaxis": "y"
          },
          {
           "alignmentgroup": "True",
           "hovertemplate": "Entity=%{y}<br>Year=2004<br>Deaths=%{x}<extra></extra>",
           "legendgroup": "Landslide",
           "marker": {
            "color": "#B6E880"
           },
           "name": "Landslide",
           "offsetgroup": "Landslide",
           "orientation": "h",
           "showlegend": true,
           "textposition": "auto",
           "type": "bar",
           "x": [
            313
           ],
           "xaxis": "x",
           "y": [
            "Landslide"
           ],
           "yaxis": "y"
          },
          {
           "alignmentgroup": "True",
           "hovertemplate": "Entity=%{y}<br>Year=2004<br>Deaths=%{x}<extra></extra>",
           "legendgroup": "Mass movement (dry)",
           "marker": {
            "color": "#FF97FF"
           },
           "name": "Mass movement (dry)",
           "offsetgroup": "Mass movement (dry)",
           "orientation": "h",
           "showlegend": true,
           "textposition": "auto",
           "type": "bar",
           "x": [
            44
           ],
           "xaxis": "x",
           "y": [
            "Mass movement (dry)"
           ],
           "yaxis": "y"
          },
          {
           "alignmentgroup": "True",
           "hovertemplate": "Entity=%{y}<br>Year=2004<br>Deaths=%{x}<extra></extra>",
           "legendgroup": "Volcanic activity",
           "marker": {
            "color": "#FECB52"
           },
           "name": "Volcanic activity",
           "offsetgroup": "Volcanic activity",
           "orientation": "h",
           "showlegend": true,
           "textposition": "auto",
           "type": "bar",
           "x": [
            2
           ],
           "xaxis": "x",
           "y": [
            "Volcanic activity"
           ],
           "yaxis": "y"
          },
          {
           "alignmentgroup": "True",
           "hovertemplate": "Entity=%{y}<br>Year=2004<br>Deaths=%{x}<extra></extra>",
           "legendgroup": "Wildfire",
           "marker": {
            "color": "#636efa"
           },
           "name": "Wildfire",
           "offsetgroup": "Wildfire",
           "orientation": "h",
           "showlegend": true,
           "textposition": "auto",
           "type": "bar",
           "x": [
            14
           ],
           "xaxis": "x",
           "y": [
            "Wildfire"
           ],
           "yaxis": "y"
          }
         ],
         "name": "2004"
        },
        {
         "data": [
          {
           "alignmentgroup": "True",
           "hovertemplate": "Entity=%{y}<br>Year=2005<br>Deaths=%{x}<extra></extra>",
           "legendgroup": "All natural disasters",
           "marker": {
            "color": "#636efa"
           },
           "name": "All natural disasters",
           "offsetgroup": "All natural disasters",
           "orientation": "h",
           "showlegend": true,
           "textposition": "auto",
           "type": "bar",
           "x": [
            93566
           ],
           "xaxis": "x",
           "y": [
            "All natural disasters"
           ],
           "yaxis": "y"
          },
          {
           "alignmentgroup": "True",
           "hovertemplate": "Entity=%{y}<br>Year=2005<br>Deaths=%{x}<extra></extra>",
           "legendgroup": "Drought",
           "marker": {
            "color": "#EF553B"
           },
           "name": "Drought",
           "offsetgroup": "Drought",
           "orientation": "h",
           "showlegend": true,
           "textposition": "auto",
           "type": "bar",
           "x": [
            149
           ],
           "xaxis": "x",
           "y": [
            "Drought"
           ],
           "yaxis": "y"
          },
          {
           "alignmentgroup": "True",
           "hovertemplate": "Entity=%{y}<br>Year=2005<br>Deaths=%{x}<extra></extra>",
           "legendgroup": "Earthquake",
           "marker": {
            "color": "#00cc96"
           },
           "name": "Earthquake",
           "offsetgroup": "Earthquake",
           "orientation": "h",
           "showlegend": true,
           "textposition": "auto",
           "type": "bar",
           "x": [
            76241
           ],
           "xaxis": "x",
           "y": [
            "Earthquake"
           ],
           "yaxis": "y"
          },
          {
           "alignmentgroup": "True",
           "hovertemplate": "Entity=%{y}<br>Year=2005<br>Deaths=%{x}<extra></extra>",
           "legendgroup": "Epidemic",
           "marker": {
            "color": "#ab63fa"
           },
           "name": "Epidemic",
           "offsetgroup": "Epidemic",
           "orientation": "h",
           "showlegend": true,
           "textposition": "auto",
           "type": "bar",
           "x": [
            3909
           ],
           "xaxis": "x",
           "y": [
            "Epidemic"
           ],
           "yaxis": "y"
          },
          {
           "alignmentgroup": "True",
           "hovertemplate": "Entity=%{y}<br>Year=2005<br>Deaths=%{x}<extra></extra>",
           "legendgroup": "Extreme temperature",
           "marker": {
            "color": "#FFA15A"
           },
           "name": "Extreme temperature",
           "offsetgroup": "Extreme temperature",
           "orientation": "h",
           "showlegend": true,
           "textposition": "auto",
           "type": "bar",
           "x": [
            1550
           ],
           "xaxis": "x",
           "y": [
            "Extreme temperature"
           ],
           "yaxis": "y"
          },
          {
           "alignmentgroup": "True",
           "hovertemplate": "Entity=%{y}<br>Year=2005<br>Deaths=%{x}<extra></extra>",
           "legendgroup": "Extreme weather",
           "marker": {
            "color": "#19d3f3"
           },
           "name": "Extreme weather",
           "offsetgroup": "Extreme weather",
           "orientation": "h",
           "showlegend": true,
           "textposition": "auto",
           "type": "bar",
           "x": [
            5251
           ],
           "xaxis": "x",
           "y": [
            "Extreme weather"
           ],
           "yaxis": "y"
          },
          {
           "alignmentgroup": "True",
           "hovertemplate": "Entity=%{y}<br>Year=2005<br>Deaths=%{x}<extra></extra>",
           "legendgroup": "Flood",
           "marker": {
            "color": "#FF6692"
           },
           "name": "Flood",
           "offsetgroup": "Flood",
           "orientation": "h",
           "showlegend": true,
           "textposition": "auto",
           "type": "bar",
           "x": [
            5754
           ],
           "xaxis": "x",
           "y": [
            "Flood"
           ],
           "yaxis": "y"
          },
          {
           "alignmentgroup": "True",
           "hovertemplate": "Entity=%{y}<br>Year=2005<br>Deaths=%{x}<extra></extra>",
           "legendgroup": "Landslide",
           "marker": {
            "color": "#B6E880"
           },
           "name": "Landslide",
           "offsetgroup": "Landslide",
           "orientation": "h",
           "showlegend": true,
           "textposition": "auto",
           "type": "bar",
           "x": [
            664
           ],
           "xaxis": "x",
           "y": [
            "Landslide"
           ],
           "yaxis": "y"
          },
          {
           "alignmentgroup": "True",
           "hovertemplate": "Entity=%{y}<br>Year=2005<br>Deaths=%{x}<extra></extra>",
           "legendgroup": "Volcanic activity",
           "marker": {
            "color": "#FECB52"
           },
           "name": "Volcanic activity",
           "offsetgroup": "Volcanic activity",
           "orientation": "h",
           "showlegend": true,
           "textposition": "auto",
           "type": "bar",
           "x": [
            3
           ],
           "xaxis": "x",
           "y": [
            "Volcanic activity"
           ],
           "yaxis": "y"
          },
          {
           "alignmentgroup": "True",
           "hovertemplate": "Entity=%{y}<br>Year=2005<br>Deaths=%{x}<extra></extra>",
           "legendgroup": "Wildfire",
           "marker": {
            "color": "#636efa"
           },
           "name": "Wildfire",
           "offsetgroup": "Wildfire",
           "orientation": "h",
           "showlegend": true,
           "textposition": "auto",
           "type": "bar",
           "x": [
            45
           ],
           "xaxis": "x",
           "y": [
            "Wildfire"
           ],
           "yaxis": "y"
          }
         ],
         "name": "2005"
        },
        {
         "data": [
          {
           "alignmentgroup": "True",
           "hovertemplate": "Entity=%{y}<br>Year=2006<br>Deaths=%{x}<extra></extra>",
           "legendgroup": "All natural disasters",
           "marker": {
            "color": "#636efa"
           },
           "name": "All natural disasters",
           "offsetgroup": "All natural disasters",
           "orientation": "h",
           "showlegend": true,
           "textposition": "auto",
           "type": "bar",
           "x": [
            29893
           ],
           "xaxis": "x",
           "y": [
            "All natural disasters"
           ],
           "yaxis": "y"
          },
          {
           "alignmentgroup": "True",
           "hovertemplate": "Entity=%{y}<br>Year=2006<br>Deaths=%{x}<extra></extra>",
           "legendgroup": "Drought",
           "marker": {
            "color": "#EF553B"
           },
           "name": "Drought",
           "offsetgroup": "Drought",
           "orientation": "h",
           "showlegend": true,
           "textposition": "auto",
           "type": "bar",
           "x": [
            134
           ],
           "xaxis": "x",
           "y": [
            "Drought"
           ],
           "yaxis": "y"
          },
          {
           "alignmentgroup": "True",
           "hovertemplate": "Entity=%{y}<br>Year=2006<br>Deaths=%{x}<extra></extra>",
           "legendgroup": "Earthquake",
           "marker": {
            "color": "#00cc96"
           },
           "name": "Earthquake",
           "offsetgroup": "Earthquake",
           "orientation": "h",
           "showlegend": true,
           "textposition": "auto",
           "type": "bar",
           "x": [
            6692
           ],
           "xaxis": "x",
           "y": [
            "Earthquake"
           ],
           "yaxis": "y"
          },
          {
           "alignmentgroup": "True",
           "hovertemplate": "Entity=%{y}<br>Year=2006<br>Deaths=%{x}<extra></extra>",
           "legendgroup": "Epidemic",
           "marker": {
            "color": "#ab63fa"
           },
           "name": "Epidemic",
           "offsetgroup": "Epidemic",
           "orientation": "h",
           "showlegend": true,
           "textposition": "auto",
           "type": "bar",
           "x": [
            6402
           ],
           "xaxis": "x",
           "y": [
            "Epidemic"
           ],
           "yaxis": "y"
          },
          {
           "alignmentgroup": "True",
           "hovertemplate": "Entity=%{y}<br>Year=2006<br>Deaths=%{x}<extra></extra>",
           "legendgroup": "Extreme temperature",
           "marker": {
            "color": "#FFA15A"
           },
           "name": "Extreme temperature",
           "offsetgroup": "Extreme temperature",
           "orientation": "h",
           "showlegend": true,
           "textposition": "auto",
           "type": "bar",
           "x": [
            4826
           ],
           "xaxis": "x",
           "y": [
            "Extreme temperature"
           ],
           "yaxis": "y"
          },
          {
           "alignmentgroup": "True",
           "hovertemplate": "Entity=%{y}<br>Year=2006<br>Deaths=%{x}<extra></extra>",
           "legendgroup": "Extreme weather",
           "marker": {
            "color": "#19d3f3"
           },
           "name": "Extreme weather",
           "offsetgroup": "Extreme weather",
           "orientation": "h",
           "showlegend": true,
           "textposition": "auto",
           "type": "bar",
           "x": [
            4329
           ],
           "xaxis": "x",
           "y": [
            "Extreme weather"
           ],
           "yaxis": "y"
          },
          {
           "alignmentgroup": "True",
           "hovertemplate": "Entity=%{y}<br>Year=2006<br>Deaths=%{x}<extra></extra>",
           "legendgroup": "Flood",
           "marker": {
            "color": "#FF6692"
           },
           "name": "Flood",
           "offsetgroup": "Flood",
           "orientation": "h",
           "showlegend": true,
           "textposition": "auto",
           "type": "bar",
           "x": [
            5843
           ],
           "xaxis": "x",
           "y": [
            "Flood"
           ],
           "yaxis": "y"
          },
          {
           "alignmentgroup": "True",
           "hovertemplate": "Entity=%{y}<br>Year=2006<br>Deaths=%{x}<extra></extra>",
           "legendgroup": "Landslide",
           "marker": {
            "color": "#B6E880"
           },
           "name": "Landslide",
           "offsetgroup": "Landslide",
           "orientation": "h",
           "showlegend": true,
           "textposition": "auto",
           "type": "bar",
           "x": [
            1638
           ],
           "xaxis": "x",
           "y": [
            "Landslide"
           ],
           "yaxis": "y"
          },
          {
           "alignmentgroup": "True",
           "hovertemplate": "Entity=%{y}<br>Year=2006<br>Deaths=%{x}<extra></extra>",
           "legendgroup": "Mass movement (dry)",
           "marker": {
            "color": "#FF97FF"
           },
           "name": "Mass movement (dry)",
           "offsetgroup": "Mass movement (dry)",
           "orientation": "h",
           "showlegend": true,
           "textposition": "auto",
           "type": "bar",
           "x": [
            11
           ],
           "xaxis": "x",
           "y": [
            "Mass movement (dry)"
           ],
           "yaxis": "y"
          },
          {
           "alignmentgroup": "True",
           "hovertemplate": "Entity=%{y}<br>Year=2006<br>Deaths=%{x}<extra></extra>",
           "legendgroup": "Volcanic activity",
           "marker": {
            "color": "#FECB52"
           },
           "name": "Volcanic activity",
           "offsetgroup": "Volcanic activity",
           "orientation": "h",
           "showlegend": true,
           "textposition": "auto",
           "type": "bar",
           "x": [
            5
           ],
           "xaxis": "x",
           "y": [
            "Volcanic activity"
           ],
           "yaxis": "y"
          },
          {
           "alignmentgroup": "True",
           "hovertemplate": "Entity=%{y}<br>Year=2006<br>Deaths=%{x}<extra></extra>",
           "legendgroup": "Wildfire",
           "marker": {
            "color": "#636efa"
           },
           "name": "Wildfire",
           "offsetgroup": "Wildfire",
           "orientation": "h",
           "showlegend": true,
           "textposition": "auto",
           "type": "bar",
           "x": [
            13
           ],
           "xaxis": "x",
           "y": [
            "Wildfire"
           ],
           "yaxis": "y"
          }
         ],
         "name": "2006"
        },
        {
         "data": [
          {
           "alignmentgroup": "True",
           "hovertemplate": "Entity=%{y}<br>Year=2007<br>Deaths=%{x}<extra></extra>",
           "legendgroup": "All natural disasters",
           "marker": {
            "color": "#636efa"
           },
           "name": "All natural disasters",
           "offsetgroup": "All natural disasters",
           "orientation": "h",
           "showlegend": true,
           "textposition": "auto",
           "type": "bar",
           "x": [
            22422
           ],
           "xaxis": "x",
           "y": [
            "All natural disasters"
           ],
           "yaxis": "y"
          },
          {
           "alignmentgroup": "True",
           "hovertemplate": "Entity=%{y}<br>Year=2007<br>Deaths=%{x}<extra></extra>",
           "legendgroup": "Earthquake",
           "marker": {
            "color": "#00cc96"
           },
           "name": "Earthquake",
           "offsetgroup": "Earthquake",
           "orientation": "h",
           "showlegend": true,
           "textposition": "auto",
           "type": "bar",
           "x": [
            780
           ],
           "xaxis": "x",
           "y": [
            "Earthquake"
           ],
           "yaxis": "y"
          },
          {
           "alignmentgroup": "True",
           "hovertemplate": "Entity=%{y}<br>Year=2007<br>Deaths=%{x}<extra></extra>",
           "legendgroup": "Epidemic",
           "marker": {
            "color": "#ab63fa"
           },
           "name": "Epidemic",
           "offsetgroup": "Epidemic",
           "orientation": "h",
           "showlegend": true,
           "textposition": "auto",
           "type": "bar",
           "x": [
            5484
           ],
           "xaxis": "x",
           "y": [
            "Epidemic"
           ],
           "yaxis": "y"
          },
          {
           "alignmentgroup": "True",
           "hovertemplate": "Entity=%{y}<br>Year=2007<br>Deaths=%{x}<extra></extra>",
           "legendgroup": "Extreme temperature",
           "marker": {
            "color": "#FFA15A"
           },
           "name": "Extreme temperature",
           "offsetgroup": "Extreme temperature",
           "orientation": "h",
           "showlegend": true,
           "textposition": "auto",
           "type": "bar",
           "x": [
            1086
           ],
           "xaxis": "x",
           "y": [
            "Extreme temperature"
           ],
           "yaxis": "y"
          },
          {
           "alignmentgroup": "True",
           "hovertemplate": "Entity=%{y}<br>Year=2007<br>Deaths=%{x}<extra></extra>",
           "legendgroup": "Extreme weather",
           "marker": {
            "color": "#19d3f3"
           },
           "name": "Extreme weather",
           "offsetgroup": "Extreme weather",
           "orientation": "h",
           "showlegend": true,
           "textposition": "auto",
           "type": "bar",
           "x": [
            6035
           ],
           "xaxis": "x",
           "y": [
            "Extreme weather"
           ],
           "yaxis": "y"
          },
          {
           "alignmentgroup": "True",
           "hovertemplate": "Entity=%{y}<br>Year=2007<br>Deaths=%{x}<extra></extra>",
           "legendgroup": "Flood",
           "marker": {
            "color": "#FF6692"
           },
           "name": "Flood",
           "offsetgroup": "Flood",
           "orientation": "h",
           "showlegend": true,
           "textposition": "auto",
           "type": "bar",
           "x": [
            8607
           ],
           "xaxis": "x",
           "y": [
            "Flood"
           ],
           "yaxis": "y"
          },
          {
           "alignmentgroup": "True",
           "hovertemplate": "Entity=%{y}<br>Year=2007<br>Deaths=%{x}<extra></extra>",
           "legendgroup": "Landslide",
           "marker": {
            "color": "#B6E880"
           },
           "name": "Landslide",
           "offsetgroup": "Landslide",
           "orientation": "h",
           "showlegend": true,
           "textposition": "auto",
           "type": "bar",
           "x": [
            271
           ],
           "xaxis": "x",
           "y": [
            "Landslide"
           ],
           "yaxis": "y"
          },
          {
           "alignmentgroup": "True",
           "hovertemplate": "Entity=%{y}<br>Year=2007<br>Deaths=%{x}<extra></extra>",
           "legendgroup": "Volcanic activity",
           "marker": {
            "color": "#FECB52"
           },
           "name": "Volcanic activity",
           "offsetgroup": "Volcanic activity",
           "orientation": "h",
           "showlegend": true,
           "textposition": "auto",
           "type": "bar",
           "x": [
            11
           ],
           "xaxis": "x",
           "y": [
            "Volcanic activity"
           ],
           "yaxis": "y"
          },
          {
           "alignmentgroup": "True",
           "hovertemplate": "Entity=%{y}<br>Year=2007<br>Deaths=%{x}<extra></extra>",
           "legendgroup": "Wildfire",
           "marker": {
            "color": "#636efa"
           },
           "name": "Wildfire",
           "offsetgroup": "Wildfire",
           "orientation": "h",
           "showlegend": true,
           "textposition": "auto",
           "type": "bar",
           "x": [
            148
           ],
           "xaxis": "x",
           "y": [
            "Wildfire"
           ],
           "yaxis": "y"
          }
         ],
         "name": "2007"
        },
        {
         "data": [
          {
           "alignmentgroup": "True",
           "hovertemplate": "Entity=%{y}<br>Year=2008<br>Deaths=%{x}<extra></extra>",
           "legendgroup": "All natural disasters",
           "marker": {
            "color": "#636efa"
           },
           "name": "All natural disasters",
           "offsetgroup": "All natural disasters",
           "orientation": "h",
           "showlegend": true,
           "textposition": "auto",
           "type": "bar",
           "x": [
            242236
           ],
           "xaxis": "x",
           "y": [
            "All natural disasters"
           ],
           "yaxis": "y"
          },
          {
           "alignmentgroup": "True",
           "hovertemplate": "Entity=%{y}<br>Year=2008<br>Deaths=%{x}<extra></extra>",
           "legendgroup": "Drought",
           "marker": {
            "color": "#EF553B"
           },
           "name": "Drought",
           "offsetgroup": "Drought",
           "orientation": "h",
           "showlegend": true,
           "textposition": "auto",
           "type": "bar",
           "x": [
            8
           ],
           "xaxis": "x",
           "y": [
            "Drought"
           ],
           "yaxis": "y"
          },
          {
           "alignmentgroup": "True",
           "hovertemplate": "Entity=%{y}<br>Year=2008<br>Deaths=%{x}<extra></extra>",
           "legendgroup": "Earthquake",
           "marker": {
            "color": "#00cc96"
           },
           "name": "Earthquake",
           "offsetgroup": "Earthquake",
           "orientation": "h",
           "showlegend": true,
           "textposition": "auto",
           "type": "bar",
           "x": [
            87918
           ],
           "xaxis": "x",
           "y": [
            "Earthquake"
           ],
           "yaxis": "y"
          },
          {
           "alignmentgroup": "True",
           "hovertemplate": "Entity=%{y}<br>Year=2008<br>Deaths=%{x}<extra></extra>",
           "legendgroup": "Epidemic",
           "marker": {
            "color": "#ab63fa"
           },
           "name": "Epidemic",
           "offsetgroup": "Epidemic",
           "orientation": "h",
           "showlegend": true,
           "textposition": "auto",
           "type": "bar",
           "x": [
            6904
           ],
           "xaxis": "x",
           "y": [
            "Epidemic"
           ],
           "yaxis": "y"
          },
          {
           "alignmentgroup": "True",
           "hovertemplate": "Entity=%{y}<br>Year=2008<br>Deaths=%{x}<extra></extra>",
           "legendgroup": "Extreme temperature",
           "marker": {
            "color": "#FFA15A"
           },
           "name": "Extreme temperature",
           "offsetgroup": "Extreme temperature",
           "orientation": "h",
           "showlegend": true,
           "textposition": "auto",
           "type": "bar",
           "x": [
            1688
           ],
           "xaxis": "x",
           "y": [
            "Extreme temperature"
           ],
           "yaxis": "y"
          },
          {
           "alignmentgroup": "True",
           "hovertemplate": "Entity=%{y}<br>Year=2008<br>Deaths=%{x}<extra></extra>",
           "legendgroup": "Extreme weather",
           "marker": {
            "color": "#19d3f3"
           },
           "name": "Extreme weather",
           "offsetgroup": "Extreme weather",
           "orientation": "h",
           "showlegend": true,
           "textposition": "auto",
           "type": "bar",
           "x": [
            140985
           ],
           "xaxis": "x",
           "y": [
            "Extreme weather"
           ],
           "yaxis": "y"
          },
          {
           "alignmentgroup": "True",
           "hovertemplate": "Entity=%{y}<br>Year=2008<br>Deaths=%{x}<extra></extra>",
           "legendgroup": "Flood",
           "marker": {
            "color": "#FF6692"
           },
           "name": "Flood",
           "offsetgroup": "Flood",
           "orientation": "h",
           "showlegend": true,
           "textposition": "auto",
           "type": "bar",
           "x": [
            4007
           ],
           "xaxis": "x",
           "y": [
            "Flood"
           ],
           "yaxis": "y"
          },
          {
           "alignmentgroup": "True",
           "hovertemplate": "Entity=%{y}<br>Year=2008<br>Deaths=%{x}<extra></extra>",
           "legendgroup": "Landslide",
           "marker": {
            "color": "#B6E880"
           },
           "name": "Landslide",
           "offsetgroup": "Landslide",
           "orientation": "h",
           "showlegend": true,
           "textposition": "auto",
           "type": "bar",
           "x": [
            504
           ],
           "xaxis": "x",
           "y": [
            "Landslide"
           ],
           "yaxis": "y"
          },
          {
           "alignmentgroup": "True",
           "hovertemplate": "Entity=%{y}<br>Year=2008<br>Deaths=%{x}<extra></extra>",
           "legendgroup": "Mass movement (dry)",
           "marker": {
            "color": "#FF97FF"
           },
           "name": "Mass movement (dry)",
           "offsetgroup": "Mass movement (dry)",
           "orientation": "h",
           "showlegend": true,
           "textposition": "auto",
           "type": "bar",
           "x": [
            120
           ],
           "xaxis": "x",
           "y": [
            "Mass movement (dry)"
           ],
           "yaxis": "y"
          },
          {
           "alignmentgroup": "True",
           "hovertemplate": "Entity=%{y}<br>Year=2008<br>Deaths=%{x}<extra></extra>",
           "legendgroup": "Volcanic activity",
           "marker": {
            "color": "#FECB52"
           },
           "name": "Volcanic activity",
           "offsetgroup": "Volcanic activity",
           "orientation": "h",
           "showlegend": true,
           "textposition": "auto",
           "type": "bar",
           "x": [
            16
           ],
           "xaxis": "x",
           "y": [
            "Volcanic activity"
           ],
           "yaxis": "y"
          },
          {
           "alignmentgroup": "True",
           "hovertemplate": "Entity=%{y}<br>Year=2008<br>Deaths=%{x}<extra></extra>",
           "legendgroup": "Wildfire",
           "marker": {
            "color": "#636efa"
           },
           "name": "Wildfire",
           "offsetgroup": "Wildfire",
           "orientation": "h",
           "showlegend": true,
           "textposition": "auto",
           "type": "bar",
           "x": [
            86
           ],
           "xaxis": "x",
           "y": [
            "Wildfire"
           ],
           "yaxis": "y"
          }
         ],
         "name": "2008"
        },
        {
         "data": [
          {
           "alignmentgroup": "True",
           "hovertemplate": "Entity=%{y}<br>Year=2009<br>Deaths=%{x}<extra></extra>",
           "legendgroup": "All natural disasters",
           "marker": {
            "color": "#636efa"
           },
           "name": "All natural disasters",
           "offsetgroup": "All natural disasters",
           "orientation": "h",
           "showlegend": true,
           "textposition": "auto",
           "type": "bar",
           "x": [
            16037
           ],
           "xaxis": "x",
           "y": [
            "All natural disasters"
           ],
           "yaxis": "y"
          },
          {
           "alignmentgroup": "True",
           "hovertemplate": "Entity=%{y}<br>Year=2009<br>Deaths=%{x}<extra></extra>",
           "legendgroup": "Earthquake",
           "marker": {
            "color": "#00cc96"
           },
           "name": "Earthquake",
           "offsetgroup": "Earthquake",
           "orientation": "h",
           "showlegend": true,
           "textposition": "auto",
           "type": "bar",
           "x": [
            1893
           ],
           "xaxis": "x",
           "y": [
            "Earthquake"
           ],
           "yaxis": "y"
          },
          {
           "alignmentgroup": "True",
           "hovertemplate": "Entity=%{y}<br>Year=2009<br>Deaths=%{x}<extra></extra>",
           "legendgroup": "Epidemic",
           "marker": {
            "color": "#ab63fa"
           },
           "name": "Epidemic",
           "offsetgroup": "Epidemic",
           "orientation": "h",
           "showlegend": true,
           "textposition": "auto",
           "type": "bar",
           "x": [
            4895
           ],
           "xaxis": "x",
           "y": [
            "Epidemic"
           ],
           "yaxis": "y"
          },
          {
           "alignmentgroup": "True",
           "hovertemplate": "Entity=%{y}<br>Year=2009<br>Deaths=%{x}<extra></extra>",
           "legendgroup": "Extreme temperature",
           "marker": {
            "color": "#FFA15A"
           },
           "name": "Extreme temperature",
           "offsetgroup": "Extreme temperature",
           "orientation": "h",
           "showlegend": true,
           "textposition": "auto",
           "type": "bar",
           "x": [
            1386
           ],
           "xaxis": "x",
           "y": [
            "Extreme temperature"
           ],
           "yaxis": "y"
          },
          {
           "alignmentgroup": "True",
           "hovertemplate": "Entity=%{y}<br>Year=2009<br>Deaths=%{x}<extra></extra>",
           "legendgroup": "Extreme weather",
           "marker": {
            "color": "#19d3f3"
           },
           "name": "Extreme weather",
           "offsetgroup": "Extreme weather",
           "orientation": "h",
           "showlegend": true,
           "textposition": "auto",
           "type": "bar",
           "x": [
            3287
           ],
           "xaxis": "x",
           "y": [
            "Extreme weather"
           ],
           "yaxis": "y"
          },
          {
           "alignmentgroup": "True",
           "hovertemplate": "Entity=%{y}<br>Year=2009<br>Deaths=%{x}<extra></extra>",
           "legendgroup": "Flood",
           "marker": {
            "color": "#FF6692"
           },
           "name": "Flood",
           "offsetgroup": "Flood",
           "orientation": "h",
           "showlegend": true,
           "textposition": "auto",
           "type": "bar",
           "x": [
            3627
           ],
           "xaxis": "x",
           "y": [
            "Flood"
           ],
           "yaxis": "y"
          },
          {
           "alignmentgroup": "True",
           "hovertemplate": "Entity=%{y}<br>Year=2009<br>Deaths=%{x}<extra></extra>",
           "legendgroup": "Landslide",
           "marker": {
            "color": "#B6E880"
           },
           "name": "Landslide",
           "offsetgroup": "Landslide",
           "orientation": "h",
           "showlegend": true,
           "textposition": "auto",
           "type": "bar",
           "x": [
            723
           ],
           "xaxis": "x",
           "y": [
            "Landslide"
           ],
           "yaxis": "y"
          },
          {
           "alignmentgroup": "True",
           "hovertemplate": "Entity=%{y}<br>Year=2009<br>Deaths=%{x}<extra></extra>",
           "legendgroup": "Mass movement (dry)",
           "marker": {
            "color": "#FF97FF"
           },
           "name": "Mass movement (dry)",
           "offsetgroup": "Mass movement (dry)",
           "orientation": "h",
           "showlegend": true,
           "textposition": "auto",
           "type": "bar",
           "x": [
            36
           ],
           "xaxis": "x",
           "y": [
            "Mass movement (dry)"
           ],
           "yaxis": "y"
          },
          {
           "alignmentgroup": "True",
           "hovertemplate": "Entity=%{y}<br>Year=2009<br>Deaths=%{x}<extra></extra>",
           "legendgroup": "Wildfire",
           "marker": {
            "color": "#636efa"
           },
           "name": "Wildfire",
           "offsetgroup": "Wildfire",
           "orientation": "h",
           "showlegend": true,
           "textposition": "auto",
           "type": "bar",
           "x": [
            190
           ],
           "xaxis": "x",
           "y": [
            "Wildfire"
           ],
           "yaxis": "y"
          }
         ],
         "name": "2009"
        },
        {
         "data": [
          {
           "alignmentgroup": "True",
           "hovertemplate": "Entity=%{y}<br>Year=2010<br>Deaths=%{x}<extra></extra>",
           "legendgroup": "All natural disasters",
           "marker": {
            "color": "#636efa"
           },
           "name": "All natural disasters",
           "offsetgroup": "All natural disasters",
           "orientation": "h",
           "showlegend": true,
           "textposition": "auto",
           "type": "bar",
           "x": [
            329900
           ],
           "xaxis": "x",
           "y": [
            "All natural disasters"
           ],
           "yaxis": "y"
          },
          {
           "alignmentgroup": "True",
           "hovertemplate": "Entity=%{y}<br>Year=2010<br>Deaths=%{x}<extra></extra>",
           "legendgroup": "Drought",
           "marker": {
            "color": "#EF553B"
           },
           "name": "Drought",
           "offsetgroup": "Drought",
           "orientation": "h",
           "showlegend": true,
           "textposition": "auto",
           "type": "bar",
           "x": [
            20000
           ],
           "xaxis": "x",
           "y": [
            "Drought"
           ],
           "yaxis": "y"
          },
          {
           "alignmentgroup": "True",
           "hovertemplate": "Entity=%{y}<br>Year=2010<br>Deaths=%{x}<extra></extra>",
           "legendgroup": "Earthquake",
           "marker": {
            "color": "#00cc96"
           },
           "name": "Earthquake",
           "offsetgroup": "Earthquake",
           "orientation": "h",
           "showlegend": true,
           "textposition": "auto",
           "type": "bar",
           "x": [
            226733
           ],
           "xaxis": "x",
           "y": [
            "Earthquake"
           ],
           "yaxis": "y"
          },
          {
           "alignmentgroup": "True",
           "hovertemplate": "Entity=%{y}<br>Year=2010<br>Deaths=%{x}<extra></extra>",
           "legendgroup": "Epidemic",
           "marker": {
            "color": "#ab63fa"
           },
           "name": "Epidemic",
           "offsetgroup": "Epidemic",
           "orientation": "h",
           "showlegend": true,
           "textposition": "auto",
           "type": "bar",
           "x": [
            12143
           ],
           "xaxis": "x",
           "y": [
            "Epidemic"
           ],
           "yaxis": "y"
          },
          {
           "alignmentgroup": "True",
           "hovertemplate": "Entity=%{y}<br>Year=2010<br>Deaths=%{x}<extra></extra>",
           "legendgroup": "Extreme temperature",
           "marker": {
            "color": "#FFA15A"
           },
           "name": "Extreme temperature",
           "offsetgroup": "Extreme temperature",
           "orientation": "h",
           "showlegend": true,
           "textposition": "auto",
           "type": "bar",
           "x": [
            57188
           ],
           "xaxis": "x",
           "y": [
            "Extreme temperature"
           ],
           "yaxis": "y"
          },
          {
           "alignmentgroup": "True",
           "hovertemplate": "Entity=%{y}<br>Year=2010<br>Deaths=%{x}<extra></extra>",
           "legendgroup": "Extreme weather",
           "marker": {
            "color": "#19d3f3"
           },
           "name": "Extreme weather",
           "offsetgroup": "Extreme weather",
           "orientation": "h",
           "showlegend": true,
           "textposition": "auto",
           "type": "bar",
           "x": [
            1564
           ],
           "xaxis": "x",
           "y": [
            "Extreme weather"
           ],
           "yaxis": "y"
          },
          {
           "alignmentgroup": "True",
           "hovertemplate": "Entity=%{y}<br>Year=2010<br>Deaths=%{x}<extra></extra>",
           "legendgroup": "Flood",
           "marker": {
            "color": "#FF6692"
           },
           "name": "Flood",
           "offsetgroup": "Flood",
           "orientation": "h",
           "showlegend": true,
           "textposition": "auto",
           "type": "bar",
           "x": [
            8356
           ],
           "xaxis": "x",
           "y": [
            "Flood"
           ],
           "yaxis": "y"
          },
          {
           "alignmentgroup": "True",
           "hovertemplate": "Entity=%{y}<br>Year=2010<br>Deaths=%{x}<extra></extra>",
           "legendgroup": "Landslide",
           "marker": {
            "color": "#B6E880"
           },
           "name": "Landslide",
           "offsetgroup": "Landslide",
           "orientation": "h",
           "showlegend": true,
           "textposition": "auto",
           "type": "bar",
           "x": [
            3427
           ],
           "xaxis": "x",
           "y": [
            "Landslide"
           ],
           "yaxis": "y"
          },
          {
           "alignmentgroup": "True",
           "hovertemplate": "Entity=%{y}<br>Year=2010<br>Deaths=%{x}<extra></extra>",
           "legendgroup": "Volcanic activity",
           "marker": {
            "color": "#FECB52"
           },
           "name": "Volcanic activity",
           "offsetgroup": "Volcanic activity",
           "orientation": "h",
           "showlegend": true,
           "textposition": "auto",
           "type": "bar",
           "x": [
            323
           ],
           "xaxis": "x",
           "y": [
            "Volcanic activity"
           ],
           "yaxis": "y"
          },
          {
           "alignmentgroup": "True",
           "hovertemplate": "Entity=%{y}<br>Year=2010<br>Deaths=%{x}<extra></extra>",
           "legendgroup": "Wildfire",
           "marker": {
            "color": "#636efa"
           },
           "name": "Wildfire",
           "offsetgroup": "Wildfire",
           "orientation": "h",
           "showlegend": true,
           "textposition": "auto",
           "type": "bar",
           "x": [
            166
           ],
           "xaxis": "x",
           "y": [
            "Wildfire"
           ],
           "yaxis": "y"
          }
         ],
         "name": "2010"
        },
        {
         "data": [
          {
           "alignmentgroup": "True",
           "hovertemplate": "Entity=%{y}<br>Year=2011<br>Deaths=%{x}<extra></extra>",
           "legendgroup": "All natural disasters",
           "marker": {
            "color": "#636efa"
           },
           "name": "All natural disasters",
           "offsetgroup": "All natural disasters",
           "orientation": "h",
           "showlegend": true,
           "textposition": "auto",
           "type": "bar",
           "x": [
            34143
           ],
           "xaxis": "x",
           "y": [
            "All natural disasters"
           ],
           "yaxis": "y"
          },
          {
           "alignmentgroup": "True",
           "hovertemplate": "Entity=%{y}<br>Year=2011<br>Deaths=%{x}<extra></extra>",
           "legendgroup": "Earthquake",
           "marker": {
            "color": "#00cc96"
           },
           "name": "Earthquake",
           "offsetgroup": "Earthquake",
           "orientation": "h",
           "showlegend": true,
           "textposition": "auto",
           "type": "bar",
           "x": [
            20946
           ],
           "xaxis": "x",
           "y": [
            "Earthquake"
           ],
           "yaxis": "y"
          },
          {
           "alignmentgroup": "True",
           "hovertemplate": "Entity=%{y}<br>Year=2011<br>Deaths=%{x}<extra></extra>",
           "legendgroup": "Epidemic",
           "marker": {
            "color": "#ab63fa"
           },
           "name": "Epidemic",
           "offsetgroup": "Epidemic",
           "orientation": "h",
           "showlegend": true,
           "textposition": "auto",
           "type": "bar",
           "x": [
            3174
           ],
           "xaxis": "x",
           "y": [
            "Epidemic"
           ],
           "yaxis": "y"
          },
          {
           "alignmentgroup": "True",
           "hovertemplate": "Entity=%{y}<br>Year=2011<br>Deaths=%{x}<extra></extra>",
           "legendgroup": "Extreme temperature",
           "marker": {
            "color": "#FFA15A"
           },
           "name": "Extreme temperature",
           "offsetgroup": "Extreme temperature",
           "orientation": "h",
           "showlegend": true,
           "textposition": "auto",
           "type": "bar",
           "x": [
            435
           ],
           "xaxis": "x",
           "y": [
            "Extreme temperature"
           ],
           "yaxis": "y"
          },
          {
           "alignmentgroup": "True",
           "hovertemplate": "Entity=%{y}<br>Year=2011<br>Deaths=%{x}<extra></extra>",
           "legendgroup": "Extreme weather",
           "marker": {
            "color": "#19d3f3"
           },
           "name": "Extreme weather",
           "offsetgroup": "Extreme weather",
           "orientation": "h",
           "showlegend": true,
           "textposition": "auto",
           "type": "bar",
           "x": [
            3103
           ],
           "xaxis": "x",
           "y": [
            "Extreme weather"
           ],
           "yaxis": "y"
          },
          {
           "alignmentgroup": "True",
           "hovertemplate": "Entity=%{y}<br>Year=2011<br>Deaths=%{x}<extra></extra>",
           "legendgroup": "Flood",
           "marker": {
            "color": "#FF6692"
           },
           "name": "Flood",
           "offsetgroup": "Flood",
           "orientation": "h",
           "showlegend": true,
           "textposition": "auto",
           "type": "bar",
           "x": [
            6163
           ],
           "xaxis": "x",
           "y": [
            "Flood"
           ],
           "yaxis": "y"
          },
          {
           "alignmentgroup": "True",
           "hovertemplate": "Entity=%{y}<br>Year=2011<br>Deaths=%{x}<extra></extra>",
           "legendgroup": "Landslide",
           "marker": {
            "color": "#B6E880"
           },
           "name": "Landslide",
           "offsetgroup": "Landslide",
           "orientation": "h",
           "showlegend": true,
           "textposition": "auto",
           "type": "bar",
           "x": [
            309
           ],
           "xaxis": "x",
           "y": [
            "Landslide"
           ],
           "yaxis": "y"
          },
          {
           "alignmentgroup": "True",
           "hovertemplate": "Entity=%{y}<br>Year=2011<br>Deaths=%{x}<extra></extra>",
           "legendgroup": "Volcanic activity",
           "marker": {
            "color": "#FECB52"
           },
           "name": "Volcanic activity",
           "offsetgroup": "Volcanic activity",
           "orientation": "h",
           "showlegend": true,
           "textposition": "auto",
           "type": "bar",
           "x": [
            3
           ],
           "xaxis": "x",
           "y": [
            "Volcanic activity"
           ],
           "yaxis": "y"
          },
          {
           "alignmentgroup": "True",
           "hovertemplate": "Entity=%{y}<br>Year=2011<br>Deaths=%{x}<extra></extra>",
           "legendgroup": "Wildfire",
           "marker": {
            "color": "#636efa"
           },
           "name": "Wildfire",
           "offsetgroup": "Wildfire",
           "orientation": "h",
           "showlegend": true,
           "textposition": "auto",
           "type": "bar",
           "x": [
            10
           ],
           "xaxis": "x",
           "y": [
            "Wildfire"
           ],
           "yaxis": "y"
          }
         ],
         "name": "2011"
        },
        {
         "data": [
          {
           "alignmentgroup": "True",
           "hovertemplate": "Entity=%{y}<br>Year=2012<br>Deaths=%{x}<extra></extra>",
           "legendgroup": "All natural disasters",
           "marker": {
            "color": "#636efa"
           },
           "name": "All natural disasters",
           "offsetgroup": "All natural disasters",
           "orientation": "h",
           "showlegend": true,
           "textposition": "auto",
           "type": "bar",
           "x": [
            11619
           ],
           "xaxis": "x",
           "y": [
            "All natural disasters"
           ],
           "yaxis": "y"
          },
          {
           "alignmentgroup": "True",
           "hovertemplate": "Entity=%{y}<br>Year=2012<br>Deaths=%{x}<extra></extra>",
           "legendgroup": "Earthquake",
           "marker": {
            "color": "#00cc96"
           },
           "name": "Earthquake",
           "offsetgroup": "Earthquake",
           "orientation": "h",
           "showlegend": true,
           "textposition": "auto",
           "type": "bar",
           "x": [
            711
           ],
           "xaxis": "x",
           "y": [
            "Earthquake"
           ],
           "yaxis": "y"
          },
          {
           "alignmentgroup": "True",
           "hovertemplate": "Entity=%{y}<br>Year=2012<br>Deaths=%{x}<extra></extra>",
           "legendgroup": "Epidemic",
           "marker": {
            "color": "#ab63fa"
           },
           "name": "Epidemic",
           "offsetgroup": "Epidemic",
           "orientation": "h",
           "showlegend": true,
           "textposition": "auto",
           "type": "bar",
           "x": [
            1887
           ],
           "xaxis": "x",
           "y": [
            "Epidemic"
           ],
           "yaxis": "y"
          },
          {
           "alignmentgroup": "True",
           "hovertemplate": "Entity=%{y}<br>Year=2012<br>Deaths=%{x}<extra></extra>",
           "legendgroup": "Extreme temperature",
           "marker": {
            "color": "#FFA15A"
           },
           "name": "Extreme temperature",
           "offsetgroup": "Extreme temperature",
           "orientation": "h",
           "showlegend": true,
           "textposition": "auto",
           "type": "bar",
           "x": [
            1834
           ],
           "xaxis": "x",
           "y": [
            "Extreme temperature"
           ],
           "yaxis": "y"
          },
          {
           "alignmentgroup": "True",
           "hovertemplate": "Entity=%{y}<br>Year=2012<br>Deaths=%{x}<extra></extra>",
           "legendgroup": "Extreme weather",
           "marker": {
            "color": "#19d3f3"
           },
           "name": "Extreme weather",
           "offsetgroup": "Extreme weather",
           "orientation": "h",
           "showlegend": true,
           "textposition": "auto",
           "type": "bar",
           "x": [
            3105
           ],
           "xaxis": "x",
           "y": [
            "Extreme weather"
           ],
           "yaxis": "y"
          },
          {
           "alignmentgroup": "True",
           "hovertemplate": "Entity=%{y}<br>Year=2012<br>Deaths=%{x}<extra></extra>",
           "legendgroup": "Flood",
           "marker": {
            "color": "#FF6692"
           },
           "name": "Flood",
           "offsetgroup": "Flood",
           "orientation": "h",
           "showlegend": true,
           "textposition": "auto",
           "type": "bar",
           "x": [
            3544
           ],
           "xaxis": "x",
           "y": [
            "Flood"
           ],
           "yaxis": "y"
          },
          {
           "alignmentgroup": "True",
           "hovertemplate": "Entity=%{y}<br>Year=2012<br>Deaths=%{x}<extra></extra>",
           "legendgroup": "Landslide",
           "marker": {
            "color": "#B6E880"
           },
           "name": "Landslide",
           "offsetgroup": "Landslide",
           "orientation": "h",
           "showlegend": true,
           "textposition": "auto",
           "type": "bar",
           "x": [
            501
           ],
           "xaxis": "x",
           "y": [
            "Landslide"
           ],
           "yaxis": "y"
          },
          {
           "alignmentgroup": "True",
           "hovertemplate": "Entity=%{y}<br>Year=2012<br>Deaths=%{x}<extra></extra>",
           "legendgroup": "Mass movement (dry)",
           "marker": {
            "color": "#FF97FF"
           },
           "name": "Mass movement (dry)",
           "offsetgroup": "Mass movement (dry)",
           "orientation": "h",
           "showlegend": true,
           "textposition": "auto",
           "type": "bar",
           "x": [
            16
           ],
           "xaxis": "x",
           "y": [
            "Mass movement (dry)"
           ],
           "yaxis": "y"
          },
          {
           "alignmentgroup": "True",
           "hovertemplate": "Entity=%{y}<br>Year=2012<br>Deaths=%{x}<extra></extra>",
           "legendgroup": "Wildfire",
           "marker": {
            "color": "#636efa"
           },
           "name": "Wildfire",
           "offsetgroup": "Wildfire",
           "orientation": "h",
           "showlegend": true,
           "textposition": "auto",
           "type": "bar",
           "x": [
            21
           ],
           "xaxis": "x",
           "y": [
            "Wildfire"
           ],
           "yaxis": "y"
          }
         ],
         "name": "2012"
        },
        {
         "data": [
          {
           "alignmentgroup": "True",
           "hovertemplate": "Entity=%{y}<br>Year=2013<br>Deaths=%{x}<extra></extra>",
           "legendgroup": "All natural disasters",
           "marker": {
            "color": "#636efa"
           },
           "name": "All natural disasters",
           "offsetgroup": "All natural disasters",
           "orientation": "h",
           "showlegend": true,
           "textposition": "auto",
           "type": "bar",
           "x": [
            22225
           ],
           "xaxis": "x",
           "y": [
            "All natural disasters"
           ],
           "yaxis": "y"
          },
          {
           "alignmentgroup": "True",
           "hovertemplate": "Entity=%{y}<br>Year=2013<br>Deaths=%{x}<extra></extra>",
           "legendgroup": "Earthquake",
           "marker": {
            "color": "#00cc96"
           },
           "name": "Earthquake",
           "offsetgroup": "Earthquake",
           "orientation": "h",
           "showlegend": true,
           "textposition": "auto",
           "type": "bar",
           "x": [
            1120
           ],
           "xaxis": "x",
           "y": [
            "Earthquake"
           ],
           "yaxis": "y"
          },
          {
           "alignmentgroup": "True",
           "hovertemplate": "Entity=%{y}<br>Year=2013<br>Deaths=%{x}<extra></extra>",
           "legendgroup": "Epidemic",
           "marker": {
            "color": "#ab63fa"
           },
           "name": "Epidemic",
           "offsetgroup": "Epidemic",
           "orientation": "h",
           "showlegend": true,
           "textposition": "auto",
           "type": "bar",
           "x": [
            529
           ],
           "xaxis": "x",
           "y": [
            "Epidemic"
           ],
           "yaxis": "y"
          },
          {
           "alignmentgroup": "True",
           "hovertemplate": "Entity=%{y}<br>Year=2013<br>Deaths=%{x}<extra></extra>",
           "legendgroup": "Extreme temperature",
           "marker": {
            "color": "#FFA15A"
           },
           "name": "Extreme temperature",
           "offsetgroup": "Extreme temperature",
           "orientation": "h",
           "showlegend": true,
           "textposition": "auto",
           "type": "bar",
           "x": [
            1821
           ],
           "xaxis": "x",
           "y": [
            "Extreme temperature"
           ],
           "yaxis": "y"
          },
          {
           "alignmentgroup": "True",
           "hovertemplate": "Entity=%{y}<br>Year=2013<br>Deaths=%{x}<extra></extra>",
           "legendgroup": "Extreme weather",
           "marker": {
            "color": "#19d3f3"
           },
           "name": "Extreme weather",
           "offsetgroup": "Extreme weather",
           "orientation": "h",
           "showlegend": true,
           "textposition": "auto",
           "type": "bar",
           "x": [
            8603
           ],
           "xaxis": "x",
           "y": [
            "Extreme weather"
           ],
           "yaxis": "y"
          },
          {
           "alignmentgroup": "True",
           "hovertemplate": "Entity=%{y}<br>Year=2013<br>Deaths=%{x}<extra></extra>",
           "legendgroup": "Flood",
           "marker": {
            "color": "#FF6692"
           },
           "name": "Flood",
           "offsetgroup": "Flood",
           "orientation": "h",
           "showlegend": true,
           "textposition": "auto",
           "type": "bar",
           "x": [
            9836
           ],
           "xaxis": "x",
           "y": [
            "Flood"
           ],
           "yaxis": "y"
          },
          {
           "alignmentgroup": "True",
           "hovertemplate": "Entity=%{y}<br>Year=2013<br>Deaths=%{x}<extra></extra>",
           "legendgroup": "Landslide",
           "marker": {
            "color": "#B6E880"
           },
           "name": "Landslide",
           "offsetgroup": "Landslide",
           "orientation": "h",
           "showlegend": true,
           "textposition": "auto",
           "type": "bar",
           "x": [
            235
           ],
           "xaxis": "x",
           "y": [
            "Landslide"
           ],
           "yaxis": "y"
          },
          {
           "alignmentgroup": "True",
           "hovertemplate": "Entity=%{y}<br>Year=2013<br>Deaths=%{x}<extra></extra>",
           "legendgroup": "Mass movement (dry)",
           "marker": {
            "color": "#FF97FF"
           },
           "name": "Mass movement (dry)",
           "offsetgroup": "Mass movement (dry)",
           "orientation": "h",
           "showlegend": true,
           "textposition": "auto",
           "type": "bar",
           "x": [
            46
           ],
           "xaxis": "x",
           "y": [
            "Mass movement (dry)"
           ],
           "yaxis": "y"
          },
          {
           "alignmentgroup": "True",
           "hovertemplate": "Entity=%{y}<br>Year=2013<br>Deaths=%{x}<extra></extra>",
           "legendgroup": "Wildfire",
           "marker": {
            "color": "#636efa"
           },
           "name": "Wildfire",
           "offsetgroup": "Wildfire",
           "orientation": "h",
           "showlegend": true,
           "textposition": "auto",
           "type": "bar",
           "x": [
            35
           ],
           "xaxis": "x",
           "y": [
            "Wildfire"
           ],
           "yaxis": "y"
          }
         ],
         "name": "2013"
        },
        {
         "data": [
          {
           "alignmentgroup": "True",
           "hovertemplate": "Entity=%{y}<br>Year=2014<br>Deaths=%{x}<extra></extra>",
           "legendgroup": "All natural disasters",
           "marker": {
            "color": "#636efa"
           },
           "name": "All natural disasters",
           "offsetgroup": "All natural disasters",
           "orientation": "h",
           "showlegend": true,
           "textposition": "auto",
           "type": "bar",
           "x": [
            20882
           ],
           "xaxis": "x",
           "y": [
            "All natural disasters"
           ],
           "yaxis": "y"
          },
          {
           "alignmentgroup": "True",
           "hovertemplate": "Entity=%{y}<br>Year=2014<br>Deaths=%{x}<extra></extra>",
           "legendgroup": "Earthquake",
           "marker": {
            "color": "#00cc96"
           },
           "name": "Earthquake",
           "offsetgroup": "Earthquake",
           "orientation": "h",
           "showlegend": true,
           "textposition": "auto",
           "type": "bar",
           "x": [
            774
           ],
           "xaxis": "x",
           "y": [
            "Earthquake"
           ],
           "yaxis": "y"
          },
          {
           "alignmentgroup": "True",
           "hovertemplate": "Entity=%{y}<br>Year=2014<br>Deaths=%{x}<extra></extra>",
           "legendgroup": "Epidemic",
           "marker": {
            "color": "#ab63fa"
           },
           "name": "Epidemic",
           "offsetgroup": "Epidemic",
           "orientation": "h",
           "showlegend": true,
           "textposition": "auto",
           "type": "bar",
           "x": [
            12911
           ],
           "xaxis": "x",
           "y": [
            "Epidemic"
           ],
           "yaxis": "y"
          },
          {
           "alignmentgroup": "True",
           "hovertemplate": "Entity=%{y}<br>Year=2014<br>Deaths=%{x}<extra></extra>",
           "legendgroup": "Extreme temperature",
           "marker": {
            "color": "#FFA15A"
           },
           "name": "Extreme temperature",
           "offsetgroup": "Extreme temperature",
           "orientation": "h",
           "showlegend": true,
           "textposition": "auto",
           "type": "bar",
           "x": [
            1168
           ],
           "xaxis": "x",
           "y": [
            "Extreme temperature"
           ],
           "yaxis": "y"
          },
          {
           "alignmentgroup": "True",
           "hovertemplate": "Entity=%{y}<br>Year=2014<br>Deaths=%{x}<extra></extra>",
           "legendgroup": "Extreme weather",
           "marker": {
            "color": "#19d3f3"
           },
           "name": "Extreme weather",
           "offsetgroup": "Extreme weather",
           "orientation": "h",
           "showlegend": true,
           "textposition": "auto",
           "type": "bar",
           "x": [
            1424
           ],
           "xaxis": "x",
           "y": [
            "Extreme weather"
           ],
           "yaxis": "y"
          },
          {
           "alignmentgroup": "True",
           "hovertemplate": "Entity=%{y}<br>Year=2014<br>Deaths=%{x}<extra></extra>",
           "legendgroup": "Flood",
           "marker": {
            "color": "#FF6692"
           },
           "name": "Flood",
           "offsetgroup": "Flood",
           "orientation": "h",
           "showlegend": true,
           "textposition": "auto",
           "type": "bar",
           "x": [
            3532
           ],
           "xaxis": "x",
           "y": [
            "Flood"
           ],
           "yaxis": "y"
          },
          {
           "alignmentgroup": "True",
           "hovertemplate": "Entity=%{y}<br>Year=2014<br>Deaths=%{x}<extra></extra>",
           "legendgroup": "Landslide",
           "marker": {
            "color": "#B6E880"
           },
           "name": "Landslide",
           "offsetgroup": "Landslide",
           "orientation": "h",
           "showlegend": true,
           "textposition": "auto",
           "type": "bar",
           "x": [
            943
           ],
           "xaxis": "x",
           "y": [
            "Landslide"
           ],
           "yaxis": "y"
          },
          {
           "alignmentgroup": "True",
           "hovertemplate": "Entity=%{y}<br>Year=2014<br>Deaths=%{x}<extra></extra>",
           "legendgroup": "Volcanic activity",
           "marker": {
            "color": "#FECB52"
           },
           "name": "Volcanic activity",
           "offsetgroup": "Volcanic activity",
           "orientation": "h",
           "showlegend": true,
           "textposition": "auto",
           "type": "bar",
           "x": [
            102
           ],
           "xaxis": "x",
           "y": [
            "Volcanic activity"
           ],
           "yaxis": "y"
          },
          {
           "alignmentgroup": "True",
           "hovertemplate": "Entity=%{y}<br>Year=2014<br>Deaths=%{x}<extra></extra>",
           "legendgroup": "Wildfire",
           "marker": {
            "color": "#636efa"
           },
           "name": "Wildfire",
           "offsetgroup": "Wildfire",
           "orientation": "h",
           "showlegend": true,
           "textposition": "auto",
           "type": "bar",
           "x": [
            16
           ],
           "xaxis": "x",
           "y": [
            "Wildfire"
           ],
           "yaxis": "y"
          }
         ],
         "name": "2014"
        },
        {
         "data": [
          {
           "alignmentgroup": "True",
           "hovertemplate": "Entity=%{y}<br>Year=2015<br>Deaths=%{x}<extra></extra>",
           "legendgroup": "All natural disasters",
           "marker": {
            "color": "#636efa"
           },
           "name": "All natural disasters",
           "offsetgroup": "All natural disasters",
           "orientation": "h",
           "showlegend": true,
           "textposition": "auto",
           "type": "bar",
           "x": [
            23893
           ],
           "xaxis": "x",
           "y": [
            "All natural disasters"
           ],
           "yaxis": "y"
          },
          {
           "alignmentgroup": "True",
           "hovertemplate": "Entity=%{y}<br>Year=2015<br>Deaths=%{x}<extra></extra>",
           "legendgroup": "Drought",
           "marker": {
            "color": "#EF553B"
           },
           "name": "Drought",
           "offsetgroup": "Drought",
           "orientation": "h",
           "showlegend": true,
           "textposition": "auto",
           "type": "bar",
           "x": [
            35
           ],
           "xaxis": "x",
           "y": [
            "Drought"
           ],
           "yaxis": "y"
          },
          {
           "alignmentgroup": "True",
           "hovertemplate": "Entity=%{y}<br>Year=2015<br>Deaths=%{x}<extra></extra>",
           "legendgroup": "Earthquake",
           "marker": {
            "color": "#00cc96"
           },
           "name": "Earthquake",
           "offsetgroup": "Earthquake",
           "orientation": "h",
           "showlegend": true,
           "textposition": "auto",
           "type": "bar",
           "x": [
            9550
           ],
           "xaxis": "x",
           "y": [
            "Earthquake"
           ],
           "yaxis": "y"
          },
          {
           "alignmentgroup": "True",
           "hovertemplate": "Entity=%{y}<br>Year=2015<br>Deaths=%{x}<extra></extra>",
           "legendgroup": "Epidemic",
           "marker": {
            "color": "#ab63fa"
           },
           "name": "Epidemic",
           "offsetgroup": "Epidemic",
           "orientation": "h",
           "showlegend": true,
           "textposition": "auto",
           "type": "bar",
           "x": [
            1032
           ],
           "xaxis": "x",
           "y": [
            "Epidemic"
           ],
           "yaxis": "y"
          },
          {
           "alignmentgroup": "True",
           "hovertemplate": "Entity=%{y}<br>Year=2015<br>Deaths=%{x}<extra></extra>",
           "legendgroup": "Extreme temperature",
           "marker": {
            "color": "#FFA15A"
           },
           "name": "Extreme temperature",
           "offsetgroup": "Extreme temperature",
           "orientation": "h",
           "showlegend": true,
           "textposition": "auto",
           "type": "bar",
           "x": [
            7425
           ],
           "xaxis": "x",
           "y": [
            "Extreme temperature"
           ],
           "yaxis": "y"
          },
          {
           "alignmentgroup": "True",
           "hovertemplate": "Entity=%{y}<br>Year=2015<br>Deaths=%{x}<extra></extra>",
           "legendgroup": "Extreme weather",
           "marker": {
            "color": "#19d3f3"
           },
           "name": "Extreme weather",
           "offsetgroup": "Extreme weather",
           "orientation": "h",
           "showlegend": true,
           "textposition": "auto",
           "type": "bar",
           "x": [
            1270
           ],
           "xaxis": "x",
           "y": [
            "Extreme weather"
           ],
           "yaxis": "y"
          },
          {
           "alignmentgroup": "True",
           "hovertemplate": "Entity=%{y}<br>Year=2015<br>Deaths=%{x}<extra></extra>",
           "legendgroup": "Flood",
           "marker": {
            "color": "#FF6692"
           },
           "name": "Flood",
           "offsetgroup": "Flood",
           "orientation": "h",
           "showlegend": true,
           "textposition": "auto",
           "type": "bar",
           "x": [
            3495
           ],
           "xaxis": "x",
           "y": [
            "Flood"
           ],
           "yaxis": "y"
          },
          {
           "alignmentgroup": "True",
           "hovertemplate": "Entity=%{y}<br>Year=2015<br>Deaths=%{x}<extra></extra>",
           "legendgroup": "Landslide",
           "marker": {
            "color": "#B6E880"
           },
           "name": "Landslide",
           "offsetgroup": "Landslide",
           "orientation": "h",
           "showlegend": true,
           "textposition": "auto",
           "type": "bar",
           "x": [
            1006
           ],
           "xaxis": "x",
           "y": [
            "Landslide"
           ],
           "yaxis": "y"
          },
          {
           "alignmentgroup": "True",
           "hovertemplate": "Entity=%{y}<br>Year=2015<br>Deaths=%{x}<extra></extra>",
           "legendgroup": "Mass movement (dry)",
           "marker": {
            "color": "#FF97FF"
           },
           "name": "Mass movement (dry)",
           "offsetgroup": "Mass movement (dry)",
           "orientation": "h",
           "showlegend": true,
           "textposition": "auto",
           "type": "bar",
           "x": [
            13
           ],
           "xaxis": "x",
           "y": [
            "Mass movement (dry)"
           ],
           "yaxis": "y"
          },
          {
           "alignmentgroup": "True",
           "hovertemplate": "Entity=%{y}<br>Year=2015<br>Deaths=%{x}<extra></extra>",
           "legendgroup": "Wildfire",
           "marker": {
            "color": "#636efa"
           },
           "name": "Wildfire",
           "offsetgroup": "Wildfire",
           "orientation": "h",
           "showlegend": true,
           "textposition": "auto",
           "type": "bar",
           "x": [
            67
           ],
           "xaxis": "x",
           "y": [
            "Wildfire"
           ],
           "yaxis": "y"
          }
         ],
         "name": "2015"
        },
        {
         "data": [
          {
           "alignmentgroup": "True",
           "hovertemplate": "Entity=%{y}<br>Year=2016<br>Deaths=%{x}<extra></extra>",
           "legendgroup": "All natural disasters",
           "marker": {
            "color": "#636efa"
           },
           "name": "All natural disasters",
           "offsetgroup": "All natural disasters",
           "orientation": "h",
           "showlegend": true,
           "textposition": "auto",
           "type": "bar",
           "x": [
            10201
           ],
           "xaxis": "x",
           "y": [
            "All natural disasters"
           ],
           "yaxis": "y"
          },
          {
           "alignmentgroup": "True",
           "hovertemplate": "Entity=%{y}<br>Year=2016<br>Deaths=%{x}<extra></extra>",
           "legendgroup": "Earthquake",
           "marker": {
            "color": "#00cc96"
           },
           "name": "Earthquake",
           "offsetgroup": "Earthquake",
           "orientation": "h",
           "showlegend": true,
           "textposition": "auto",
           "type": "bar",
           "x": [
            1311
           ],
           "xaxis": "x",
           "y": [
            "Earthquake"
           ],
           "yaxis": "y"
          },
          {
           "alignmentgroup": "True",
           "hovertemplate": "Entity=%{y}<br>Year=2016<br>Deaths=%{x}<extra></extra>",
           "legendgroup": "Epidemic",
           "marker": {
            "color": "#ab63fa"
           },
           "name": "Epidemic",
           "offsetgroup": "Epidemic",
           "orientation": "h",
           "showlegend": true,
           "textposition": "auto",
           "type": "bar",
           "x": [
            1520
           ],
           "xaxis": "x",
           "y": [
            "Epidemic"
           ],
           "yaxis": "y"
          },
          {
           "alignmentgroup": "True",
           "hovertemplate": "Entity=%{y}<br>Year=2016<br>Deaths=%{x}<extra></extra>",
           "legendgroup": "Extreme temperature",
           "marker": {
            "color": "#FFA15A"
           },
           "name": "Extreme temperature",
           "offsetgroup": "Extreme temperature",
           "orientation": "h",
           "showlegend": true,
           "textposition": "auto",
           "type": "bar",
           "x": [
            490
           ],
           "xaxis": "x",
           "y": [
            "Extreme temperature"
           ],
           "yaxis": "y"
          },
          {
           "alignmentgroup": "True",
           "hovertemplate": "Entity=%{y}<br>Year=2016<br>Deaths=%{x}<extra></extra>",
           "legendgroup": "Extreme weather",
           "marker": {
            "color": "#19d3f3"
           },
           "name": "Extreme weather",
           "offsetgroup": "Extreme weather",
           "orientation": "h",
           "showlegend": true,
           "textposition": "auto",
           "type": "bar",
           "x": [
            1760
           ],
           "xaxis": "x",
           "y": [
            "Extreme weather"
           ],
           "yaxis": "y"
          },
          {
           "alignmentgroup": "True",
           "hovertemplate": "Entity=%{y}<br>Year=2016<br>Deaths=%{x}<extra></extra>",
           "legendgroup": "Flood",
           "marker": {
            "color": "#FF6692"
           },
           "name": "Flood",
           "offsetgroup": "Flood",
           "orientation": "h",
           "showlegend": true,
           "textposition": "auto",
           "type": "bar",
           "x": [
            4720
           ],
           "xaxis": "x",
           "y": [
            "Flood"
           ],
           "yaxis": "y"
          },
          {
           "alignmentgroup": "True",
           "hovertemplate": "Entity=%{y}<br>Year=2016<br>Deaths=%{x}<extra></extra>",
           "legendgroup": "Landslide",
           "marker": {
            "color": "#B6E880"
           },
           "name": "Landslide",
           "offsetgroup": "Landslide",
           "orientation": "h",
           "showlegend": true,
           "textposition": "auto",
           "type": "bar",
           "x": [
            361
           ],
           "xaxis": "x",
           "y": [
            "Landslide"
           ],
           "yaxis": "y"
          },
          {
           "alignmentgroup": "True",
           "hovertemplate": "Entity=%{y}<br>Year=2016<br>Deaths=%{x}<extra></extra>",
           "legendgroup": "Wildfire",
           "marker": {
            "color": "#636efa"
           },
           "name": "Wildfire",
           "offsetgroup": "Wildfire",
           "orientation": "h",
           "showlegend": true,
           "textposition": "auto",
           "type": "bar",
           "x": [
            39
           ],
           "xaxis": "x",
           "y": [
            "Wildfire"
           ],
           "yaxis": "y"
          }
         ],
         "name": "2016"
        },
        {
         "data": [
          {
           "alignmentgroup": "True",
           "hovertemplate": "Entity=%{y}<br>Year=2017<br>Deaths=%{x}<extra></extra>",
           "legendgroup": "All natural disasters",
           "marker": {
            "color": "#636efa"
           },
           "name": "All natural disasters",
           "offsetgroup": "All natural disasters",
           "orientation": "h",
           "showlegend": true,
           "textposition": "auto",
           "type": "bar",
           "x": [
            2087
           ],
           "xaxis": "x",
           "y": [
            "All natural disasters"
           ],
           "yaxis": "y"
          },
          {
           "alignmentgroup": "True",
           "hovertemplate": "Entity=%{y}<br>Year=2017<br>Deaths=%{x}<extra></extra>",
           "legendgroup": "Earthquake",
           "marker": {
            "color": "#00cc96"
           },
           "name": "Earthquake",
           "offsetgroup": "Earthquake",
           "orientation": "h",
           "showlegend": true,
           "textposition": "auto",
           "type": "bar",
           "x": [
            49
           ],
           "xaxis": "x",
           "y": [
            "Earthquake"
           ],
           "yaxis": "y"
          },
          {
           "alignmentgroup": "True",
           "hovertemplate": "Entity=%{y}<br>Year=2017<br>Deaths=%{x}<extra></extra>",
           "legendgroup": "Epidemic",
           "marker": {
            "color": "#ab63fa"
           },
           "name": "Epidemic",
           "offsetgroup": "Epidemic",
           "orientation": "h",
           "showlegend": true,
           "textposition": "auto",
           "type": "bar",
           "x": [
            386
           ],
           "xaxis": "x",
           "y": [
            "Epidemic"
           ],
           "yaxis": "y"
          },
          {
           "alignmentgroup": "True",
           "hovertemplate": "Entity=%{y}<br>Year=2017<br>Deaths=%{x}<extra></extra>",
           "legendgroup": "Extreme temperature",
           "marker": {
            "color": "#FFA15A"
           },
           "name": "Extreme temperature",
           "offsetgroup": "Extreme temperature",
           "orientation": "h",
           "showlegend": true,
           "textposition": "auto",
           "type": "bar",
           "x": [
            130
           ],
           "xaxis": "x",
           "y": [
            "Extreme temperature"
           ],
           "yaxis": "y"
          },
          {
           "alignmentgroup": "True",
           "hovertemplate": "Entity=%{y}<br>Year=2017<br>Deaths=%{x}<extra></extra>",
           "legendgroup": "Extreme weather",
           "marker": {
            "color": "#19d3f3"
           },
           "name": "Extreme weather",
           "offsetgroup": "Extreme weather",
           "orientation": "h",
           "showlegend": true,
           "textposition": "auto",
           "type": "bar",
           "x": [
            394
           ],
           "xaxis": "x",
           "y": [
            "Extreme weather"
           ],
           "yaxis": "y"
          },
          {
           "alignmentgroup": "True",
           "hovertemplate": "Entity=%{y}<br>Year=2017<br>Deaths=%{x}<extra></extra>",
           "legendgroup": "Flood",
           "marker": {
            "color": "#FF6692"
           },
           "name": "Flood",
           "offsetgroup": "Flood",
           "orientation": "h",
           "showlegend": true,
           "textposition": "auto",
           "type": "bar",
           "x": [
            648
           ],
           "xaxis": "x",
           "y": [
            "Flood"
           ],
           "yaxis": "y"
          },
          {
           "alignmentgroup": "True",
           "hovertemplate": "Entity=%{y}<br>Year=2017<br>Deaths=%{x}<extra></extra>",
           "legendgroup": "Landslide",
           "marker": {
            "color": "#B6E880"
           },
           "name": "Landslide",
           "offsetgroup": "Landslide",
           "orientation": "h",
           "showlegend": true,
           "textposition": "auto",
           "type": "bar",
           "x": [
            405
           ],
           "xaxis": "x",
           "y": [
            "Landslide"
           ],
           "yaxis": "y"
          },
          {
           "alignmentgroup": "True",
           "hovertemplate": "Entity=%{y}<br>Year=2017<br>Deaths=%{x}<extra></extra>",
           "legendgroup": "Wildfire",
           "marker": {
            "color": "#636efa"
           },
           "name": "Wildfire",
           "offsetgroup": "Wildfire",
           "orientation": "h",
           "showlegend": true,
           "textposition": "auto",
           "type": "bar",
           "x": [
            75
           ],
           "xaxis": "x",
           "y": [
            "Wildfire"
           ],
           "yaxis": "y"
          }
         ],
         "name": "2017"
        }
       ],
       "layout": {
        "barmode": "relative",
        "height": 800,
        "legend": {
         "title": {
          "text": "Entity"
         },
         "tracegroupgap": 0
        },
        "margin": {
         "t": 60
        },
        "paper_bgcolor": "rgba(0,0,0,0)",
        "plot_bgcolor": "rgba(0,0,0,0)",
        "showlegend": false,
        "sliders": [
         {
          "active": 0,
          "currentvalue": {
           "prefix": "Year="
          },
          "len": 0.9,
          "pad": {
           "b": 10,
           "t": 60
          },
          "steps": [
           {
            "args": [
             [
              "1991"
             ],
             {
              "frame": {
               "duration": 0,
               "redraw": true
              },
              "fromcurrent": true,
              "mode": "immediate",
              "transition": {
               "duration": 0,
               "easing": "linear"
              }
             }
            ],
            "label": "1991",
            "method": "animate"
           },
           {
            "args": [
             [
              "1992"
             ],
             {
              "frame": {
               "duration": 0,
               "redraw": true
              },
              "fromcurrent": true,
              "mode": "immediate",
              "transition": {
               "duration": 0,
               "easing": "linear"
              }
             }
            ],
            "label": "1992",
            "method": "animate"
           },
           {
            "args": [
             [
              "1993"
             ],
             {
              "frame": {
               "duration": 0,
               "redraw": true
              },
              "fromcurrent": true,
              "mode": "immediate",
              "transition": {
               "duration": 0,
               "easing": "linear"
              }
             }
            ],
            "label": "1993",
            "method": "animate"
           },
           {
            "args": [
             [
              "1994"
             ],
             {
              "frame": {
               "duration": 0,
               "redraw": true
              },
              "fromcurrent": true,
              "mode": "immediate",
              "transition": {
               "duration": 0,
               "easing": "linear"
              }
             }
            ],
            "label": "1994",
            "method": "animate"
           },
           {
            "args": [
             [
              "1995"
             ],
             {
              "frame": {
               "duration": 0,
               "redraw": true
              },
              "fromcurrent": true,
              "mode": "immediate",
              "transition": {
               "duration": 0,
               "easing": "linear"
              }
             }
            ],
            "label": "1995",
            "method": "animate"
           },
           {
            "args": [
             [
              "1996"
             ],
             {
              "frame": {
               "duration": 0,
               "redraw": true
              },
              "fromcurrent": true,
              "mode": "immediate",
              "transition": {
               "duration": 0,
               "easing": "linear"
              }
             }
            ],
            "label": "1996",
            "method": "animate"
           },
           {
            "args": [
             [
              "1997"
             ],
             {
              "frame": {
               "duration": 0,
               "redraw": true
              },
              "fromcurrent": true,
              "mode": "immediate",
              "transition": {
               "duration": 0,
               "easing": "linear"
              }
             }
            ],
            "label": "1997",
            "method": "animate"
           },
           {
            "args": [
             [
              "1998"
             ],
             {
              "frame": {
               "duration": 0,
               "redraw": true
              },
              "fromcurrent": true,
              "mode": "immediate",
              "transition": {
               "duration": 0,
               "easing": "linear"
              }
             }
            ],
            "label": "1998",
            "method": "animate"
           },
           {
            "args": [
             [
              "1999"
             ],
             {
              "frame": {
               "duration": 0,
               "redraw": true
              },
              "fromcurrent": true,
              "mode": "immediate",
              "transition": {
               "duration": 0,
               "easing": "linear"
              }
             }
            ],
            "label": "1999",
            "method": "animate"
           },
           {
            "args": [
             [
              "2000"
             ],
             {
              "frame": {
               "duration": 0,
               "redraw": true
              },
              "fromcurrent": true,
              "mode": "immediate",
              "transition": {
               "duration": 0,
               "easing": "linear"
              }
             }
            ],
            "label": "2000",
            "method": "animate"
           },
           {
            "args": [
             [
              "2001"
             ],
             {
              "frame": {
               "duration": 0,
               "redraw": true
              },
              "fromcurrent": true,
              "mode": "immediate",
              "transition": {
               "duration": 0,
               "easing": "linear"
              }
             }
            ],
            "label": "2001",
            "method": "animate"
           },
           {
            "args": [
             [
              "2002"
             ],
             {
              "frame": {
               "duration": 0,
               "redraw": true
              },
              "fromcurrent": true,
              "mode": "immediate",
              "transition": {
               "duration": 0,
               "easing": "linear"
              }
             }
            ],
            "label": "2002",
            "method": "animate"
           },
           {
            "args": [
             [
              "2003"
             ],
             {
              "frame": {
               "duration": 0,
               "redraw": true
              },
              "fromcurrent": true,
              "mode": "immediate",
              "transition": {
               "duration": 0,
               "easing": "linear"
              }
             }
            ],
            "label": "2003",
            "method": "animate"
           },
           {
            "args": [
             [
              "2004"
             ],
             {
              "frame": {
               "duration": 0,
               "redraw": true
              },
              "fromcurrent": true,
              "mode": "immediate",
              "transition": {
               "duration": 0,
               "easing": "linear"
              }
             }
            ],
            "label": "2004",
            "method": "animate"
           },
           {
            "args": [
             [
              "2005"
             ],
             {
              "frame": {
               "duration": 0,
               "redraw": true
              },
              "fromcurrent": true,
              "mode": "immediate",
              "transition": {
               "duration": 0,
               "easing": "linear"
              }
             }
            ],
            "label": "2005",
            "method": "animate"
           },
           {
            "args": [
             [
              "2006"
             ],
             {
              "frame": {
               "duration": 0,
               "redraw": true
              },
              "fromcurrent": true,
              "mode": "immediate",
              "transition": {
               "duration": 0,
               "easing": "linear"
              }
             }
            ],
            "label": "2006",
            "method": "animate"
           },
           {
            "args": [
             [
              "2007"
             ],
             {
              "frame": {
               "duration": 0,
               "redraw": true
              },
              "fromcurrent": true,
              "mode": "immediate",
              "transition": {
               "duration": 0,
               "easing": "linear"
              }
             }
            ],
            "label": "2007",
            "method": "animate"
           },
           {
            "args": [
             [
              "2008"
             ],
             {
              "frame": {
               "duration": 0,
               "redraw": true
              },
              "fromcurrent": true,
              "mode": "immediate",
              "transition": {
               "duration": 0,
               "easing": "linear"
              }
             }
            ],
            "label": "2008",
            "method": "animate"
           },
           {
            "args": [
             [
              "2009"
             ],
             {
              "frame": {
               "duration": 0,
               "redraw": true
              },
              "fromcurrent": true,
              "mode": "immediate",
              "transition": {
               "duration": 0,
               "easing": "linear"
              }
             }
            ],
            "label": "2009",
            "method": "animate"
           },
           {
            "args": [
             [
              "2010"
             ],
             {
              "frame": {
               "duration": 0,
               "redraw": true
              },
              "fromcurrent": true,
              "mode": "immediate",
              "transition": {
               "duration": 0,
               "easing": "linear"
              }
             }
            ],
            "label": "2010",
            "method": "animate"
           },
           {
            "args": [
             [
              "2011"
             ],
             {
              "frame": {
               "duration": 0,
               "redraw": true
              },
              "fromcurrent": true,
              "mode": "immediate",
              "transition": {
               "duration": 0,
               "easing": "linear"
              }
             }
            ],
            "label": "2011",
            "method": "animate"
           },
           {
            "args": [
             [
              "2012"
             ],
             {
              "frame": {
               "duration": 0,
               "redraw": true
              },
              "fromcurrent": true,
              "mode": "immediate",
              "transition": {
               "duration": 0,
               "easing": "linear"
              }
             }
            ],
            "label": "2012",
            "method": "animate"
           },
           {
            "args": [
             [
              "2013"
             ],
             {
              "frame": {
               "duration": 0,
               "redraw": true
              },
              "fromcurrent": true,
              "mode": "immediate",
              "transition": {
               "duration": 0,
               "easing": "linear"
              }
             }
            ],
            "label": "2013",
            "method": "animate"
           },
           {
            "args": [
             [
              "2014"
             ],
             {
              "frame": {
               "duration": 0,
               "redraw": true
              },
              "fromcurrent": true,
              "mode": "immediate",
              "transition": {
               "duration": 0,
               "easing": "linear"
              }
             }
            ],
            "label": "2014",
            "method": "animate"
           },
           {
            "args": [
             [
              "2015"
             ],
             {
              "frame": {
               "duration": 0,
               "redraw": true
              },
              "fromcurrent": true,
              "mode": "immediate",
              "transition": {
               "duration": 0,
               "easing": "linear"
              }
             }
            ],
            "label": "2015",
            "method": "animate"
           },
           {
            "args": [
             [
              "2016"
             ],
             {
              "frame": {
               "duration": 0,
               "redraw": true
              },
              "fromcurrent": true,
              "mode": "immediate",
              "transition": {
               "duration": 0,
               "easing": "linear"
              }
             }
            ],
            "label": "2016",
            "method": "animate"
           },
           {
            "args": [
             [
              "2017"
             ],
             {
              "frame": {
               "duration": 0,
               "redraw": true
              },
              "fromcurrent": true,
              "mode": "immediate",
              "transition": {
               "duration": 0,
               "easing": "linear"
              }
             }
            ],
            "label": "2017",
            "method": "animate"
           }
          ],
          "x": 0.1,
          "xanchor": "left",
          "y": 0,
          "yanchor": "top"
         }
        ],
        "template": {
         "data": {
          "bar": [
           {
            "error_x": {
             "color": "#2a3f5f"
            },
            "error_y": {
             "color": "#2a3f5f"
            },
            "marker": {
             "line": {
              "color": "#E5ECF6",
              "width": 0.5
             }
            },
            "type": "bar"
           }
          ],
          "barpolar": [
           {
            "marker": {
             "line": {
              "color": "#E5ECF6",
              "width": 0.5
             }
            },
            "type": "barpolar"
           }
          ],
          "carpet": [
           {
            "aaxis": {
             "endlinecolor": "#2a3f5f",
             "gridcolor": "white",
             "linecolor": "white",
             "minorgridcolor": "white",
             "startlinecolor": "#2a3f5f"
            },
            "baxis": {
             "endlinecolor": "#2a3f5f",
             "gridcolor": "white",
             "linecolor": "white",
             "minorgridcolor": "white",
             "startlinecolor": "#2a3f5f"
            },
            "type": "carpet"
           }
          ],
          "choropleth": [
           {
            "colorbar": {
             "outlinewidth": 0,
             "ticks": ""
            },
            "type": "choropleth"
           }
          ],
          "contour": [
           {
            "colorbar": {
             "outlinewidth": 0,
             "ticks": ""
            },
            "colorscale": [
             [
              0,
              "#0d0887"
             ],
             [
              0.1111111111111111,
              "#46039f"
             ],
             [
              0.2222222222222222,
              "#7201a8"
             ],
             [
              0.3333333333333333,
              "#9c179e"
             ],
             [
              0.4444444444444444,
              "#bd3786"
             ],
             [
              0.5555555555555556,
              "#d8576b"
             ],
             [
              0.6666666666666666,
              "#ed7953"
             ],
             [
              0.7777777777777778,
              "#fb9f3a"
             ],
             [
              0.8888888888888888,
              "#fdca26"
             ],
             [
              1,
              "#f0f921"
             ]
            ],
            "type": "contour"
           }
          ],
          "contourcarpet": [
           {
            "colorbar": {
             "outlinewidth": 0,
             "ticks": ""
            },
            "type": "contourcarpet"
           }
          ],
          "heatmap": [
           {
            "colorbar": {
             "outlinewidth": 0,
             "ticks": ""
            },
            "colorscale": [
             [
              0,
              "#0d0887"
             ],
             [
              0.1111111111111111,
              "#46039f"
             ],
             [
              0.2222222222222222,
              "#7201a8"
             ],
             [
              0.3333333333333333,
              "#9c179e"
             ],
             [
              0.4444444444444444,
              "#bd3786"
             ],
             [
              0.5555555555555556,
              "#d8576b"
             ],
             [
              0.6666666666666666,
              "#ed7953"
             ],
             [
              0.7777777777777778,
              "#fb9f3a"
             ],
             [
              0.8888888888888888,
              "#fdca26"
             ],
             [
              1,
              "#f0f921"
             ]
            ],
            "type": "heatmap"
           }
          ],
          "heatmapgl": [
           {
            "colorbar": {
             "outlinewidth": 0,
             "ticks": ""
            },
            "colorscale": [
             [
              0,
              "#0d0887"
             ],
             [
              0.1111111111111111,
              "#46039f"
             ],
             [
              0.2222222222222222,
              "#7201a8"
             ],
             [
              0.3333333333333333,
              "#9c179e"
             ],
             [
              0.4444444444444444,
              "#bd3786"
             ],
             [
              0.5555555555555556,
              "#d8576b"
             ],
             [
              0.6666666666666666,
              "#ed7953"
             ],
             [
              0.7777777777777778,
              "#fb9f3a"
             ],
             [
              0.8888888888888888,
              "#fdca26"
             ],
             [
              1,
              "#f0f921"
             ]
            ],
            "type": "heatmapgl"
           }
          ],
          "histogram": [
           {
            "marker": {
             "colorbar": {
              "outlinewidth": 0,
              "ticks": ""
             }
            },
            "type": "histogram"
           }
          ],
          "histogram2d": [
           {
            "colorbar": {
             "outlinewidth": 0,
             "ticks": ""
            },
            "colorscale": [
             [
              0,
              "#0d0887"
             ],
             [
              0.1111111111111111,
              "#46039f"
             ],
             [
              0.2222222222222222,
              "#7201a8"
             ],
             [
              0.3333333333333333,
              "#9c179e"
             ],
             [
              0.4444444444444444,
              "#bd3786"
             ],
             [
              0.5555555555555556,
              "#d8576b"
             ],
             [
              0.6666666666666666,
              "#ed7953"
             ],
             [
              0.7777777777777778,
              "#fb9f3a"
             ],
             [
              0.8888888888888888,
              "#fdca26"
             ],
             [
              1,
              "#f0f921"
             ]
            ],
            "type": "histogram2d"
           }
          ],
          "histogram2dcontour": [
           {
            "colorbar": {
             "outlinewidth": 0,
             "ticks": ""
            },
            "colorscale": [
             [
              0,
              "#0d0887"
             ],
             [
              0.1111111111111111,
              "#46039f"
             ],
             [
              0.2222222222222222,
              "#7201a8"
             ],
             [
              0.3333333333333333,
              "#9c179e"
             ],
             [
              0.4444444444444444,
              "#bd3786"
             ],
             [
              0.5555555555555556,
              "#d8576b"
             ],
             [
              0.6666666666666666,
              "#ed7953"
             ],
             [
              0.7777777777777778,
              "#fb9f3a"
             ],
             [
              0.8888888888888888,
              "#fdca26"
             ],
             [
              1,
              "#f0f921"
             ]
            ],
            "type": "histogram2dcontour"
           }
          ],
          "mesh3d": [
           {
            "colorbar": {
             "outlinewidth": 0,
             "ticks": ""
            },
            "type": "mesh3d"
           }
          ],
          "parcoords": [
           {
            "line": {
             "colorbar": {
              "outlinewidth": 0,
              "ticks": ""
             }
            },
            "type": "parcoords"
           }
          ],
          "pie": [
           {
            "automargin": true,
            "type": "pie"
           }
          ],
          "scatter": [
           {
            "marker": {
             "colorbar": {
              "outlinewidth": 0,
              "ticks": ""
             }
            },
            "type": "scatter"
           }
          ],
          "scatter3d": [
           {
            "line": {
             "colorbar": {
              "outlinewidth": 0,
              "ticks": ""
             }
            },
            "marker": {
             "colorbar": {
              "outlinewidth": 0,
              "ticks": ""
             }
            },
            "type": "scatter3d"
           }
          ],
          "scattercarpet": [
           {
            "marker": {
             "colorbar": {
              "outlinewidth": 0,
              "ticks": ""
             }
            },
            "type": "scattercarpet"
           }
          ],
          "scattergeo": [
           {
            "marker": {
             "colorbar": {
              "outlinewidth": 0,
              "ticks": ""
             }
            },
            "type": "scattergeo"
           }
          ],
          "scattergl": [
           {
            "marker": {
             "colorbar": {
              "outlinewidth": 0,
              "ticks": ""
             }
            },
            "type": "scattergl"
           }
          ],
          "scattermapbox": [
           {
            "marker": {
             "colorbar": {
              "outlinewidth": 0,
              "ticks": ""
             }
            },
            "type": "scattermapbox"
           }
          ],
          "scatterpolar": [
           {
            "marker": {
             "colorbar": {
              "outlinewidth": 0,
              "ticks": ""
             }
            },
            "type": "scatterpolar"
           }
          ],
          "scatterpolargl": [
           {
            "marker": {
             "colorbar": {
              "outlinewidth": 0,
              "ticks": ""
             }
            },
            "type": "scatterpolargl"
           }
          ],
          "scatterternary": [
           {
            "marker": {
             "colorbar": {
              "outlinewidth": 0,
              "ticks": ""
             }
            },
            "type": "scatterternary"
           }
          ],
          "surface": [
           {
            "colorbar": {
             "outlinewidth": 0,
             "ticks": ""
            },
            "colorscale": [
             [
              0,
              "#0d0887"
             ],
             [
              0.1111111111111111,
              "#46039f"
             ],
             [
              0.2222222222222222,
              "#7201a8"
             ],
             [
              0.3333333333333333,
              "#9c179e"
             ],
             [
              0.4444444444444444,
              "#bd3786"
             ],
             [
              0.5555555555555556,
              "#d8576b"
             ],
             [
              0.6666666666666666,
              "#ed7953"
             ],
             [
              0.7777777777777778,
              "#fb9f3a"
             ],
             [
              0.8888888888888888,
              "#fdca26"
             ],
             [
              1,
              "#f0f921"
             ]
            ],
            "type": "surface"
           }
          ],
          "table": [
           {
            "cells": {
             "fill": {
              "color": "#EBF0F8"
             },
             "line": {
              "color": "white"
             }
            },
            "header": {
             "fill": {
              "color": "#C8D4E3"
             },
             "line": {
              "color": "white"
             }
            },
            "type": "table"
           }
          ]
         },
         "layout": {
          "annotationdefaults": {
           "arrowcolor": "#2a3f5f",
           "arrowhead": 0,
           "arrowwidth": 1
          },
          "coloraxis": {
           "colorbar": {
            "outlinewidth": 0,
            "ticks": ""
           }
          },
          "colorscale": {
           "diverging": [
            [
             0,
             "#8e0152"
            ],
            [
             0.1,
             "#c51b7d"
            ],
            [
             0.2,
             "#de77ae"
            ],
            [
             0.3,
             "#f1b6da"
            ],
            [
             0.4,
             "#fde0ef"
            ],
            [
             0.5,
             "#f7f7f7"
            ],
            [
             0.6,
             "#e6f5d0"
            ],
            [
             0.7,
             "#b8e186"
            ],
            [
             0.8,
             "#7fbc41"
            ],
            [
             0.9,
             "#4d9221"
            ],
            [
             1,
             "#276419"
            ]
           ],
           "sequential": [
            [
             0,
             "#0d0887"
            ],
            [
             0.1111111111111111,
             "#46039f"
            ],
            [
             0.2222222222222222,
             "#7201a8"
            ],
            [
             0.3333333333333333,
             "#9c179e"
            ],
            [
             0.4444444444444444,
             "#bd3786"
            ],
            [
             0.5555555555555556,
             "#d8576b"
            ],
            [
             0.6666666666666666,
             "#ed7953"
            ],
            [
             0.7777777777777778,
             "#fb9f3a"
            ],
            [
             0.8888888888888888,
             "#fdca26"
            ],
            [
             1,
             "#f0f921"
            ]
           ],
           "sequentialminus": [
            [
             0,
             "#0d0887"
            ],
            [
             0.1111111111111111,
             "#46039f"
            ],
            [
             0.2222222222222222,
             "#7201a8"
            ],
            [
             0.3333333333333333,
             "#9c179e"
            ],
            [
             0.4444444444444444,
             "#bd3786"
            ],
            [
             0.5555555555555556,
             "#d8576b"
            ],
            [
             0.6666666666666666,
             "#ed7953"
            ],
            [
             0.7777777777777778,
             "#fb9f3a"
            ],
            [
             0.8888888888888888,
             "#fdca26"
            ],
            [
             1,
             "#f0f921"
            ]
           ]
          },
          "colorway": [
           "#636efa",
           "#EF553B",
           "#00cc96",
           "#ab63fa",
           "#FFA15A",
           "#19d3f3",
           "#FF6692",
           "#B6E880",
           "#FF97FF",
           "#FECB52"
          ],
          "font": {
           "color": "#2a3f5f"
          },
          "geo": {
           "bgcolor": "white",
           "lakecolor": "white",
           "landcolor": "#E5ECF6",
           "showlakes": true,
           "showland": true,
           "subunitcolor": "white"
          },
          "hoverlabel": {
           "align": "left"
          },
          "hovermode": "closest",
          "mapbox": {
           "style": "light"
          },
          "paper_bgcolor": "white",
          "plot_bgcolor": "#E5ECF6",
          "polar": {
           "angularaxis": {
            "gridcolor": "white",
            "linecolor": "white",
            "ticks": ""
           },
           "bgcolor": "#E5ECF6",
           "radialaxis": {
            "gridcolor": "white",
            "linecolor": "white",
            "ticks": ""
           }
          },
          "scene": {
           "xaxis": {
            "backgroundcolor": "#E5ECF6",
            "gridcolor": "white",
            "gridwidth": 2,
            "linecolor": "white",
            "showbackground": true,
            "ticks": "",
            "zerolinecolor": "white"
           },
           "yaxis": {
            "backgroundcolor": "#E5ECF6",
            "gridcolor": "white",
            "gridwidth": 2,
            "linecolor": "white",
            "showbackground": true,
            "ticks": "",
            "zerolinecolor": "white"
           },
           "zaxis": {
            "backgroundcolor": "#E5ECF6",
            "gridcolor": "white",
            "gridwidth": 2,
            "linecolor": "white",
            "showbackground": true,
            "ticks": "",
            "zerolinecolor": "white"
           }
          },
          "shapedefaults": {
           "line": {
            "color": "#2a3f5f"
           }
          },
          "ternary": {
           "aaxis": {
            "gridcolor": "white",
            "linecolor": "white",
            "ticks": ""
           },
           "baxis": {
            "gridcolor": "white",
            "linecolor": "white",
            "ticks": ""
           },
           "bgcolor": "#E5ECF6",
           "caxis": {
            "gridcolor": "white",
            "linecolor": "white",
            "ticks": ""
           }
          },
          "title": {
           "x": 0.05
          },
          "xaxis": {
           "automargin": true,
           "gridcolor": "white",
           "linecolor": "white",
           "ticks": "",
           "title": {
            "standoff": 15
           },
           "zerolinecolor": "white",
           "zerolinewidth": 2
          },
          "yaxis": {
           "automargin": true,
           "gridcolor": "white",
           "linecolor": "white",
           "ticks": "",
           "title": {
            "standoff": 15
           },
           "zerolinecolor": "white",
           "zerolinewidth": 2
          }
         }
        },
        "title": {
         "text": "Evolution of Natural Disasters"
        },
        "updatemenus": [
         {
          "buttons": [
           {
            "args": [
             null,
             {
              "frame": {
               "duration": 500,
               "redraw": true
              },
              "fromcurrent": true,
              "mode": "immediate",
              "transition": {
               "duration": 500,
               "easing": "linear"
              }
             }
            ],
            "label": "&#9654;",
            "method": "animate"
           },
           {
            "args": [
             [
              null
             ],
             {
              "frame": {
               "duration": 0,
               "redraw": true
              },
              "fromcurrent": true,
              "mode": "immediate",
              "transition": {
               "duration": 0,
               "easing": "linear"
              }
             }
            ],
            "label": "&#9724;",
            "method": "animate"
           }
          ],
          "direction": "left",
          "pad": {
           "r": 10,
           "t": 70
          },
          "showactive": false,
          "type": "buttons",
          "x": 0.1,
          "xanchor": "right",
          "y": 0,
          "yanchor": "top"
         }
        ],
        "width": 1000,
        "xaxis": {
         "anchor": "y",
         "domain": [
          0,
          1
         ],
         "range": [
          0,
          329900
         ],
         "showgrid": false,
         "title": {
          "text": "Number of Deaths"
         }
        },
        "yaxis": {
         "anchor": "x",
         "categoryarray": [
          "Wildfire",
          "Volcanic activity",
          "Mass movement (dry)",
          "Landslide",
          "Flood",
          "Extreme weather",
          "Extreme temperature",
          "Epidemic",
          "Earthquake",
          "Drought",
          "All natural disasters"
         ],
         "categoryorder": "array",
         "domain": [
          0,
          1
         ],
         "showgrid": false,
         "title": {
          "text": "Number of Entities"
         }
        }
       }
      }
     },
     "metadata": {}
    }
   ],
   "source": [
    "import plotly.express as px\n",
    "from vega_datasets import data\n",
    "df = data.disasters()\n",
    "df = df[df.Year > 1990]\n",
    "fig = px.bar(df,\n",
    "             y=\"Entity\",\n",
    "             x=\"Deaths\",\n",
    "             animation_frame=\"Year\",\n",
    "             orientation='h' ,\n",
    "             range_x=[0, df.Deaths.max()],\n",
    "             color=\"Entity\")\n",
    "# improve aesthetics (size, grids etc.)\n",
    "fig.update_layout(width=1000,\n",
    "                  height=800,\n",
    "                  xaxis_showgrid=False,\n",
    "                  yaxis_showgrid=False,\n",
    "                  paper_bgcolor= 'rgba(0,0,0,0)',\n",
    "                  plot_bgcolor= 'rgba(0,0,0,0)',\n",
    "                  title_text= 'Evolution of Natural Disasters',\n",
    "                  showlegend=False)\n",
    "fig.update_xaxes(title_text= 'Number of Deaths')\n",
    "fig.update_yaxes(title_text= 'Number of Entities')\n",
    "fig.show()"
   ]
  },
  {
   "cell_type": "code",
   "execution_count": null,
   "metadata": {},
   "outputs": [],
   "source": []
  }
 ]
}